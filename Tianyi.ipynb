{
 "metadata": {
  "language_info": {
   "codemirror_mode": {
    "name": "ipython",
    "version": 3
   },
   "file_extension": ".py",
   "mimetype": "text/x-python",
   "name": "python",
   "nbconvert_exporter": "python",
   "pygments_lexer": "ipython3",
   "version": "3.8.5"
  },
  "orig_nbformat": 2,
  "kernelspec": {
   "name": "python3",
   "display_name": "Python 3.8.5 64-bit ('base': conda)",
   "metadata": {
    "interpreter": {
     "hash": "907962bb0457507ec70e80c5b310b05e0733e0acb39410aad0feb59d5741b43a"
    }
   }
  }
 },
 "nbformat": 4,
 "nbformat_minor": 2,
 "cells": [
  {
   "cell_type": "code",
   "execution_count": 123,
   "metadata": {},
   "outputs": [],
   "source": [
    "# Import packages for later use\n",
    "import numpy as np\n",
    "import pandas as pd\n",
    "import seaborn as sns\n",
    "import scipy.stats as st\n",
    "import matplotlib.pyplot as plt\n",
    "from catboost import Pool, cv, CatBoostRegressor\n",
    "from scipy.special import boxcox1p\n",
    "from xgboost import XGBRegressor\n",
    "from sklearn import metrics\n",
    "from sklearn.model_selection import GridSearchCV, KFold\n",
    "from sklearn.preprocessing import LabelEncoder\n",
    "from sklearn.preprocessing import StandardScaler\n",
    "from sklearn.pipeline import Pipeline\n",
    "from sklearn.linear_model import LassoCV, Lasso\n",
    "from sklearn.model_selection import train_test_split\n",
    "\n",
    "import warnings\n",
    "warnings.filterwarnings(\"ignore\")"
   ]
  },
  {
   "cell_type": "code",
   "execution_count": 124,
   "metadata": {},
   "outputs": [],
   "source": [
    "# Get the data\n",
    "train_data = pd.read_csv('./data/train.csv')\n",
    "test_data = pd.read_csv('./data/test.csv')\n",
    "\n",
    "train_data['Training'] = 1\n",
    "test_data['Training'] = 0\n",
    "numerical_features = train_data.dtypes[train_data.dtypes != 'object'].index.values\n",
    "categorical_features = train_data.dtypes[train_data.dtypes == 'object'].index.values\n",
    "submit = ['SalePrice', 'Id']\n",
    "significant_columns_cat = ['Neighborhood', 'ExterQual', 'BsmtQual', 'KitchenQual', 'GarageFinish',\n",
    " 'FireplaceQu', 'Foundation', 'GarageType', 'BsmtFinType1', 'HeatingQC',\n",
    " 'MasVnrType', 'BsmtExposure', 'SaleCondition', 'Exterior1st', 'Exterior2nd',\n",
    " 'SaleType', 'MSZoning', 'HouseStyle', 'GarageQual', 'GarageCond', 'MSSubClass']"
   ]
  },
  {
   "cell_type": "code",
   "execution_count": 125,
   "metadata": {},
   "outputs": [],
   "source": [
    "# preprocessing\n",
    "# remove outliers\n",
    "# LotFrontage > 300\n",
    "train_data.drop(train_data[train_data['LotFrontage']>300].index)\n",
    "# LotArea > 100000\n",
    "train_data.drop(train_data[train_data['LotArea']>100000].index)\n",
    "# BsmtFinSF1 > 4000\n",
    "train_data.drop(train_data[train_data['BsmtFinSF1']>4000].index)\n",
    "# GrLivArea > 4000\n",
    "train_data.drop(train_data[train_data['GrLivArea']>4000].index)\n",
    "\n",
    "\n",
    "# concat\n",
    "all_data = pd.concat([train_data, test_data], ignore_index=True)\n",
    "\n",
    "# fill categoricals\n",
    "categoricals = all_data[categorical_features]\n",
    "categoricals.fillna('None', inplace=True)\n",
    "all_data[categorical_features] = categoricals\n",
    "\n",
    "# fill numericals with 0\n",
    "all_data.fillna(0, inplace=True)\n",
    "\n",
    "# convert non-categorical to categorical\n",
    "all_data['MSSubClass'] = all_data['MSSubClass'].apply(str)\n",
    "\n",
    "# redefine categoricals\n",
    "numerical_features = all_data.dtypes[all_data.dtypes != 'object'].index.values\n",
    "categorical_features = all_data.dtypes[all_data.dtypes == 'object'].index.values\n",
    "significant_columns = [*significant_columns_cat, *numerical_features]\n",
    "\n",
    "# select significant columns\n",
    "all_data = all_data[significant_columns]\n",
    "\n",
    "# add in more features\n",
    "all_data['TotalSF'] = all_data['GrLivArea'] + all_data['TotalBsmtSF']\n",
    "all_data['Bathrooms'] = all_data['BsmtFullBath'] + all_data['FullBath'] + (all_data['BsmtHalfBath'] + all_data['HalfBath']) * 0.5\n",
    "all_data['QualSF'] = all_data['TotalSF'] * all_data['OverallQual']\n",
    "all_data['HasPool'] = all_data['PoolArea'].apply(lambda x: 1 if x > 0 else 0)\n",
    "all_data['HasGarage'] = all_data['GarageArea'].apply(lambda x: 1 if x > 0 else 0)\n",
    "all_data['HasRemod'] = (all_data['YearBuilt'] - all_data['YearRemodAdd']).apply(lambda x: 1 if x != 0 else 0)\n",
    "all_data['Has3SsnPorch'] = all_data['3SsnPorch'].apply(lambda x: 1 if x > 0 else 0)\n",
    "all_data['Age'] = all_data['YrSold'] - all_data['YearRemodAdd']\n",
    "all_data['IsNew'] = (all_data['YrSold'] - all_data['YearBuilt']).apply(lambda x: 1 if x == 0 else 0)"
   ]
  },
  {
   "cell_type": "code",
   "execution_count": 126,
   "metadata": {},
   "outputs": [
    {
     "output_type": "execute_result",
     "data": {
      "text/plain": [
       "         Features   Original   Adjusted\n",
       "0         MiscVal  21.947195   5.239894\n",
       "1        PoolArea  16.898328  14.985994\n",
       "2         LotArea  12.822431  -0.135401\n",
       "3    LowQualFinSF  12.088761   8.495602\n",
       "4       3SsnPorch  11.376065   8.865144\n",
       "5    KitchenAbvGr   4.302254   3.779896\n",
       "6      BsmtFinSF2   4.146143   2.579468\n",
       "7   EnclosedPorch   4.003891   2.150157\n",
       "8     ScreenPorch   3.946694   3.153911\n",
       "9    BsmtHalfBath   3.931594   3.780960\n",
       "10     MasVnrArea   2.613592   0.976354\n",
       "11    OpenPorchSF   2.535114   0.621025\n",
       "12    GarageYrBlt  -3.906205   0.701201"
      ],
      "text/html": "<div>\n<style scoped>\n    .dataframe tbody tr th:only-of-type {\n        vertical-align: middle;\n    }\n\n    .dataframe tbody tr th {\n        vertical-align: top;\n    }\n\n    .dataframe thead th {\n        text-align: right;\n    }\n</style>\n<table border=\"1\" class=\"dataframe\">\n  <thead>\n    <tr style=\"text-align: right;\">\n      <th></th>\n      <th>Features</th>\n      <th>Original</th>\n      <th>Adjusted</th>\n    </tr>\n  </thead>\n  <tbody>\n    <tr>\n      <th>0</th>\n      <td>MiscVal</td>\n      <td>21.947195</td>\n      <td>5.239894</td>\n    </tr>\n    <tr>\n      <th>1</th>\n      <td>PoolArea</td>\n      <td>16.898328</td>\n      <td>14.985994</td>\n    </tr>\n    <tr>\n      <th>2</th>\n      <td>LotArea</td>\n      <td>12.822431</td>\n      <td>-0.135401</td>\n    </tr>\n    <tr>\n      <th>3</th>\n      <td>LowQualFinSF</td>\n      <td>12.088761</td>\n      <td>8.495602</td>\n    </tr>\n    <tr>\n      <th>4</th>\n      <td>3SsnPorch</td>\n      <td>11.376065</td>\n      <td>8.865144</td>\n    </tr>\n    <tr>\n      <th>5</th>\n      <td>KitchenAbvGr</td>\n      <td>4.302254</td>\n      <td>3.779896</td>\n    </tr>\n    <tr>\n      <th>6</th>\n      <td>BsmtFinSF2</td>\n      <td>4.146143</td>\n      <td>2.579468</td>\n    </tr>\n    <tr>\n      <th>7</th>\n      <td>EnclosedPorch</td>\n      <td>4.003891</td>\n      <td>2.150157</td>\n    </tr>\n    <tr>\n      <th>8</th>\n      <td>ScreenPorch</td>\n      <td>3.946694</td>\n      <td>3.153911</td>\n    </tr>\n    <tr>\n      <th>9</th>\n      <td>BsmtHalfBath</td>\n      <td>3.931594</td>\n      <td>3.780960</td>\n    </tr>\n    <tr>\n      <th>10</th>\n      <td>MasVnrArea</td>\n      <td>2.613592</td>\n      <td>0.976354</td>\n    </tr>\n    <tr>\n      <th>11</th>\n      <td>OpenPorchSF</td>\n      <td>2.535114</td>\n      <td>0.621025</td>\n    </tr>\n    <tr>\n      <th>12</th>\n      <td>GarageYrBlt</td>\n      <td>-3.906205</td>\n      <td>0.701201</td>\n    </tr>\n  </tbody>\n</table>\n</div>"
     },
     "metadata": {},
     "execution_count": 126
    }
   ],
   "source": [
    "# process skewness in features\n",
    "skewness_cap = 2 # can change this number around a bit\n",
    "# find skewness\n",
    "skewness = all_data[numerical_features].apply(lambda x: st.skew(x)).sort_values(ascending=False)\n",
    "skewness_features = skewness[abs(skewness) > skewness_cap].index\n",
    "# box-cox transform\n",
    "for col in skewness_features:\n",
    "    all_data[col] = boxcox1p(all_data[col], st.boxcox_normmax(all_data[col] + 1))\n",
    "\n",
    "adjusted_skewness = all_data[skewness_features].apply(lambda x: st.skew(x))\n",
    "\n",
    "skewness_compare = pd.DataFrame()\n",
    "skewness_compare['Features'] = skewness_features\n",
    "skewness_compare['Original'] = skewness[skewness_features].values\n",
    "skewness_compare['Adjusted'] = adjusted_skewness.values\n",
    "skewness_compare\n"
   ]
  },
  {
   "cell_type": "code",
   "execution_count": 127,
   "metadata": {},
   "outputs": [],
   "source": [
    "# dropping a few columns\n",
    "to_drop = ['YrSold', 'MoSold', 'PoolArea', 'GarageYrBlt', '3SsnPorch', 'YearRemodAdd']\n",
    "all_data.drop(columns=to_drop, inplace=True)\n",
    "\n",
    "# process categoricals\n",
    "all_data = pd.get_dummies(data=all_data)"
   ]
  },
  {
   "cell_type": "code",
   "execution_count": 138,
   "metadata": {},
   "outputs": [],
   "source": [
    "# Split up the dataset\n",
    "train_set = all_data.loc[all_data['Training'] == 1]\n",
    "test_set = all_data.loc[all_data['Training'] == 0]\n",
    "\n",
    "# obtain X & y\n",
    "y = train_set['SalePrice']\n",
    "y_log = np.log1p(train_set['SalePrice'])\n",
    "target_y = y_log\n",
    "\n",
    "omit = ['SalePrice', 'Id', 'Training']\n",
    "X = train_set[[c for c in train_set.columns if c not in omit]]\n",
    "X_test = test_set[[c for c in test_set.columns if c not in omit]]\n",
    "\n",
    "# further split into validation set and training set\n",
    "x_train, x_validation, y_train, y_validation = train_test_split(X, target_y, test_size=0.1)\n",
    "eval_set = [(x_validation, y_validation)]\n"
   ]
  },
  {
   "cell_type": "code",
   "execution_count": 129,
   "metadata": {},
   "outputs": [
    {
     "output_type": "execute_result",
     "data": {
      "text/plain": [
       "   LotFrontage    LotArea  OverallQual  OverallCond  YearBuilt  MasVnrArea  \\\n",
       "0         65.0  13.424521            7            5       2003   19.378556   \n",
       "1         80.0  13.694528            6            8       1976    0.000000   \n",
       "2         68.0  14.034134            7            5       2001   17.721067   \n",
       "3         60.0  13.683422            7            5       1915    0.000000   \n",
       "4         84.0  14.550143            8            5       2000   25.323124   \n",
       "\n",
       "   BsmtFinSF1  BsmtFinSF2  BsmtUnfSF  TotalBsmtSF  ...  MSSubClass_30  \\\n",
       "0       706.0         0.0      150.0        856.0  ...              0   \n",
       "1       978.0         0.0      284.0       1262.0  ...              0   \n",
       "2       486.0         0.0      434.0        920.0  ...              0   \n",
       "3       216.0         0.0      540.0        756.0  ...              0   \n",
       "4       655.0         0.0      490.0       1145.0  ...              0   \n",
       "\n",
       "   MSSubClass_40  MSSubClass_45  MSSubClass_50  MSSubClass_60  MSSubClass_70  \\\n",
       "0              0              0              0              1              0   \n",
       "1              0              0              0              0              0   \n",
       "2              0              0              0              1              0   \n",
       "3              0              0              0              0              1   \n",
       "4              0              0              0              1              0   \n",
       "\n",
       "   MSSubClass_75  MSSubClass_80  MSSubClass_85  MSSubClass_90  \n",
       "0              0              0              0              0  \n",
       "1              0              0              0              0  \n",
       "2              0              0              0              0  \n",
       "3              0              0              0              0  \n",
       "4              0              0              0              0  \n",
       "\n",
       "[5 rows x 212 columns]"
      ],
      "text/html": "<div>\n<style scoped>\n    .dataframe tbody tr th:only-of-type {\n        vertical-align: middle;\n    }\n\n    .dataframe tbody tr th {\n        vertical-align: top;\n    }\n\n    .dataframe thead th {\n        text-align: right;\n    }\n</style>\n<table border=\"1\" class=\"dataframe\">\n  <thead>\n    <tr style=\"text-align: right;\">\n      <th></th>\n      <th>LotFrontage</th>\n      <th>LotArea</th>\n      <th>OverallQual</th>\n      <th>OverallCond</th>\n      <th>YearBuilt</th>\n      <th>MasVnrArea</th>\n      <th>BsmtFinSF1</th>\n      <th>BsmtFinSF2</th>\n      <th>BsmtUnfSF</th>\n      <th>TotalBsmtSF</th>\n      <th>...</th>\n      <th>MSSubClass_30</th>\n      <th>MSSubClass_40</th>\n      <th>MSSubClass_45</th>\n      <th>MSSubClass_50</th>\n      <th>MSSubClass_60</th>\n      <th>MSSubClass_70</th>\n      <th>MSSubClass_75</th>\n      <th>MSSubClass_80</th>\n      <th>MSSubClass_85</th>\n      <th>MSSubClass_90</th>\n    </tr>\n  </thead>\n  <tbody>\n    <tr>\n      <th>0</th>\n      <td>65.0</td>\n      <td>13.424521</td>\n      <td>7</td>\n      <td>5</td>\n      <td>2003</td>\n      <td>19.378556</td>\n      <td>706.0</td>\n      <td>0.0</td>\n      <td>150.0</td>\n      <td>856.0</td>\n      <td>...</td>\n      <td>0</td>\n      <td>0</td>\n      <td>0</td>\n      <td>0</td>\n      <td>1</td>\n      <td>0</td>\n      <td>0</td>\n      <td>0</td>\n      <td>0</td>\n      <td>0</td>\n    </tr>\n    <tr>\n      <th>1</th>\n      <td>80.0</td>\n      <td>13.694528</td>\n      <td>6</td>\n      <td>8</td>\n      <td>1976</td>\n      <td>0.000000</td>\n      <td>978.0</td>\n      <td>0.0</td>\n      <td>284.0</td>\n      <td>1262.0</td>\n      <td>...</td>\n      <td>0</td>\n      <td>0</td>\n      <td>0</td>\n      <td>0</td>\n      <td>0</td>\n      <td>0</td>\n      <td>0</td>\n      <td>0</td>\n      <td>0</td>\n      <td>0</td>\n    </tr>\n    <tr>\n      <th>2</th>\n      <td>68.0</td>\n      <td>14.034134</td>\n      <td>7</td>\n      <td>5</td>\n      <td>2001</td>\n      <td>17.721067</td>\n      <td>486.0</td>\n      <td>0.0</td>\n      <td>434.0</td>\n      <td>920.0</td>\n      <td>...</td>\n      <td>0</td>\n      <td>0</td>\n      <td>0</td>\n      <td>0</td>\n      <td>1</td>\n      <td>0</td>\n      <td>0</td>\n      <td>0</td>\n      <td>0</td>\n      <td>0</td>\n    </tr>\n    <tr>\n      <th>3</th>\n      <td>60.0</td>\n      <td>13.683422</td>\n      <td>7</td>\n      <td>5</td>\n      <td>1915</td>\n      <td>0.000000</td>\n      <td>216.0</td>\n      <td>0.0</td>\n      <td>540.0</td>\n      <td>756.0</td>\n      <td>...</td>\n      <td>0</td>\n      <td>0</td>\n      <td>0</td>\n      <td>0</td>\n      <td>0</td>\n      <td>1</td>\n      <td>0</td>\n      <td>0</td>\n      <td>0</td>\n      <td>0</td>\n    </tr>\n    <tr>\n      <th>4</th>\n      <td>84.0</td>\n      <td>14.550143</td>\n      <td>8</td>\n      <td>5</td>\n      <td>2000</td>\n      <td>25.323124</td>\n      <td>655.0</td>\n      <td>0.0</td>\n      <td>490.0</td>\n      <td>1145.0</td>\n      <td>...</td>\n      <td>0</td>\n      <td>0</td>\n      <td>0</td>\n      <td>0</td>\n      <td>1</td>\n      <td>0</td>\n      <td>0</td>\n      <td>0</td>\n      <td>0</td>\n      <td>0</td>\n    </tr>\n  </tbody>\n</table>\n<p>5 rows × 212 columns</p>\n</div>"
     },
     "metadata": {},
     "execution_count": 129
    }
   ],
   "source": [
    "# Spectate the final form of features\n",
    "X.head()"
   ]
  },
  {
   "cell_type": "code",
   "execution_count": 130,
   "metadata": {},
   "outputs": [],
   "source": [
    "# create lasso model for log transformed data\n",
    "alphas = np.arange(1e-5, 1e-2, 1e-5)\n",
    "lasso_reg = LassoCV(cv=5, \n",
    "    random_state=0, \n",
    "    max_iter=50000, \n",
    "    alphas=alphas).fit(x_train, y_train)"
   ]
  },
  {
   "cell_type": "code",
   "execution_count": 131,
   "metadata": {},
   "outputs": [
    {
     "output_type": "stream",
     "name": "stdout",
     "text": [
      "0.0003400000000000001\n212\n54\n"
     ]
    },
    {
     "output_type": "execute_result",
     "data": {
      "text/plain": [
       "[<matplotlib.lines.Line2D at 0x7fe41c567fd0>]"
      ]
     },
     "metadata": {},
     "execution_count": 131
    },
    {
     "output_type": "display_data",
     "data": {
      "text/plain": "<Figure size 432x288 with 1 Axes>",
      "image/svg+xml": "<?xml version=\"1.0\" encoding=\"utf-8\" standalone=\"no\"?>\n<!DOCTYPE svg PUBLIC \"-//W3C//DTD SVG 1.1//EN\"\n  \"http://www.w3.org/Graphics/SVG/1.1/DTD/svg11.dtd\">\n<!-- Created with matplotlib (https://matplotlib.org/) -->\n<svg height=\"248.518125pt\" version=\"1.1\" viewBox=\"0 0 384.828125 248.518125\" width=\"384.828125pt\" xmlns=\"http://www.w3.org/2000/svg\" xmlns:xlink=\"http://www.w3.org/1999/xlink\">\n <metadata>\n  <rdf:RDF xmlns:cc=\"http://creativecommons.org/ns#\" xmlns:dc=\"http://purl.org/dc/elements/1.1/\" xmlns:rdf=\"http://www.w3.org/1999/02/22-rdf-syntax-ns#\">\n   <cc:Work>\n    <dc:type rdf:resource=\"http://purl.org/dc/dcmitype/StillImage\"/>\n    <dc:date>2021-04-18T14:23:19.575477</dc:date>\n    <dc:format>image/svg+xml</dc:format>\n    <dc:creator>\n     <cc:Agent>\n      <dc:title>Matplotlib v3.3.2, https://matplotlib.org/</dc:title>\n     </cc:Agent>\n    </dc:creator>\n   </cc:Work>\n  </rdf:RDF>\n </metadata>\n <defs>\n  <style type=\"text/css\">*{stroke-linecap:butt;stroke-linejoin:round;}</style>\n </defs>\n <g id=\"figure_1\">\n  <g id=\"patch_1\">\n   <path d=\"M 0 248.518125 \nL 384.828125 248.518125 \nL 384.828125 0 \nL 0 0 \nz\n\" style=\"fill:none;\"/>\n  </g>\n  <g id=\"axes_1\">\n   <g id=\"patch_2\">\n    <path d=\"M 42.828125 224.64 \nL 377.628125 224.64 \nL 377.628125 7.2 \nL 42.828125 7.2 \nz\n\" style=\"fill:#ffffff;\"/>\n   </g>\n   <g id=\"matplotlib.axis_1\">\n    <g id=\"xtick_1\">\n     <g id=\"line2d_1\">\n      <defs>\n       <path d=\"M 0 0 \nL 0 3.5 \n\" id=\"mfdf278fc89\" style=\"stroke:#000000;stroke-width:0.8;\"/>\n      </defs>\n      <g>\n       <use style=\"stroke:#000000;stroke-width:0.8;\" x=\"57.741333\" xlink:href=\"#mfdf278fc89\" y=\"224.64\"/>\n      </g>\n     </g>\n     <g id=\"text_1\">\n      <!-- 0.000 -->\n      <g transform=\"translate(43.427271 239.238437)scale(0.1 -0.1)\">\n       <defs>\n        <path d=\"M 31.78125 66.40625 \nQ 24.171875 66.40625 20.328125 58.90625 \nQ 16.5 51.421875 16.5 36.375 \nQ 16.5 21.390625 20.328125 13.890625 \nQ 24.171875 6.390625 31.78125 6.390625 \nQ 39.453125 6.390625 43.28125 13.890625 \nQ 47.125 21.390625 47.125 36.375 \nQ 47.125 51.421875 43.28125 58.90625 \nQ 39.453125 66.40625 31.78125 66.40625 \nz\nM 31.78125 74.21875 \nQ 44.046875 74.21875 50.515625 64.515625 \nQ 56.984375 54.828125 56.984375 36.375 \nQ 56.984375 17.96875 50.515625 8.265625 \nQ 44.046875 -1.421875 31.78125 -1.421875 \nQ 19.53125 -1.421875 13.0625 8.265625 \nQ 6.59375 17.96875 6.59375 36.375 \nQ 6.59375 54.828125 13.0625 64.515625 \nQ 19.53125 74.21875 31.78125 74.21875 \nz\n\" id=\"DejaVuSans-48\"/>\n        <path d=\"M 10.6875 12.40625 \nL 21 12.40625 \nL 21 0 \nL 10.6875 0 \nz\n\" id=\"DejaVuSans-46\"/>\n       </defs>\n       <use xlink:href=\"#DejaVuSans-48\"/>\n       <use x=\"63.623047\" xlink:href=\"#DejaVuSans-46\"/>\n       <use x=\"95.410156\" xlink:href=\"#DejaVuSans-48\"/>\n       <use x=\"159.033203\" xlink:href=\"#DejaVuSans-48\"/>\n       <use x=\"222.65625\" xlink:href=\"#DejaVuSans-48\"/>\n      </g>\n     </g>\n    </g>\n    <g id=\"xtick_2\">\n     <g id=\"line2d_2\">\n      <g>\n       <use style=\"stroke:#000000;stroke-width:0.8;\" x=\"118.73605\" xlink:href=\"#mfdf278fc89\" y=\"224.64\"/>\n      </g>\n     </g>\n     <g id=\"text_2\">\n      <!-- 0.002 -->\n      <g transform=\"translate(104.421987 239.238437)scale(0.1 -0.1)\">\n       <defs>\n        <path d=\"M 19.1875 8.296875 \nL 53.609375 8.296875 \nL 53.609375 0 \nL 7.328125 0 \nL 7.328125 8.296875 \nQ 12.9375 14.109375 22.625 23.890625 \nQ 32.328125 33.6875 34.8125 36.53125 \nQ 39.546875 41.84375 41.421875 45.53125 \nQ 43.3125 49.21875 43.3125 52.78125 \nQ 43.3125 58.59375 39.234375 62.25 \nQ 35.15625 65.921875 28.609375 65.921875 \nQ 23.96875 65.921875 18.8125 64.3125 \nQ 13.671875 62.703125 7.8125 59.421875 \nL 7.8125 69.390625 \nQ 13.765625 71.78125 18.9375 73 \nQ 24.125 74.21875 28.421875 74.21875 \nQ 39.75 74.21875 46.484375 68.546875 \nQ 53.21875 62.890625 53.21875 53.421875 \nQ 53.21875 48.921875 51.53125 44.890625 \nQ 49.859375 40.875 45.40625 35.40625 \nQ 44.1875 33.984375 37.640625 27.21875 \nQ 31.109375 20.453125 19.1875 8.296875 \nz\n\" id=\"DejaVuSans-50\"/>\n       </defs>\n       <use xlink:href=\"#DejaVuSans-48\"/>\n       <use x=\"63.623047\" xlink:href=\"#DejaVuSans-46\"/>\n       <use x=\"95.410156\" xlink:href=\"#DejaVuSans-48\"/>\n       <use x=\"159.033203\" xlink:href=\"#DejaVuSans-48\"/>\n       <use x=\"222.65625\" xlink:href=\"#DejaVuSans-50\"/>\n      </g>\n     </g>\n    </g>\n    <g id=\"xtick_3\">\n     <g id=\"line2d_3\">\n      <g>\n       <use style=\"stroke:#000000;stroke-width:0.8;\" x=\"179.730767\" xlink:href=\"#mfdf278fc89\" y=\"224.64\"/>\n      </g>\n     </g>\n     <g id=\"text_3\">\n      <!-- 0.004 -->\n      <g transform=\"translate(165.416704 239.238437)scale(0.1 -0.1)\">\n       <defs>\n        <path d=\"M 37.796875 64.3125 \nL 12.890625 25.390625 \nL 37.796875 25.390625 \nz\nM 35.203125 72.90625 \nL 47.609375 72.90625 \nL 47.609375 25.390625 \nL 58.015625 25.390625 \nL 58.015625 17.1875 \nL 47.609375 17.1875 \nL 47.609375 0 \nL 37.796875 0 \nL 37.796875 17.1875 \nL 4.890625 17.1875 \nL 4.890625 26.703125 \nz\n\" id=\"DejaVuSans-52\"/>\n       </defs>\n       <use xlink:href=\"#DejaVuSans-48\"/>\n       <use x=\"63.623047\" xlink:href=\"#DejaVuSans-46\"/>\n       <use x=\"95.410156\" xlink:href=\"#DejaVuSans-48\"/>\n       <use x=\"159.033203\" xlink:href=\"#DejaVuSans-48\"/>\n       <use x=\"222.65625\" xlink:href=\"#DejaVuSans-52\"/>\n      </g>\n     </g>\n    </g>\n    <g id=\"xtick_4\">\n     <g id=\"line2d_4\">\n      <g>\n       <use style=\"stroke:#000000;stroke-width:0.8;\" x=\"240.725483\" xlink:href=\"#mfdf278fc89\" y=\"224.64\"/>\n      </g>\n     </g>\n     <g id=\"text_4\">\n      <!-- 0.006 -->\n      <g transform=\"translate(226.411421 239.238437)scale(0.1 -0.1)\">\n       <defs>\n        <path d=\"M 33.015625 40.375 \nQ 26.375 40.375 22.484375 35.828125 \nQ 18.609375 31.296875 18.609375 23.390625 \nQ 18.609375 15.53125 22.484375 10.953125 \nQ 26.375 6.390625 33.015625 6.390625 \nQ 39.65625 6.390625 43.53125 10.953125 \nQ 47.40625 15.53125 47.40625 23.390625 \nQ 47.40625 31.296875 43.53125 35.828125 \nQ 39.65625 40.375 33.015625 40.375 \nz\nM 52.59375 71.296875 \nL 52.59375 62.3125 \nQ 48.875 64.0625 45.09375 64.984375 \nQ 41.3125 65.921875 37.59375 65.921875 \nQ 27.828125 65.921875 22.671875 59.328125 \nQ 17.53125 52.734375 16.796875 39.40625 \nQ 19.671875 43.65625 24.015625 45.921875 \nQ 28.375 48.1875 33.59375 48.1875 \nQ 44.578125 48.1875 50.953125 41.515625 \nQ 57.328125 34.859375 57.328125 23.390625 \nQ 57.328125 12.15625 50.6875 5.359375 \nQ 44.046875 -1.421875 33.015625 -1.421875 \nQ 20.359375 -1.421875 13.671875 8.265625 \nQ 6.984375 17.96875 6.984375 36.375 \nQ 6.984375 53.65625 15.1875 63.9375 \nQ 23.390625 74.21875 37.203125 74.21875 \nQ 40.921875 74.21875 44.703125 73.484375 \nQ 48.484375 72.75 52.59375 71.296875 \nz\n\" id=\"DejaVuSans-54\"/>\n       </defs>\n       <use xlink:href=\"#DejaVuSans-48\"/>\n       <use x=\"63.623047\" xlink:href=\"#DejaVuSans-46\"/>\n       <use x=\"95.410156\" xlink:href=\"#DejaVuSans-48\"/>\n       <use x=\"159.033203\" xlink:href=\"#DejaVuSans-48\"/>\n       <use x=\"222.65625\" xlink:href=\"#DejaVuSans-54\"/>\n      </g>\n     </g>\n    </g>\n    <g id=\"xtick_5\">\n     <g id=\"line2d_5\">\n      <g>\n       <use style=\"stroke:#000000;stroke-width:0.8;\" x=\"301.7202\" xlink:href=\"#mfdf278fc89\" y=\"224.64\"/>\n      </g>\n     </g>\n     <g id=\"text_5\">\n      <!-- 0.008 -->\n      <g transform=\"translate(287.406138 239.238437)scale(0.1 -0.1)\">\n       <defs>\n        <path d=\"M 31.78125 34.625 \nQ 24.75 34.625 20.71875 30.859375 \nQ 16.703125 27.09375 16.703125 20.515625 \nQ 16.703125 13.921875 20.71875 10.15625 \nQ 24.75 6.390625 31.78125 6.390625 \nQ 38.8125 6.390625 42.859375 10.171875 \nQ 46.921875 13.96875 46.921875 20.515625 \nQ 46.921875 27.09375 42.890625 30.859375 \nQ 38.875 34.625 31.78125 34.625 \nz\nM 21.921875 38.8125 \nQ 15.578125 40.375 12.03125 44.71875 \nQ 8.5 49.078125 8.5 55.328125 \nQ 8.5 64.0625 14.71875 69.140625 \nQ 20.953125 74.21875 31.78125 74.21875 \nQ 42.671875 74.21875 48.875 69.140625 \nQ 55.078125 64.0625 55.078125 55.328125 \nQ 55.078125 49.078125 51.53125 44.71875 \nQ 48 40.375 41.703125 38.8125 \nQ 48.828125 37.15625 52.796875 32.3125 \nQ 56.78125 27.484375 56.78125 20.515625 \nQ 56.78125 9.90625 50.3125 4.234375 \nQ 43.84375 -1.421875 31.78125 -1.421875 \nQ 19.734375 -1.421875 13.25 4.234375 \nQ 6.78125 9.90625 6.78125 20.515625 \nQ 6.78125 27.484375 10.78125 32.3125 \nQ 14.796875 37.15625 21.921875 38.8125 \nz\nM 18.3125 54.390625 \nQ 18.3125 48.734375 21.84375 45.5625 \nQ 25.390625 42.390625 31.78125 42.390625 \nQ 38.140625 42.390625 41.71875 45.5625 \nQ 45.3125 48.734375 45.3125 54.390625 \nQ 45.3125 60.0625 41.71875 63.234375 \nQ 38.140625 66.40625 31.78125 66.40625 \nQ 25.390625 66.40625 21.84375 63.234375 \nQ 18.3125 60.0625 18.3125 54.390625 \nz\n\" id=\"DejaVuSans-56\"/>\n       </defs>\n       <use xlink:href=\"#DejaVuSans-48\"/>\n       <use x=\"63.623047\" xlink:href=\"#DejaVuSans-46\"/>\n       <use x=\"95.410156\" xlink:href=\"#DejaVuSans-48\"/>\n       <use x=\"159.033203\" xlink:href=\"#DejaVuSans-48\"/>\n       <use x=\"222.65625\" xlink:href=\"#DejaVuSans-56\"/>\n      </g>\n     </g>\n    </g>\n    <g id=\"xtick_6\">\n     <g id=\"line2d_6\">\n      <g>\n       <use style=\"stroke:#000000;stroke-width:0.8;\" x=\"362.714917\" xlink:href=\"#mfdf278fc89\" y=\"224.64\"/>\n      </g>\n     </g>\n     <g id=\"text_6\">\n      <!-- 0.010 -->\n      <g transform=\"translate(348.400854 239.238437)scale(0.1 -0.1)\">\n       <defs>\n        <path d=\"M 12.40625 8.296875 \nL 28.515625 8.296875 \nL 28.515625 63.921875 \nL 10.984375 60.40625 \nL 10.984375 69.390625 \nL 28.421875 72.90625 \nL 38.28125 72.90625 \nL 38.28125 8.296875 \nL 54.390625 8.296875 \nL 54.390625 0 \nL 12.40625 0 \nz\n\" id=\"DejaVuSans-49\"/>\n       </defs>\n       <use xlink:href=\"#DejaVuSans-48\"/>\n       <use x=\"63.623047\" xlink:href=\"#DejaVuSans-46\"/>\n       <use x=\"95.410156\" xlink:href=\"#DejaVuSans-48\"/>\n       <use x=\"159.033203\" xlink:href=\"#DejaVuSans-49\"/>\n       <use x=\"222.65625\" xlink:href=\"#DejaVuSans-48\"/>\n      </g>\n     </g>\n    </g>\n   </g>\n   <g id=\"matplotlib.axis_2\">\n    <g id=\"ytick_1\">\n     <g id=\"line2d_7\">\n      <defs>\n       <path d=\"M 0 0 \nL -3.5 0 \n\" id=\"m7f43fbbde0\" style=\"stroke:#000000;stroke-width:0.8;\"/>\n      </defs>\n      <g>\n       <use style=\"stroke:#000000;stroke-width:0.8;\" x=\"42.828125\" xlink:href=\"#m7f43fbbde0\" y=\"211.02236\"/>\n      </g>\n     </g>\n     <g id=\"text_7\">\n      <!-- 0.018 -->\n      <g transform=\"translate(7.2 214.821579)scale(0.1 -0.1)\">\n       <use xlink:href=\"#DejaVuSans-48\"/>\n       <use x=\"63.623047\" xlink:href=\"#DejaVuSans-46\"/>\n       <use x=\"95.410156\" xlink:href=\"#DejaVuSans-48\"/>\n       <use x=\"159.033203\" xlink:href=\"#DejaVuSans-49\"/>\n       <use x=\"222.65625\" xlink:href=\"#DejaVuSans-56\"/>\n      </g>\n     </g>\n    </g>\n    <g id=\"ytick_2\">\n     <g id=\"line2d_8\">\n      <g>\n       <use style=\"stroke:#000000;stroke-width:0.8;\" x=\"42.828125\" xlink:href=\"#m7f43fbbde0\" y=\"163.498098\"/>\n      </g>\n     </g>\n     <g id=\"text_8\">\n      <!-- 0.020 -->\n      <g transform=\"translate(7.2 167.297317)scale(0.1 -0.1)\">\n       <use xlink:href=\"#DejaVuSans-48\"/>\n       <use x=\"63.623047\" xlink:href=\"#DejaVuSans-46\"/>\n       <use x=\"95.410156\" xlink:href=\"#DejaVuSans-48\"/>\n       <use x=\"159.033203\" xlink:href=\"#DejaVuSans-50\"/>\n       <use x=\"222.65625\" xlink:href=\"#DejaVuSans-48\"/>\n      </g>\n     </g>\n    </g>\n    <g id=\"ytick_3\">\n     <g id=\"line2d_9\">\n      <g>\n       <use style=\"stroke:#000000;stroke-width:0.8;\" x=\"42.828125\" xlink:href=\"#m7f43fbbde0\" y=\"115.973836\"/>\n      </g>\n     </g>\n     <g id=\"text_9\">\n      <!-- 0.022 -->\n      <g transform=\"translate(7.2 119.773055)scale(0.1 -0.1)\">\n       <use xlink:href=\"#DejaVuSans-48\"/>\n       <use x=\"63.623047\" xlink:href=\"#DejaVuSans-46\"/>\n       <use x=\"95.410156\" xlink:href=\"#DejaVuSans-48\"/>\n       <use x=\"159.033203\" xlink:href=\"#DejaVuSans-50\"/>\n       <use x=\"222.65625\" xlink:href=\"#DejaVuSans-50\"/>\n      </g>\n     </g>\n    </g>\n    <g id=\"ytick_4\">\n     <g id=\"line2d_10\">\n      <g>\n       <use style=\"stroke:#000000;stroke-width:0.8;\" x=\"42.828125\" xlink:href=\"#m7f43fbbde0\" y=\"68.449574\"/>\n      </g>\n     </g>\n     <g id=\"text_10\">\n      <!-- 0.024 -->\n      <g transform=\"translate(7.2 72.248793)scale(0.1 -0.1)\">\n       <use xlink:href=\"#DejaVuSans-48\"/>\n       <use x=\"63.623047\" xlink:href=\"#DejaVuSans-46\"/>\n       <use x=\"95.410156\" xlink:href=\"#DejaVuSans-48\"/>\n       <use x=\"159.033203\" xlink:href=\"#DejaVuSans-50\"/>\n       <use x=\"222.65625\" xlink:href=\"#DejaVuSans-52\"/>\n      </g>\n     </g>\n    </g>\n    <g id=\"ytick_5\">\n     <g id=\"line2d_11\">\n      <g>\n       <use style=\"stroke:#000000;stroke-width:0.8;\" x=\"42.828125\" xlink:href=\"#m7f43fbbde0\" y=\"20.925312\"/>\n      </g>\n     </g>\n     <g id=\"text_11\">\n      <!-- 0.026 -->\n      <g transform=\"translate(7.2 24.724531)scale(0.1 -0.1)\">\n       <use xlink:href=\"#DejaVuSans-48\"/>\n       <use x=\"63.623047\" xlink:href=\"#DejaVuSans-46\"/>\n       <use x=\"95.410156\" xlink:href=\"#DejaVuSans-48\"/>\n       <use x=\"159.033203\" xlink:href=\"#DejaVuSans-50\"/>\n       <use x=\"222.65625\" xlink:href=\"#DejaVuSans-54\"/>\n      </g>\n     </g>\n    </g>\n   </g>\n   <g id=\"line2d_12\">\n    <path clip-path=\"url(#p05c411f9ba)\" d=\"M 362.409943 17.083636 \nL 328.252902 24.082309 \nL 313.61417 27.229734 \nL 307.209725 28.763192 \nL 286.471521 34.285221 \nL 280.981996 35.862668 \nL 258.108978 42.527466 \nL 245.300087 46.638189 \nL 237.370774 49.337941 \nL 223.037016 54.168307 \nL 215.412676 57.177965 \nL 199.249076 64.518868 \nL 189.794895 69.305149 \nL 183.695423 73.198718 \nL 176.986004 77.602388 \nL 167.836797 84.064812 \nL 166.311929 85.332856 \nL 163.262193 88.365056 \nL 145.573725 106.661352 \nL 142.219016 110.686868 \nL 129.715099 126.610484 \nL 116.296261 143.613353 \nL 111.11171 150.242639 \nL 106.84208 156.80429 \nL 101.962503 165.968168 \nL 97.387899 175.438829 \nL 90.67848 188.873228 \nL 88.543665 192.508058 \nL 84.274035 199.098629 \nL 83.664088 200.05873 \nL 81.529273 203.656251 \nL 79.699431 206.298392 \nL 77.564616 209.022548 \nL 75.429801 211.165235 \nL 73.904933 212.342212 \nL 70.550224 214.346407 \nL 69.330329 214.658348 \nL 67.805461 214.749379 \nL 66.280594 214.581168 \nL 65.670646 214.175963 \nL 64.755726 213.259911 \nL 63.840805 212.044712 \nL 63.230858 211.34611 \nL 62.925884 211.046355 \nL 62.315937 209.998545 \nL 61.70599 208.392528 \nL 61.096043 205.860993 \nL 60.181122 200.686102 \nL 59.571175 195.811092 \nL 58.961228 189.373996 \nL 58.35128 181.058102 \nL 58.046307 175.944532 \nL 58.046307 175.944532 \n\" style=\"fill:none;stroke:#1f77b4;stroke-linecap:square;stroke-width:1.5;\"/>\n   </g>\n   <g id=\"patch_3\">\n    <path d=\"M 42.828125 224.64 \nL 42.828125 7.2 \n\" style=\"fill:none;stroke:#000000;stroke-linecap:square;stroke-linejoin:miter;stroke-width:0.8;\"/>\n   </g>\n   <g id=\"patch_4\">\n    <path d=\"M 377.628125 224.64 \nL 377.628125 7.2 \n\" style=\"fill:none;stroke:#000000;stroke-linecap:square;stroke-linejoin:miter;stroke-width:0.8;\"/>\n   </g>\n   <g id=\"patch_5\">\n    <path d=\"M 42.828125 224.64 \nL 377.628125 224.64 \n\" style=\"fill:none;stroke:#000000;stroke-linecap:square;stroke-linejoin:miter;stroke-width:0.8;\"/>\n   </g>\n   <g id=\"patch_6\">\n    <path d=\"M 42.828125 7.2 \nL 377.628125 7.2 \n\" style=\"fill:none;stroke:#000000;stroke-linecap:square;stroke-linejoin:miter;stroke-width:0.8;\"/>\n   </g>\n  </g>\n </g>\n <defs>\n  <clipPath id=\"p05c411f9ba\">\n   <rect height=\"217.44\" width=\"334.8\" x=\"42.828125\" y=\"7.2\"/>\n  </clipPath>\n </defs>\n</svg>\n",
      "image/png": "[encoded data removed]"
     },
     "metadata": {
      "needs_background": "light"
     }
    }
   ],
   "source": [
    "# Analysis for Lasso\n",
    "best_alpha = lasso_reg.alpha_\n",
    "coefficient = lasso_reg.coef_\n",
    "non_zero_coef = [c for c in coefficient if c > 0]\n",
    "\n",
    "print(best_alpha)\n",
    "print(len(coefficient))\n",
    "print(len(non_zero_coef))\n",
    "mse_path_lasso = np.mean(lasso_reg.mse_path_, axis=1)\n",
    "plt.plot(lasso_reg.alphas_, mse_path_lasso)"
   ]
  },
  {
   "cell_type": "code",
   "execution_count": 132,
   "metadata": {},
   "outputs": [
    {
     "output_type": "stream",
     "name": "stdout",
     "text": [
      "Fitting 5 folds for each of 9 candidates, totalling 45 fits\n",
      "[Parallel(n_jobs=1)]: Using backend SequentialBackend with 1 concurrent workers.\n",
      "[Parallel(n_jobs=1)]: Done  45 out of  45 | elapsed: 379.9min finished\n",
      "0.8995434966482054\n",
      "{'learning_rate': 0.05, 'max_depth': 4}\n",
      "Fitting 5 folds for each of 9 candidates, totalling 45 fits\n",
      "[Parallel(n_jobs=1)]: Using backend SequentialBackend with 1 concurrent workers.\n",
      "[Parallel(n_jobs=1)]: Done  45 out of  45 | elapsed: 56.7min finished\n",
      "0.9032223884950413\n",
      "{'colsample_bytree': 0.5, 'subsample': 0.8}\n",
      "Fitting 5 folds for each of 9 candidates, totalling 45 fits\n",
      "[Parallel(n_jobs=1)]: Using backend SequentialBackend with 1 concurrent workers.\n",
      "[Parallel(n_jobs=1)]: Done  45 out of  45 | elapsed: 840.4min finished\n",
      "0.9004971536705015\n",
      "{'reg_alpha': 0.9, 'reg_lambda': 0.5}\n"
     ]
    }
   ],
   "source": [
    "# grid search for xgb\n",
    "xgb_model = XGBRegressor(n_jobs=1, gamma=0, n_estimators=10000)\n",
    "clf = GridSearchCV(xgb_model,\n",
    "    {'learning_rate': [0.01, 0.05, 0.1],\n",
    "    'max_depth': [3, 4, 5]\n",
    "    }, verbose=1, n_jobs=1)\n",
    "clf.fit(x_train, y_train)\n",
    "\n",
    "print(clf.best_score_)\n",
    "print(clf.best_params_)\n",
    "best_rate_xgb = clf.best_params_['learning_rate']\n",
    "best_depth_xgb = clf.best_params_['max_depth']\n",
    "\n",
    "xgb_model = XGBRegressor(n_jobs=1, gamma=0, n_estimators=10000, learning_rate=best_rate_xgb, max_depth=best_depth_xgb)\n",
    "clf = GridSearchCV(xgb_model,\n",
    "    {'subsample': [0.5, 0.8, 1],\n",
    "    'colsample_bytree': [0.5, 0.8, 1]\n",
    "    }, verbose=1, n_jobs=1)\n",
    "clf.fit(x_train, y_train)\n",
    "\n",
    "print(clf.best_score_)\n",
    "print(clf.best_params_)\n",
    "best_subsample_xgb = clf.best_params_['subsample']\n",
    "best_colsample_bytree_xgb = clf.best_params_['colsample_bytree']\n",
    "\n",
    "xgb_model = XGBRegressor(n_jobs=1, \n",
    "    gamma=0, \n",
    "    n_estimators=10000, \n",
    "    learning_rate=best_rate_xgb, \n",
    "    max_depth=best_depth_xgb,\n",
    "    subsample=best_subsample_xgb,\n",
    "    colsample_bytree=best_colsample_bytree_xgb)\n",
    "clf = GridSearchCV(xgb_model,\n",
    "    {'reg_alpha': [0.5, 0.7, 0.9],\n",
    "    'reg_lambda': [0.5, 0.6, 0.8]\n",
    "    }, verbose=1, n_jobs=1)\n",
    "clf.fit(x_train, y_train)\n",
    "\n",
    "print(clf.best_score_)\n",
    "print(clf.best_params_)\n",
    "best_alpha_xgb = clf.best_params_['reg_alpha']\n",
    "best_lambda_xgb = clf.best_params_['reg_lambda']"
   ]
  },
  {
   "cell_type": "code",
   "execution_count": 133,
   "metadata": {
    "tags": []
   },
   "outputs": [
    {
     "output_type": "stream",
     "name": "stdout",
     "text": [
      "0.9057236175950495\n{'depth': 6, 'learning_rate': 0.01}\n"
     ]
    }
   ],
   "source": [
    "# grid search for catboost\n",
    "cat_reg = CatBoostRegressor(iterations=20000, logging_level='Silent')\n",
    "clf = GridSearchCV(cat_reg,\n",
    "    {'depth': [3, 4, 5, 6],\n",
    "    'learning_rate': [0.01, 0.05, 0.1],\n",
    "    }, n_jobs=1)\n",
    "clf.fit(x_train, y_train)\n",
    "\n",
    "print(clf.best_score_)\n",
    "print(clf.best_params_)\n",
    "best_rate_cat = clf.best_params_['learning_rate']\n",
    "best_depth_cat = clf.best_params_['depth']"
   ]
  },
  {
   "cell_type": "code",
   "execution_count": 134,
   "metadata": {
    "tags": []
   },
   "outputs": [],
   "source": [
    "# Combining\n",
    "def rmse(y1, y2):\n",
    "    return np.sqrt(metrics.mean_squared_error(y1, y2))\n",
    "\n",
    "splits = 5\n",
    "kf = KFold(n_splits=splits)\n",
    "\n",
    "errors_cat = []\n",
    "errors_lasso = []\n",
    "weights = np.arange(0, 1, 0.02)\n",
    "\n",
    "cv_trainset = train_set[[c for c in train_set.columns if c not in ['Id, Training']]]\n",
    "\n",
    "for train, test in kf.split(cv_trainset):\n",
    "    trainset = cv_trainset.iloc[train, :]\n",
    "    testset = cv_trainset.iloc[test, :]\n",
    "    \n",
    "    train_y = np.log1p(trainset['SalePrice'])\n",
    "    test_y = np.log1p(testset['SalePrice'])\n",
    "\n",
    "    train_X = trainset[[c for c in train_set.columns if c not in omit]]\n",
    "    test_X = testset[[c for c in train_set.columns if c not in omit]]\n",
    "\n",
    "    xgb = XGBRegressor(n_jobs=1,\n",
    "        gamma=0,\n",
    "        subsample=0.8,\n",
    "        colsample_bytree=0.5,\n",
    "        learning_rate=0.05,\n",
    "        max_depth=4,\n",
    "        reg_alpha=best_alpha_xgb,\n",
    "        reg_lambda=best_lambda_xgb,\n",
    "        n_estimators=10000).fit(train_X, train_y)\n",
    "\n",
    "    lasso = Lasso(random_state=0, \n",
    "        max_iter=50000, \n",
    "        alpha=best_alpha).fit(train_X, train_y)\n",
    "\n",
    "    cat = CatBoostRegressor(learning_rate=0.01, \n",
    "        iterations=20000, \n",
    "        logging_level='Silent',\n",
    "        depth=6).fit(train_X, train_y)\n",
    "\n",
    "    y_xgb = xgb.predict(test_X)\n",
    "    y_lasso = lasso.predict(test_X)\n",
    "    y_cat = cat.predict(test_X)\n",
    "\n",
    "    # linear combination\n",
    "    error_l = []\n",
    "    for weight in weights:\n",
    "        # y_test_final = y_lasso ** weight * y_xgb ** (1 - weight)\n",
    "        y_test_final = y_lasso * weight + y_xgb * (1 - weight)\n",
    "        error_l.append(rmse(test_y, y_test_final))\n",
    "    errors_lasso.append(error_l)\n",
    "\n",
    "    error_l = []\n",
    "    for weight in weights:\n",
    "        # y_test_final = y_cat ** weight * (y_xgb * y_lasso) ** ((1 - weight) / 2)\n",
    "        y_test_final = y_cat * weight + (y_xgb + y_lasso) * ((1 - weight) / 2)\n",
    "        error_l.append(rmse(test_y, y_test_final))\n",
    "    errors_cat.append(error_l)"
   ]
  },
  {
   "cell_type": "code",
   "execution_count": 135,
   "metadata": {},
   "outputs": [
    {
     "output_type": "stream",
     "name": "stdout",
     "text": [
      "0.4\n"
     ]
    },
    {
     "output_type": "display_data",
     "data": {
      "text/plain": "<Figure size 432x288 with 1 Axes>",
      "image/svg+xml": "<?xml version=\"1.0\" encoding=\"utf-8\" standalone=\"no\"?>\n<!DOCTYPE svg PUBLIC \"-//W3C//DTD SVG 1.1//EN\"\n  \"http://www.w3.org/Graphics/SVG/1.1/DTD/svg11.dtd\">\n<!-- Created with matplotlib (https://matplotlib.org/) -->\n<svg height=\"248.518125pt\" version=\"1.1\" viewBox=\"0 0 384.828125 248.518125\" width=\"384.828125pt\" xmlns=\"http://www.w3.org/2000/svg\" xmlns:xlink=\"http://www.w3.org/1999/xlink\">\n <metadata>\n  <rdf:RDF xmlns:cc=\"http://creativecommons.org/ns#\" xmlns:dc=\"http://purl.org/dc/elements/1.1/\" xmlns:rdf=\"http://www.w3.org/1999/02/22-rdf-syntax-ns#\">\n   <cc:Work>\n    <dc:type rdf:resource=\"http://purl.org/dc/dcmitype/StillImage\"/>\n    <dc:date>2021-04-19T12:46:32.527070</dc:date>\n    <dc:format>image/svg+xml</dc:format>\n    <dc:creator>\n     <cc:Agent>\n      <dc:title>Matplotlib v3.3.2, https://matplotlib.org/</dc:title>\n     </cc:Agent>\n    </dc:creator>\n   </cc:Work>\n  </rdf:RDF>\n </metadata>\n <defs>\n  <style type=\"text/css\">*{stroke-linecap:butt;stroke-linejoin:round;}</style>\n </defs>\n <g id=\"figure_1\">\n  <g id=\"patch_1\">\n   <path d=\"M 0 248.518125 \nL 384.828125 248.518125 \nL 384.828125 0 \nL 0 0 \nz\n\" style=\"fill:none;\"/>\n  </g>\n  <g id=\"axes_1\">\n   <g id=\"patch_2\">\n    <path d=\"M 42.828125 224.64 \nL 377.628125 224.64 \nL 377.628125 7.2 \nL 42.828125 7.2 \nz\n\" style=\"fill:#ffffff;\"/>\n   </g>\n   <g id=\"matplotlib.axis_1\">\n    <g id=\"xtick_1\">\n     <g id=\"line2d_1\">\n      <defs>\n       <path d=\"M 0 0 \nL 0 3.5 \n\" id=\"mc6d5cdeb1b\" style=\"stroke:#000000;stroke-width:0.8;\"/>\n      </defs>\n      <g>\n       <use style=\"stroke:#000000;stroke-width:0.8;\" x=\"58.046307\" xlink:href=\"#mc6d5cdeb1b\" y=\"224.64\"/>\n      </g>\n     </g>\n     <g id=\"text_1\">\n      <!-- 0.0 -->\n      <g transform=\"translate(50.094744 239.238438)scale(0.1 -0.1)\">\n       <defs>\n        <path d=\"M 31.78125 66.40625 \nQ 24.171875 66.40625 20.328125 58.90625 \nQ 16.5 51.421875 16.5 36.375 \nQ 16.5 21.390625 20.328125 13.890625 \nQ 24.171875 6.390625 31.78125 6.390625 \nQ 39.453125 6.390625 43.28125 13.890625 \nQ 47.125 21.390625 47.125 36.375 \nQ 47.125 51.421875 43.28125 58.90625 \nQ 39.453125 66.40625 31.78125 66.40625 \nz\nM 31.78125 74.21875 \nQ 44.046875 74.21875 50.515625 64.515625 \nQ 56.984375 54.828125 56.984375 36.375 \nQ 56.984375 17.96875 50.515625 8.265625 \nQ 44.046875 -1.421875 31.78125 -1.421875 \nQ 19.53125 -1.421875 13.0625 8.265625 \nQ 6.59375 17.96875 6.59375 36.375 \nQ 6.59375 54.828125 13.0625 64.515625 \nQ 19.53125 74.21875 31.78125 74.21875 \nz\n\" id=\"DejaVuSans-48\"/>\n        <path d=\"M 10.6875 12.40625 \nL 21 12.40625 \nL 21 0 \nL 10.6875 0 \nz\n\" id=\"DejaVuSans-46\"/>\n       </defs>\n       <use xlink:href=\"#DejaVuSans-48\"/>\n       <use x=\"63.623047\" xlink:href=\"#DejaVuSans-46\"/>\n       <use x=\"95.410156\" xlink:href=\"#DejaVuSans-48\"/>\n      </g>\n     </g>\n    </g>\n    <g id=\"xtick_2\">\n     <g id=\"line2d_2\">\n      <g>\n       <use style=\"stroke:#000000;stroke-width:0.8;\" x=\"120.161335\" xlink:href=\"#mc6d5cdeb1b\" y=\"224.64\"/>\n      </g>\n     </g>\n     <g id=\"text_2\">\n      <!-- 0.2 -->\n      <g transform=\"translate(112.209772 239.238438)scale(0.1 -0.1)\">\n       <defs>\n        <path d=\"M 19.1875 8.296875 \nL 53.609375 8.296875 \nL 53.609375 0 \nL 7.328125 0 \nL 7.328125 8.296875 \nQ 12.9375 14.109375 22.625 23.890625 \nQ 32.328125 33.6875 34.8125 36.53125 \nQ 39.546875 41.84375 41.421875 45.53125 \nQ 43.3125 49.21875 43.3125 52.78125 \nQ 43.3125 58.59375 39.234375 62.25 \nQ 35.15625 65.921875 28.609375 65.921875 \nQ 23.96875 65.921875 18.8125 64.3125 \nQ 13.671875 62.703125 7.8125 59.421875 \nL 7.8125 69.390625 \nQ 13.765625 71.78125 18.9375 73 \nQ 24.125 74.21875 28.421875 74.21875 \nQ 39.75 74.21875 46.484375 68.546875 \nQ 53.21875 62.890625 53.21875 53.421875 \nQ 53.21875 48.921875 51.53125 44.890625 \nQ 49.859375 40.875 45.40625 35.40625 \nQ 44.1875 33.984375 37.640625 27.21875 \nQ 31.109375 20.453125 19.1875 8.296875 \nz\n\" id=\"DejaVuSans-50\"/>\n       </defs>\n       <use xlink:href=\"#DejaVuSans-48\"/>\n       <use x=\"63.623047\" xlink:href=\"#DejaVuSans-46\"/>\n       <use x=\"95.410156\" xlink:href=\"#DejaVuSans-50\"/>\n      </g>\n     </g>\n    </g>\n    <g id=\"xtick_3\">\n     <g id=\"line2d_3\">\n      <g>\n       <use style=\"stroke:#000000;stroke-width:0.8;\" x=\"182.276362\" xlink:href=\"#mc6d5cdeb1b\" y=\"224.64\"/>\n      </g>\n     </g>\n     <g id=\"text_3\">\n      <!-- 0.4 -->\n      <g transform=\"translate(174.3248 239.238438)scale(0.1 -0.1)\">\n       <defs>\n        <path d=\"M 37.796875 64.3125 \nL 12.890625 25.390625 \nL 37.796875 25.390625 \nz\nM 35.203125 72.90625 \nL 47.609375 72.90625 \nL 47.609375 25.390625 \nL 58.015625 25.390625 \nL 58.015625 17.1875 \nL 47.609375 17.1875 \nL 47.609375 0 \nL 37.796875 0 \nL 37.796875 17.1875 \nL 4.890625 17.1875 \nL 4.890625 26.703125 \nz\n\" id=\"DejaVuSans-52\"/>\n       </defs>\n       <use xlink:href=\"#DejaVuSans-48\"/>\n       <use x=\"63.623047\" xlink:href=\"#DejaVuSans-46\"/>\n       <use x=\"95.410156\" xlink:href=\"#DejaVuSans-52\"/>\n      </g>\n     </g>\n    </g>\n    <g id=\"xtick_4\">\n     <g id=\"line2d_4\">\n      <g>\n       <use style=\"stroke:#000000;stroke-width:0.8;\" x=\"244.39139\" xlink:href=\"#mc6d5cdeb1b\" y=\"224.64\"/>\n      </g>\n     </g>\n     <g id=\"text_4\">\n      <!-- 0.6 -->\n      <g transform=\"translate(236.439828 239.238438)scale(0.1 -0.1)\">\n       <defs>\n        <path d=\"M 33.015625 40.375 \nQ 26.375 40.375 22.484375 35.828125 \nQ 18.609375 31.296875 18.609375 23.390625 \nQ 18.609375 15.53125 22.484375 10.953125 \nQ 26.375 6.390625 33.015625 6.390625 \nQ 39.65625 6.390625 43.53125 10.953125 \nQ 47.40625 15.53125 47.40625 23.390625 \nQ 47.40625 31.296875 43.53125 35.828125 \nQ 39.65625 40.375 33.015625 40.375 \nz\nM 52.59375 71.296875 \nL 52.59375 62.3125 \nQ 48.875 64.0625 45.09375 64.984375 \nQ 41.3125 65.921875 37.59375 65.921875 \nQ 27.828125 65.921875 22.671875 59.328125 \nQ 17.53125 52.734375 16.796875 39.40625 \nQ 19.671875 43.65625 24.015625 45.921875 \nQ 28.375 48.1875 33.59375 48.1875 \nQ 44.578125 48.1875 50.953125 41.515625 \nQ 57.328125 34.859375 57.328125 23.390625 \nQ 57.328125 12.15625 50.6875 5.359375 \nQ 44.046875 -1.421875 33.015625 -1.421875 \nQ 20.359375 -1.421875 13.671875 8.265625 \nQ 6.984375 17.96875 6.984375 36.375 \nQ 6.984375 53.65625 15.1875 63.9375 \nQ 23.390625 74.21875 37.203125 74.21875 \nQ 40.921875 74.21875 44.703125 73.484375 \nQ 48.484375 72.75 52.59375 71.296875 \nz\n\" id=\"DejaVuSans-54\"/>\n       </defs>\n       <use xlink:href=\"#DejaVuSans-48\"/>\n       <use x=\"63.623047\" xlink:href=\"#DejaVuSans-46\"/>\n       <use x=\"95.410156\" xlink:href=\"#DejaVuSans-54\"/>\n      </g>\n     </g>\n    </g>\n    <g id=\"xtick_5\">\n     <g id=\"line2d_5\">\n      <g>\n       <use style=\"stroke:#000000;stroke-width:0.8;\" x=\"306.506418\" xlink:href=\"#mc6d5cdeb1b\" y=\"224.64\"/>\n      </g>\n     </g>\n     <g id=\"text_5\">\n      <!-- 0.8 -->\n      <g transform=\"translate(298.554856 239.238438)scale(0.1 -0.1)\">\n       <defs>\n        <path d=\"M 31.78125 34.625 \nQ 24.75 34.625 20.71875 30.859375 \nQ 16.703125 27.09375 16.703125 20.515625 \nQ 16.703125 13.921875 20.71875 10.15625 \nQ 24.75 6.390625 31.78125 6.390625 \nQ 38.8125 6.390625 42.859375 10.171875 \nQ 46.921875 13.96875 46.921875 20.515625 \nQ 46.921875 27.09375 42.890625 30.859375 \nQ 38.875 34.625 31.78125 34.625 \nz\nM 21.921875 38.8125 \nQ 15.578125 40.375 12.03125 44.71875 \nQ 8.5 49.078125 8.5 55.328125 \nQ 8.5 64.0625 14.71875 69.140625 \nQ 20.953125 74.21875 31.78125 74.21875 \nQ 42.671875 74.21875 48.875 69.140625 \nQ 55.078125 64.0625 55.078125 55.328125 \nQ 55.078125 49.078125 51.53125 44.71875 \nQ 48 40.375 41.703125 38.8125 \nQ 48.828125 37.15625 52.796875 32.3125 \nQ 56.78125 27.484375 56.78125 20.515625 \nQ 56.78125 9.90625 50.3125 4.234375 \nQ 43.84375 -1.421875 31.78125 -1.421875 \nQ 19.734375 -1.421875 13.25 4.234375 \nQ 6.78125 9.90625 6.78125 20.515625 \nQ 6.78125 27.484375 10.78125 32.3125 \nQ 14.796875 37.15625 21.921875 38.8125 \nz\nM 18.3125 54.390625 \nQ 18.3125 48.734375 21.84375 45.5625 \nQ 25.390625 42.390625 31.78125 42.390625 \nQ 38.140625 42.390625 41.71875 45.5625 \nQ 45.3125 48.734375 45.3125 54.390625 \nQ 45.3125 60.0625 41.71875 63.234375 \nQ 38.140625 66.40625 31.78125 66.40625 \nQ 25.390625 66.40625 21.84375 63.234375 \nQ 18.3125 60.0625 18.3125 54.390625 \nz\n\" id=\"DejaVuSans-56\"/>\n       </defs>\n       <use xlink:href=\"#DejaVuSans-48\"/>\n       <use x=\"63.623047\" xlink:href=\"#DejaVuSans-46\"/>\n       <use x=\"95.410156\" xlink:href=\"#DejaVuSans-56\"/>\n      </g>\n     </g>\n    </g>\n    <g id=\"xtick_6\">\n     <g id=\"line2d_6\">\n      <g>\n       <use style=\"stroke:#000000;stroke-width:0.8;\" x=\"368.621446\" xlink:href=\"#mc6d5cdeb1b\" y=\"224.64\"/>\n      </g>\n     </g>\n     <g id=\"text_6\">\n      <!-- 1.0 -->\n      <g transform=\"translate(360.669883 239.238438)scale(0.1 -0.1)\">\n       <defs>\n        <path d=\"M 12.40625 8.296875 \nL 28.515625 8.296875 \nL 28.515625 63.921875 \nL 10.984375 60.40625 \nL 10.984375 69.390625 \nL 28.421875 72.90625 \nL 38.28125 72.90625 \nL 38.28125 8.296875 \nL 54.390625 8.296875 \nL 54.390625 0 \nL 12.40625 0 \nz\n\" id=\"DejaVuSans-49\"/>\n       </defs>\n       <use xlink:href=\"#DejaVuSans-49\"/>\n       <use x=\"63.623047\" xlink:href=\"#DejaVuSans-46\"/>\n       <use x=\"95.410156\" xlink:href=\"#DejaVuSans-48\"/>\n      </g>\n     </g>\n    </g>\n   </g>\n   <g id=\"matplotlib.axis_2\">\n    <g id=\"ytick_1\">\n     <g id=\"line2d_7\">\n      <defs>\n       <path d=\"M 0 0 \nL -3.5 0 \n\" id=\"m49d7c18f66\" style=\"stroke:#000000;stroke-width:0.8;\"/>\n      </defs>\n      <g>\n       <use style=\"stroke:#000000;stroke-width:0.8;\" x=\"42.828125\" xlink:href=\"#m49d7c18f66\" y=\"186.869724\"/>\n      </g>\n     </g>\n     <g id=\"text_7\">\n      <!-- 0.120 -->\n      <g transform=\"translate(7.2 190.668943)scale(0.1 -0.1)\">\n       <use xlink:href=\"#DejaVuSans-48\"/>\n       <use x=\"63.623047\" xlink:href=\"#DejaVuSans-46\"/>\n       <use x=\"95.410156\" xlink:href=\"#DejaVuSans-49\"/>\n       <use x=\"159.033203\" xlink:href=\"#DejaVuSans-50\"/>\n       <use x=\"222.65625\" xlink:href=\"#DejaVuSans-48\"/>\n      </g>\n     </g>\n    </g>\n    <g id=\"ytick_2\">\n     <g id=\"line2d_8\">\n      <g>\n       <use style=\"stroke:#000000;stroke-width:0.8;\" x=\"42.828125\" xlink:href=\"#m49d7c18f66\" y=\"148.6727\"/>\n      </g>\n     </g>\n     <g id=\"text_8\">\n      <!-- 0.122 -->\n      <g transform=\"translate(7.2 152.471919)scale(0.1 -0.1)\">\n       <use xlink:href=\"#DejaVuSans-48\"/>\n       <use x=\"63.623047\" xlink:href=\"#DejaVuSans-46\"/>\n       <use x=\"95.410156\" xlink:href=\"#DejaVuSans-49\"/>\n       <use x=\"159.033203\" xlink:href=\"#DejaVuSans-50\"/>\n       <use x=\"222.65625\" xlink:href=\"#DejaVuSans-50\"/>\n      </g>\n     </g>\n    </g>\n    <g id=\"ytick_3\">\n     <g id=\"line2d_9\">\n      <g>\n       <use style=\"stroke:#000000;stroke-width:0.8;\" x=\"42.828125\" xlink:href=\"#m49d7c18f66\" y=\"110.475676\"/>\n      </g>\n     </g>\n     <g id=\"text_9\">\n      <!-- 0.124 -->\n      <g transform=\"translate(7.2 114.274895)scale(0.1 -0.1)\">\n       <use xlink:href=\"#DejaVuSans-48\"/>\n       <use x=\"63.623047\" xlink:href=\"#DejaVuSans-46\"/>\n       <use x=\"95.410156\" xlink:href=\"#DejaVuSans-49\"/>\n       <use x=\"159.033203\" xlink:href=\"#DejaVuSans-50\"/>\n       <use x=\"222.65625\" xlink:href=\"#DejaVuSans-52\"/>\n      </g>\n     </g>\n    </g>\n    <g id=\"ytick_4\">\n     <g id=\"line2d_10\">\n      <g>\n       <use style=\"stroke:#000000;stroke-width:0.8;\" x=\"42.828125\" xlink:href=\"#m49d7c18f66\" y=\"72.278652\"/>\n      </g>\n     </g>\n     <g id=\"text_10\">\n      <!-- 0.126 -->\n      <g transform=\"translate(7.2 76.077871)scale(0.1 -0.1)\">\n       <use xlink:href=\"#DejaVuSans-48\"/>\n       <use x=\"63.623047\" xlink:href=\"#DejaVuSans-46\"/>\n       <use x=\"95.410156\" xlink:href=\"#DejaVuSans-49\"/>\n       <use x=\"159.033203\" xlink:href=\"#DejaVuSans-50\"/>\n       <use x=\"222.65625\" xlink:href=\"#DejaVuSans-54\"/>\n      </g>\n     </g>\n    </g>\n    <g id=\"ytick_5\">\n     <g id=\"line2d_11\">\n      <g>\n       <use style=\"stroke:#000000;stroke-width:0.8;\" x=\"42.828125\" xlink:href=\"#m49d7c18f66\" y=\"34.081628\"/>\n      </g>\n     </g>\n     <g id=\"text_11\">\n      <!-- 0.128 -->\n      <g transform=\"translate(7.2 37.880847)scale(0.1 -0.1)\">\n       <use xlink:href=\"#DejaVuSans-48\"/>\n       <use x=\"63.623047\" xlink:href=\"#DejaVuSans-46\"/>\n       <use x=\"95.410156\" xlink:href=\"#DejaVuSans-49\"/>\n       <use x=\"159.033203\" xlink:href=\"#DejaVuSans-50\"/>\n       <use x=\"222.65625\" xlink:href=\"#DejaVuSans-56\"/>\n      </g>\n     </g>\n    </g>\n   </g>\n   <g id=\"line2d_12\">\n    <path clip-path=\"url(#pc5a9524981)\" d=\"M 58.046307 115.596669 \nL 64.25781 125.09501 \nL 70.469312 134.137978 \nL 76.680815 142.721352 \nL 82.892318 150.839666 \nL 89.103821 158.488664 \nL 95.315324 165.664478 \nL 101.526826 172.362537 \nL 107.738329 178.579489 \nL 113.949832 184.312154 \nL 120.161335 189.55681 \nL 126.372837 194.311402 \nL 132.58434 198.57325 \nL 138.795843 202.340435 \nL 145.007346 205.611147 \nL 151.218849 208.383922 \nL 157.430351 210.657573 \nL 163.641854 212.432328 \nL 169.853357 213.706506 \nL 176.06486 214.481273 \nL 182.276362 214.756364 \nL 188.487865 214.532385 \nL 194.699368 213.810813 \nL 200.910871 212.592494 \nL 207.122374 210.879147 \nL 213.333876 208.672584 \nL 219.545379 205.975243 \nL 225.756882 202.789507 \nL 231.968385 199.118189 \nL 238.179888 194.964254 \nL 244.39139 190.331155 \nL 250.602893 185.222246 \nL 256.814396 179.641397 \nL 263.025899 173.592291 \nL 269.237401 167.079555 \nL 275.448904 160.107462 \nL 281.660407 152.680439 \nL 287.87191 144.803339 \nL 294.083413 136.480963 \nL 300.294915 127.718474 \nL 306.506418 118.521077 \nL 312.717921 108.894081 \nL 318.929424 98.842783 \nL 325.140926 88.372967 \nL 331.352429 77.490115 \nL 337.563932 66.199997 \nL 343.775435 54.508383 \nL 349.986938 42.421192 \nL 356.19844 29.944277 \nL 362.409943 17.083636 \n\" style=\"fill:none;stroke:#1f77b4;stroke-linecap:square;stroke-width:1.5;\"/>\n   </g>\n   <g id=\"patch_3\">\n    <path d=\"M 42.828125 224.64 \nL 42.828125 7.2 \n\" style=\"fill:none;stroke:#000000;stroke-linecap:square;stroke-linejoin:miter;stroke-width:0.8;\"/>\n   </g>\n   <g id=\"patch_4\">\n    <path d=\"M 377.628125 224.64 \nL 377.628125 7.2 \n\" style=\"fill:none;stroke:#000000;stroke-linecap:square;stroke-linejoin:miter;stroke-width:0.8;\"/>\n   </g>\n   <g id=\"patch_5\">\n    <path d=\"M 42.828125 224.64 \nL 377.628125 224.64 \n\" style=\"fill:none;stroke:#000000;stroke-linecap:square;stroke-linejoin:miter;stroke-width:0.8;\"/>\n   </g>\n   <g id=\"patch_6\">\n    <path d=\"M 42.828125 7.2 \nL 377.628125 7.2 \n\" style=\"fill:none;stroke:#000000;stroke-linecap:square;stroke-linejoin:miter;stroke-width:0.8;\"/>\n   </g>\n  </g>\n </g>\n <defs>\n  <clipPath id=\"pc5a9524981\">\n   <rect height=\"217.44\" width=\"334.8\" x=\"42.828125\" y=\"7.2\"/>\n  </clipPath>\n </defs>\n</svg>\n",
      "image/png": "[encoded data removed]"
     },
     "metadata": {
      "needs_background": "light"
     }
    }
   ],
   "source": [
    "# best lasso weight\n",
    "errors_lasso_weight = np.mean(errors_lasso, axis=0)\n",
    "plt.plot(weights, errors_lasso_weight)\n",
    "best_error = np.min(errors_lasso_weight)\n",
    "best_weight_lasso = weights[errors_lasso_weight == best_error][0]\n",
    "print(best_weight_lasso)"
   ]
  },
  {
   "cell_type": "code",
   "execution_count": 136,
   "metadata": {},
   "outputs": [
    {
     "output_type": "stream",
     "name": "stdout",
     "text": [
      "0.44\n"
     ]
    },
    {
     "output_type": "display_data",
     "data": {
      "text/plain": "<Figure size 432x288 with 1 Axes>",
      "image/svg+xml": "<?xml version=\"1.0\" encoding=\"utf-8\" standalone=\"no\"?>\n<!DOCTYPE svg PUBLIC \"-//W3C//DTD SVG 1.1//EN\"\n  \"http://www.w3.org/Graphics/SVG/1.1/DTD/svg11.dtd\">\n<!-- Created with matplotlib (https://matplotlib.org/) -->\n<svg height=\"248.518125pt\" version=\"1.1\" viewBox=\"0 0 391.190625 248.518125\" width=\"391.190625pt\" xmlns=\"http://www.w3.org/2000/svg\" xmlns:xlink=\"http://www.w3.org/1999/xlink\">\n <metadata>\n  <rdf:RDF xmlns:cc=\"http://creativecommons.org/ns#\" xmlns:dc=\"http://purl.org/dc/elements/1.1/\" xmlns:rdf=\"http://www.w3.org/1999/02/22-rdf-syntax-ns#\">\n   <cc:Work>\n    <dc:type rdf:resource=\"http://purl.org/dc/dcmitype/StillImage\"/>\n    <dc:date>2021-04-19T12:46:32.802351</dc:date>\n    <dc:format>image/svg+xml</dc:format>\n    <dc:creator>\n     <cc:Agent>\n      <dc:title>Matplotlib v3.3.2, https://matplotlib.org/</dc:title>\n     </cc:Agent>\n    </dc:creator>\n   </cc:Work>\n  </rdf:RDF>\n </metadata>\n <defs>\n  <style type=\"text/css\">*{stroke-linecap:butt;stroke-linejoin:round;}</style>\n </defs>\n <g id=\"figure_1\">\n  <g id=\"patch_1\">\n   <path d=\"M 0 248.518125 \nL 391.190625 248.518125 \nL 391.190625 0 \nL 0 0 \nz\n\" style=\"fill:none;\"/>\n  </g>\n  <g id=\"axes_1\">\n   <g id=\"patch_2\">\n    <path d=\"M 49.190625 224.64 \nL 383.990625 224.64 \nL 383.990625 7.2 \nL 49.190625 7.2 \nz\n\" style=\"fill:#ffffff;\"/>\n   </g>\n   <g id=\"matplotlib.axis_1\">\n    <g id=\"xtick_1\">\n     <g id=\"line2d_1\">\n      <defs>\n       <path d=\"M 0 0 \nL 0 3.5 \n\" id=\"m60a240e8d4\" style=\"stroke:#000000;stroke-width:0.8;\"/>\n      </defs>\n      <g>\n       <use style=\"stroke:#000000;stroke-width:0.8;\" x=\"64.408807\" xlink:href=\"#m60a240e8d4\" y=\"224.64\"/>\n      </g>\n     </g>\n     <g id=\"text_1\">\n      <!-- 0.0 -->\n      <g transform=\"translate(56.457244 239.238437)scale(0.1 -0.1)\">\n       <defs>\n        <path d=\"M 31.78125 66.40625 \nQ 24.171875 66.40625 20.328125 58.90625 \nQ 16.5 51.421875 16.5 36.375 \nQ 16.5 21.390625 20.328125 13.890625 \nQ 24.171875 6.390625 31.78125 6.390625 \nQ 39.453125 6.390625 43.28125 13.890625 \nQ 47.125 21.390625 47.125 36.375 \nQ 47.125 51.421875 43.28125 58.90625 \nQ 39.453125 66.40625 31.78125 66.40625 \nz\nM 31.78125 74.21875 \nQ 44.046875 74.21875 50.515625 64.515625 \nQ 56.984375 54.828125 56.984375 36.375 \nQ 56.984375 17.96875 50.515625 8.265625 \nQ 44.046875 -1.421875 31.78125 -1.421875 \nQ 19.53125 -1.421875 13.0625 8.265625 \nQ 6.59375 17.96875 6.59375 36.375 \nQ 6.59375 54.828125 13.0625 64.515625 \nQ 19.53125 74.21875 31.78125 74.21875 \nz\n\" id=\"DejaVuSans-48\"/>\n        <path d=\"M 10.6875 12.40625 \nL 21 12.40625 \nL 21 0 \nL 10.6875 0 \nz\n\" id=\"DejaVuSans-46\"/>\n       </defs>\n       <use xlink:href=\"#DejaVuSans-48\"/>\n       <use x=\"63.623047\" xlink:href=\"#DejaVuSans-46\"/>\n       <use x=\"95.410156\" xlink:href=\"#DejaVuSans-48\"/>\n      </g>\n     </g>\n    </g>\n    <g id=\"xtick_2\">\n     <g id=\"line2d_2\">\n      <g>\n       <use style=\"stroke:#000000;stroke-width:0.8;\" x=\"126.523835\" xlink:href=\"#m60a240e8d4\" y=\"224.64\"/>\n      </g>\n     </g>\n     <g id=\"text_2\">\n      <!-- 0.2 -->\n      <g transform=\"translate(118.572272 239.238437)scale(0.1 -0.1)\">\n       <defs>\n        <path d=\"M 19.1875 8.296875 \nL 53.609375 8.296875 \nL 53.609375 0 \nL 7.328125 0 \nL 7.328125 8.296875 \nQ 12.9375 14.109375 22.625 23.890625 \nQ 32.328125 33.6875 34.8125 36.53125 \nQ 39.546875 41.84375 41.421875 45.53125 \nQ 43.3125 49.21875 43.3125 52.78125 \nQ 43.3125 58.59375 39.234375 62.25 \nQ 35.15625 65.921875 28.609375 65.921875 \nQ 23.96875 65.921875 18.8125 64.3125 \nQ 13.671875 62.703125 7.8125 59.421875 \nL 7.8125 69.390625 \nQ 13.765625 71.78125 18.9375 73 \nQ 24.125 74.21875 28.421875 74.21875 \nQ 39.75 74.21875 46.484375 68.546875 \nQ 53.21875 62.890625 53.21875 53.421875 \nQ 53.21875 48.921875 51.53125 44.890625 \nQ 49.859375 40.875 45.40625 35.40625 \nQ 44.1875 33.984375 37.640625 27.21875 \nQ 31.109375 20.453125 19.1875 8.296875 \nz\n\" id=\"DejaVuSans-50\"/>\n       </defs>\n       <use xlink:href=\"#DejaVuSans-48\"/>\n       <use x=\"63.623047\" xlink:href=\"#DejaVuSans-46\"/>\n       <use x=\"95.410156\" xlink:href=\"#DejaVuSans-50\"/>\n      </g>\n     </g>\n    </g>\n    <g id=\"xtick_3\">\n     <g id=\"line2d_3\">\n      <g>\n       <use style=\"stroke:#000000;stroke-width:0.8;\" x=\"188.638862\" xlink:href=\"#m60a240e8d4\" y=\"224.64\"/>\n      </g>\n     </g>\n     <g id=\"text_3\">\n      <!-- 0.4 -->\n      <g transform=\"translate(180.6873 239.238437)scale(0.1 -0.1)\">\n       <defs>\n        <path d=\"M 37.796875 64.3125 \nL 12.890625 25.390625 \nL 37.796875 25.390625 \nz\nM 35.203125 72.90625 \nL 47.609375 72.90625 \nL 47.609375 25.390625 \nL 58.015625 25.390625 \nL 58.015625 17.1875 \nL 47.609375 17.1875 \nL 47.609375 0 \nL 37.796875 0 \nL 37.796875 17.1875 \nL 4.890625 17.1875 \nL 4.890625 26.703125 \nz\n\" id=\"DejaVuSans-52\"/>\n       </defs>\n       <use xlink:href=\"#DejaVuSans-48\"/>\n       <use x=\"63.623047\" xlink:href=\"#DejaVuSans-46\"/>\n       <use x=\"95.410156\" xlink:href=\"#DejaVuSans-52\"/>\n      </g>\n     </g>\n    </g>\n    <g id=\"xtick_4\">\n     <g id=\"line2d_4\">\n      <g>\n       <use style=\"stroke:#000000;stroke-width:0.8;\" x=\"250.75389\" xlink:href=\"#m60a240e8d4\" y=\"224.64\"/>\n      </g>\n     </g>\n     <g id=\"text_4\">\n      <!-- 0.6 -->\n      <g transform=\"translate(242.802328 239.238437)scale(0.1 -0.1)\">\n       <defs>\n        <path d=\"M 33.015625 40.375 \nQ 26.375 40.375 22.484375 35.828125 \nQ 18.609375 31.296875 18.609375 23.390625 \nQ 18.609375 15.53125 22.484375 10.953125 \nQ 26.375 6.390625 33.015625 6.390625 \nQ 39.65625 6.390625 43.53125 10.953125 \nQ 47.40625 15.53125 47.40625 23.390625 \nQ 47.40625 31.296875 43.53125 35.828125 \nQ 39.65625 40.375 33.015625 40.375 \nz\nM 52.59375 71.296875 \nL 52.59375 62.3125 \nQ 48.875 64.0625 45.09375 64.984375 \nQ 41.3125 65.921875 37.59375 65.921875 \nQ 27.828125 65.921875 22.671875 59.328125 \nQ 17.53125 52.734375 16.796875 39.40625 \nQ 19.671875 43.65625 24.015625 45.921875 \nQ 28.375 48.1875 33.59375 48.1875 \nQ 44.578125 48.1875 50.953125 41.515625 \nQ 57.328125 34.859375 57.328125 23.390625 \nQ 57.328125 12.15625 50.6875 5.359375 \nQ 44.046875 -1.421875 33.015625 -1.421875 \nQ 20.359375 -1.421875 13.671875 8.265625 \nQ 6.984375 17.96875 6.984375 36.375 \nQ 6.984375 53.65625 15.1875 63.9375 \nQ 23.390625 74.21875 37.203125 74.21875 \nQ 40.921875 74.21875 44.703125 73.484375 \nQ 48.484375 72.75 52.59375 71.296875 \nz\n\" id=\"DejaVuSans-54\"/>\n       </defs>\n       <use xlink:href=\"#DejaVuSans-48\"/>\n       <use x=\"63.623047\" xlink:href=\"#DejaVuSans-46\"/>\n       <use x=\"95.410156\" xlink:href=\"#DejaVuSans-54\"/>\n      </g>\n     </g>\n    </g>\n    <g id=\"xtick_5\">\n     <g id=\"line2d_5\">\n      <g>\n       <use style=\"stroke:#000000;stroke-width:0.8;\" x=\"312.868918\" xlink:href=\"#m60a240e8d4\" y=\"224.64\"/>\n      </g>\n     </g>\n     <g id=\"text_5\">\n      <!-- 0.8 -->\n      <g transform=\"translate(304.917356 239.238437)scale(0.1 -0.1)\">\n       <defs>\n        <path d=\"M 31.78125 34.625 \nQ 24.75 34.625 20.71875 30.859375 \nQ 16.703125 27.09375 16.703125 20.515625 \nQ 16.703125 13.921875 20.71875 10.15625 \nQ 24.75 6.390625 31.78125 6.390625 \nQ 38.8125 6.390625 42.859375 10.171875 \nQ 46.921875 13.96875 46.921875 20.515625 \nQ 46.921875 27.09375 42.890625 30.859375 \nQ 38.875 34.625 31.78125 34.625 \nz\nM 21.921875 38.8125 \nQ 15.578125 40.375 12.03125 44.71875 \nQ 8.5 49.078125 8.5 55.328125 \nQ 8.5 64.0625 14.71875 69.140625 \nQ 20.953125 74.21875 31.78125 74.21875 \nQ 42.671875 74.21875 48.875 69.140625 \nQ 55.078125 64.0625 55.078125 55.328125 \nQ 55.078125 49.078125 51.53125 44.71875 \nQ 48 40.375 41.703125 38.8125 \nQ 48.828125 37.15625 52.796875 32.3125 \nQ 56.78125 27.484375 56.78125 20.515625 \nQ 56.78125 9.90625 50.3125 4.234375 \nQ 43.84375 -1.421875 31.78125 -1.421875 \nQ 19.734375 -1.421875 13.25 4.234375 \nQ 6.78125 9.90625 6.78125 20.515625 \nQ 6.78125 27.484375 10.78125 32.3125 \nQ 14.796875 37.15625 21.921875 38.8125 \nz\nM 18.3125 54.390625 \nQ 18.3125 48.734375 21.84375 45.5625 \nQ 25.390625 42.390625 31.78125 42.390625 \nQ 38.140625 42.390625 41.71875 45.5625 \nQ 45.3125 48.734375 45.3125 54.390625 \nQ 45.3125 60.0625 41.71875 63.234375 \nQ 38.140625 66.40625 31.78125 66.40625 \nQ 25.390625 66.40625 21.84375 63.234375 \nQ 18.3125 60.0625 18.3125 54.390625 \nz\n\" id=\"DejaVuSans-56\"/>\n       </defs>\n       <use xlink:href=\"#DejaVuSans-48\"/>\n       <use x=\"63.623047\" xlink:href=\"#DejaVuSans-46\"/>\n       <use x=\"95.410156\" xlink:href=\"#DejaVuSans-56\"/>\n      </g>\n     </g>\n    </g>\n    <g id=\"xtick_6\">\n     <g id=\"line2d_6\">\n      <g>\n       <use style=\"stroke:#000000;stroke-width:0.8;\" x=\"374.983946\" xlink:href=\"#m60a240e8d4\" y=\"224.64\"/>\n      </g>\n     </g>\n     <g id=\"text_6\">\n      <!-- 1.0 -->\n      <g transform=\"translate(367.032383 239.238437)scale(0.1 -0.1)\">\n       <defs>\n        <path d=\"M 12.40625 8.296875 \nL 28.515625 8.296875 \nL 28.515625 63.921875 \nL 10.984375 60.40625 \nL 10.984375 69.390625 \nL 28.421875 72.90625 \nL 38.28125 72.90625 \nL 38.28125 8.296875 \nL 54.390625 8.296875 \nL 54.390625 0 \nL 12.40625 0 \nz\n\" id=\"DejaVuSans-49\"/>\n       </defs>\n       <use xlink:href=\"#DejaVuSans-49\"/>\n       <use x=\"63.623047\" xlink:href=\"#DejaVuSans-46\"/>\n       <use x=\"95.410156\" xlink:href=\"#DejaVuSans-48\"/>\n      </g>\n     </g>\n    </g>\n   </g>\n   <g id=\"matplotlib.axis_2\">\n    <g id=\"ytick_1\">\n     <g id=\"line2d_7\">\n      <defs>\n       <path d=\"M 0 0 \nL -3.5 0 \n\" id=\"m00395c1ce1\" style=\"stroke:#000000;stroke-width:0.8;\"/>\n      </defs>\n      <g>\n       <use style=\"stroke:#000000;stroke-width:0.8;\" x=\"49.190625\" xlink:href=\"#m00395c1ce1\" y=\"191.678084\"/>\n      </g>\n     </g>\n     <g id=\"text_7\">\n      <!-- 0.1175 -->\n      <g transform=\"translate(7.2 195.477302)scale(0.1 -0.1)\">\n       <defs>\n        <path d=\"M 8.203125 72.90625 \nL 55.078125 72.90625 \nL 55.078125 68.703125 \nL 28.609375 0 \nL 18.3125 0 \nL 43.21875 64.59375 \nL 8.203125 64.59375 \nz\n\" id=\"DejaVuSans-55\"/>\n        <path d=\"M 10.796875 72.90625 \nL 49.515625 72.90625 \nL 49.515625 64.59375 \nL 19.828125 64.59375 \nL 19.828125 46.734375 \nQ 21.96875 47.46875 24.109375 47.828125 \nQ 26.265625 48.1875 28.421875 48.1875 \nQ 40.625 48.1875 47.75 41.5 \nQ 54.890625 34.8125 54.890625 23.390625 \nQ 54.890625 11.625 47.5625 5.09375 \nQ 40.234375 -1.421875 26.90625 -1.421875 \nQ 22.3125 -1.421875 17.546875 -0.640625 \nQ 12.796875 0.140625 7.71875 1.703125 \nL 7.71875 11.625 \nQ 12.109375 9.234375 16.796875 8.0625 \nQ 21.484375 6.890625 26.703125 6.890625 \nQ 35.15625 6.890625 40.078125 11.328125 \nQ 45.015625 15.765625 45.015625 23.390625 \nQ 45.015625 31 40.078125 35.4375 \nQ 35.15625 39.890625 26.703125 39.890625 \nQ 22.75 39.890625 18.8125 39.015625 \nQ 14.890625 38.140625 10.796875 36.28125 \nz\n\" id=\"DejaVuSans-53\"/>\n       </defs>\n       <use xlink:href=\"#DejaVuSans-48\"/>\n       <use x=\"63.623047\" xlink:href=\"#DejaVuSans-46\"/>\n       <use x=\"95.410156\" xlink:href=\"#DejaVuSans-49\"/>\n       <use x=\"159.033203\" xlink:href=\"#DejaVuSans-49\"/>\n       <use x=\"222.65625\" xlink:href=\"#DejaVuSans-55\"/>\n       <use x=\"286.279297\" xlink:href=\"#DejaVuSans-53\"/>\n      </g>\n     </g>\n    </g>\n    <g id=\"ytick_2\">\n     <g id=\"line2d_8\">\n      <g>\n       <use style=\"stroke:#000000;stroke-width:0.8;\" x=\"49.190625\" xlink:href=\"#m00395c1ce1\" y=\"150.178797\"/>\n      </g>\n     </g>\n     <g id=\"text_8\">\n      <!-- 0.1180 -->\n      <g transform=\"translate(7.2 153.978015)scale(0.1 -0.1)\">\n       <use xlink:href=\"#DejaVuSans-48\"/>\n       <use x=\"63.623047\" xlink:href=\"#DejaVuSans-46\"/>\n       <use x=\"95.410156\" xlink:href=\"#DejaVuSans-49\"/>\n       <use x=\"159.033203\" xlink:href=\"#DejaVuSans-49\"/>\n       <use x=\"222.65625\" xlink:href=\"#DejaVuSans-56\"/>\n       <use x=\"286.279297\" xlink:href=\"#DejaVuSans-48\"/>\n      </g>\n     </g>\n    </g>\n    <g id=\"ytick_3\">\n     <g id=\"line2d_9\">\n      <g>\n       <use style=\"stroke:#000000;stroke-width:0.8;\" x=\"49.190625\" xlink:href=\"#m00395c1ce1\" y=\"108.67951\"/>\n      </g>\n     </g>\n     <g id=\"text_9\">\n      <!-- 0.1185 -->\n      <g transform=\"translate(7.2 112.478728)scale(0.1 -0.1)\">\n       <use xlink:href=\"#DejaVuSans-48\"/>\n       <use x=\"63.623047\" xlink:href=\"#DejaVuSans-46\"/>\n       <use x=\"95.410156\" xlink:href=\"#DejaVuSans-49\"/>\n       <use x=\"159.033203\" xlink:href=\"#DejaVuSans-49\"/>\n       <use x=\"222.65625\" xlink:href=\"#DejaVuSans-56\"/>\n       <use x=\"286.279297\" xlink:href=\"#DejaVuSans-53\"/>\n      </g>\n     </g>\n    </g>\n    <g id=\"ytick_4\">\n     <g id=\"line2d_10\">\n      <g>\n       <use style=\"stroke:#000000;stroke-width:0.8;\" x=\"49.190625\" xlink:href=\"#m00395c1ce1\" y=\"67.180223\"/>\n      </g>\n     </g>\n     <g id=\"text_10\">\n      <!-- 0.1190 -->\n      <g transform=\"translate(7.2 70.979441)scale(0.1 -0.1)\">\n       <defs>\n        <path d=\"M 10.984375 1.515625 \nL 10.984375 10.5 \nQ 14.703125 8.734375 18.5 7.8125 \nQ 22.3125 6.890625 25.984375 6.890625 \nQ 35.75 6.890625 40.890625 13.453125 \nQ 46.046875 20.015625 46.78125 33.40625 \nQ 43.953125 29.203125 39.59375 26.953125 \nQ 35.25 24.703125 29.984375 24.703125 \nQ 19.046875 24.703125 12.671875 31.3125 \nQ 6.296875 37.9375 6.296875 49.421875 \nQ 6.296875 60.640625 12.9375 67.421875 \nQ 19.578125 74.21875 30.609375 74.21875 \nQ 43.265625 74.21875 49.921875 64.515625 \nQ 56.59375 54.828125 56.59375 36.375 \nQ 56.59375 19.140625 48.40625 8.859375 \nQ 40.234375 -1.421875 26.421875 -1.421875 \nQ 22.703125 -1.421875 18.890625 -0.6875 \nQ 15.09375 0.046875 10.984375 1.515625 \nz\nM 30.609375 32.421875 \nQ 37.25 32.421875 41.125 36.953125 \nQ 45.015625 41.5 45.015625 49.421875 \nQ 45.015625 57.28125 41.125 61.84375 \nQ 37.25 66.40625 30.609375 66.40625 \nQ 23.96875 66.40625 20.09375 61.84375 \nQ 16.21875 57.28125 16.21875 49.421875 \nQ 16.21875 41.5 20.09375 36.953125 \nQ 23.96875 32.421875 30.609375 32.421875 \nz\n\" id=\"DejaVuSans-57\"/>\n       </defs>\n       <use xlink:href=\"#DejaVuSans-48\"/>\n       <use x=\"63.623047\" xlink:href=\"#DejaVuSans-46\"/>\n       <use x=\"95.410156\" xlink:href=\"#DejaVuSans-49\"/>\n       <use x=\"159.033203\" xlink:href=\"#DejaVuSans-49\"/>\n       <use x=\"222.65625\" xlink:href=\"#DejaVuSans-57\"/>\n       <use x=\"286.279297\" xlink:href=\"#DejaVuSans-48\"/>\n      </g>\n     </g>\n    </g>\n    <g id=\"ytick_5\">\n     <g id=\"line2d_11\">\n      <g>\n       <use style=\"stroke:#000000;stroke-width:0.8;\" x=\"49.190625\" xlink:href=\"#m00395c1ce1\" y=\"25.680936\"/>\n      </g>\n     </g>\n     <g id=\"text_11\">\n      <!-- 0.1195 -->\n      <g transform=\"translate(7.2 29.480154)scale(0.1 -0.1)\">\n       <use xlink:href=\"#DejaVuSans-48\"/>\n       <use x=\"63.623047\" xlink:href=\"#DejaVuSans-46\"/>\n       <use x=\"95.410156\" xlink:href=\"#DejaVuSans-49\"/>\n       <use x=\"159.033203\" xlink:href=\"#DejaVuSans-49\"/>\n       <use x=\"222.65625\" xlink:href=\"#DejaVuSans-57\"/>\n       <use x=\"286.279297\" xlink:href=\"#DejaVuSans-53\"/>\n      </g>\n     </g>\n    </g>\n   </g>\n   <g id=\"line2d_12\">\n    <path clip-path=\"url(#pa8f71b7843)\" d=\"M 64.408807 78.932814 \nL 70.62031 90.825452 \nL 76.831812 102.183197 \nL 83.043315 113.004182 \nL 89.254818 123.286618 \nL 95.466321 133.028801 \nL 101.677824 142.229108 \nL 107.889326 150.886001 \nL 114.100829 158.998029 \nL 120.312332 166.563827 \nL 126.523835 173.58212 \nL 132.735337 180.051721 \nL 138.94684 185.971533 \nL 145.158343 191.340551 \nL 151.369846 196.157863 \nL 157.581349 200.42265 \nL 163.792851 204.134183 \nL 170.004354 207.291833 \nL 176.215857 209.895062 \nL 182.42736 211.943427 \nL 188.638862 213.436583 \nL 194.850365 214.37428 \nL 201.061868 214.756364 \nL 207.273371 214.582776 \nL 213.484874 213.853556 \nL 219.696376 212.568839 \nL 225.907879 210.728855 \nL 232.119382 208.333932 \nL 238.330885 205.384491 \nL 244.542388 201.881052 \nL 250.75389 197.824227 \nL 256.965393 193.214723 \nL 263.176896 188.05334 \nL 269.388399 182.340972 \nL 275.599901 176.078605 \nL 281.811404 169.267315 \nL 288.022907 161.908271 \nL 294.23441 154.002729 \nL 300.445913 145.552034 \nL 306.657415 136.557619 \nL 312.868918 127.021001 \nL 319.080421 116.943783 \nL 325.291924 106.327652 \nL 331.503426 95.174375 \nL 337.714929 83.485802 \nL 343.926432 71.263861 \nL 350.137935 58.510555 \nL 356.349438 45.227967 \nL 362.56094 31.418251 \nL 368.772443 17.083636 \n\" style=\"fill:none;stroke:#1f77b4;stroke-linecap:square;stroke-width:1.5;\"/>\n   </g>\n   <g id=\"patch_3\">\n    <path d=\"M 49.190625 224.64 \nL 49.190625 7.2 \n\" style=\"fill:none;stroke:#000000;stroke-linecap:square;stroke-linejoin:miter;stroke-width:0.8;\"/>\n   </g>\n   <g id=\"patch_4\">\n    <path d=\"M 383.990625 224.64 \nL 383.990625 7.2 \n\" style=\"fill:none;stroke:#000000;stroke-linecap:square;stroke-linejoin:miter;stroke-width:0.8;\"/>\n   </g>\n   <g id=\"patch_5\">\n    <path d=\"M 49.190625 224.64 \nL 383.990625 224.64 \n\" style=\"fill:none;stroke:#000000;stroke-linecap:square;stroke-linejoin:miter;stroke-width:0.8;\"/>\n   </g>\n   <g id=\"patch_6\">\n    <path d=\"M 49.190625 7.2 \nL 383.990625 7.2 \n\" style=\"fill:none;stroke:#000000;stroke-linecap:square;stroke-linejoin:miter;stroke-width:0.8;\"/>\n   </g>\n  </g>\n </g>\n <defs>\n  <clipPath id=\"pa8f71b7843\">\n   <rect height=\"217.44\" width=\"334.8\" x=\"49.190625\" y=\"7.2\"/>\n  </clipPath>\n </defs>\n</svg>\n",
      "image/png": "[encoded data removed]"
     },
     "metadata": {
      "needs_background": "light"
     }
    }
   ],
   "source": [
    "# best cat weight\n",
    "errors_cat_weight = np.mean(errors_cat, axis=0)\n",
    "plt.plot(weights, errors_cat_weight)\n",
    "best_error = np.min(errors_cat_weight)\n",
    "best_weight_cat = weights[errors_cat_weight == best_error][0]\n",
    "print(best_weight_cat)\n"
   ]
  },
  {
   "cell_type": "code",
   "execution_count": 139,
   "metadata": {
    "tags": [
     "outputPrepend"
    ]
   },
   "outputs": [
    {
     "output_type": "stream",
     "name": "stdout",
     "text": [
      "ning: 3m 20s\n",
      "2680:\tlearn: 0.0534777\ttest: 0.1086944\tbest: 0.1086928 (2656)\ttotal: 11.4s\tremaining: 3m 20s\n",
      "2681:\tlearn: 0.0534679\ttest: 0.1086972\tbest: 0.1086928 (2656)\ttotal: 11.4s\tremaining: 3m 20s\n",
      "2682:\tlearn: 0.0534504\ttest: 0.1087039\tbest: 0.1086928 (2656)\ttotal: 11.4s\tremaining: 3m 20s\n",
      "2683:\tlearn: 0.0534350\ttest: 0.1087078\tbest: 0.1086928 (2656)\ttotal: 11.4s\tremaining: 3m 20s\n",
      "2684:\tlearn: 0.0534267\ttest: 0.1087151\tbest: 0.1086928 (2656)\ttotal: 11.4s\tremaining: 3m 20s\n",
      "2685:\tlearn: 0.0534179\ttest: 0.1087170\tbest: 0.1086928 (2656)\ttotal: 11.4s\tremaining: 3m 20s\n",
      "2686:\tlearn: 0.0534076\ttest: 0.1087103\tbest: 0.1086928 (2656)\ttotal: 11.4s\tremaining: 3m 20s\n",
      "2687:\tlearn: 0.0533927\ttest: 0.1087099\tbest: 0.1086928 (2656)\ttotal: 11.4s\tremaining: 3m 20s\n",
      "2688:\tlearn: 0.0533812\ttest: 0.1087031\tbest: 0.1086928 (2656)\ttotal: 11.4s\tremaining: 3m 20s\n",
      "2689:\tlearn: 0.0533677\ttest: 0.1086910\tbest: 0.1086910 (2689)\ttotal: 11.4s\tremaining: 3m 20s\n",
      "2690:\tlearn: 0.0533582\ttest: 0.1086938\tbest: 0.1086910 (2689)\ttotal: 11.4s\tremaining: 3m 20s\n",
      "2691:\tlearn: 0.0533462\ttest: 0.1086893\tbest: 0.1086893 (2691)\ttotal: 11.4s\tremaining: 3m 20s\n",
      "2692:\tlearn: 0.0533277\ttest: 0.1087002\tbest: 0.1086893 (2691)\ttotal: 11.4s\tremaining: 3m 20s\n",
      "2693:\tlearn: 0.0533094\ttest: 0.1086935\tbest: 0.1086893 (2691)\ttotal: 11.4s\tremaining: 3m 20s\n",
      "2694:\tlearn: 0.0532981\ttest: 0.1086862\tbest: 0.1086862 (2694)\ttotal: 11.4s\tremaining: 3m 20s\n",
      "2695:\tlearn: 0.0532765\ttest: 0.1086773\tbest: 0.1086773 (2695)\ttotal: 11.4s\tremaining: 3m 20s\n",
      "2696:\tlearn: 0.0532721\ttest: 0.1086777\tbest: 0.1086773 (2695)\ttotal: 11.4s\tremaining: 3m 20s\n",
      "2697:\tlearn: 0.0532543\ttest: 0.1086641\tbest: 0.1086641 (2697)\ttotal: 11.4s\tremaining: 3m 20s\n",
      "2698:\tlearn: 0.0532378\ttest: 0.1086614\tbest: 0.1086614 (2698)\ttotal: 11.4s\tremaining: 3m 20s\n",
      "2699:\tlearn: 0.0532293\ttest: 0.1086564\tbest: 0.1086564 (2699)\ttotal: 11.4s\tremaining: 3m 20s\n",
      "2700:\tlearn: 0.0532183\ttest: 0.1086536\tbest: 0.1086536 (2700)\ttotal: 11.4s\tremaining: 3m 20s\n",
      "2701:\tlearn: 0.0532076\ttest: 0.1086555\tbest: 0.1086536 (2700)\ttotal: 11.4s\tremaining: 3m 20s\n",
      "2702:\tlearn: 0.0531989\ttest: 0.1086631\tbest: 0.1086536 (2700)\ttotal: 11.4s\tremaining: 3m 20s\n",
      "2703:\tlearn: 0.0531903\ttest: 0.1086669\tbest: 0.1086536 (2700)\ttotal: 11.4s\tremaining: 3m 20s\n",
      "2704:\tlearn: 0.0531670\ttest: 0.1086771\tbest: 0.1086536 (2700)\ttotal: 11.4s\tremaining: 3m 20s\n",
      "2705:\tlearn: 0.0531589\ttest: 0.1086864\tbest: 0.1086536 (2700)\ttotal: 11.4s\tremaining: 3m 20s\n",
      "2706:\tlearn: 0.0531458\ttest: 0.1086869\tbest: 0.1086536 (2700)\ttotal: 11.5s\tremaining: 3m 20s\n",
      "2707:\tlearn: 0.0531283\ttest: 0.1086758\tbest: 0.1086536 (2700)\ttotal: 11.5s\tremaining: 3m 20s\n",
      "2708:\tlearn: 0.0531149\ttest: 0.1086734\tbest: 0.1086536 (2700)\ttotal: 11.5s\tremaining: 3m 20s\n",
      "2709:\tlearn: 0.0531018\ttest: 0.1086642\tbest: 0.1086536 (2700)\ttotal: 11.5s\tremaining: 3m 20s\n",
      "2710:\tlearn: 0.0530889\ttest: 0.1086577\tbest: 0.1086536 (2700)\ttotal: 11.5s\tremaining: 3m 20s\n",
      "2711:\tlearn: 0.0530771\ttest: 0.1086514\tbest: 0.1086514 (2711)\ttotal: 11.5s\tremaining: 3m 20s\n",
      "2712:\tlearn: 0.0530743\ttest: 0.1086515\tbest: 0.1086514 (2711)\ttotal: 11.5s\tremaining: 3m 19s\n",
      "2713:\tlearn: 0.0530708\ttest: 0.1086511\tbest: 0.1086511 (2713)\ttotal: 11.5s\tremaining: 3m 19s\n",
      "2714:\tlearn: 0.0530512\ttest: 0.1086474\tbest: 0.1086474 (2714)\ttotal: 11.5s\tremaining: 3m 19s\n",
      "2715:\tlearn: 0.0530374\ttest: 0.1086414\tbest: 0.1086414 (2715)\ttotal: 11.5s\tremaining: 3m 19s\n",
      "2716:\tlearn: 0.0530245\ttest: 0.1086324\tbest: 0.1086324 (2716)\ttotal: 11.5s\tremaining: 3m 19s\n",
      "2717:\tlearn: 0.0530115\ttest: 0.1086185\tbest: 0.1086185 (2717)\ttotal: 11.5s\tremaining: 3m 19s\n",
      "2718:\tlearn: 0.0529922\ttest: 0.1086102\tbest: 0.1086102 (2718)\ttotal: 11.5s\tremaining: 3m 19s\n",
      "2719:\tlearn: 0.0529789\ttest: 0.1085970\tbest: 0.1085970 (2719)\ttotal: 11.5s\tremaining: 3m 19s\n",
      "2720:\tlearn: 0.0529599\ttest: 0.1085978\tbest: 0.1085970 (2719)\ttotal: 11.5s\tremaining: 3m 19s\n",
      "2721:\tlearn: 0.0529438\ttest: 0.1086141\tbest: 0.1085970 (2719)\ttotal: 11.5s\tremaining: 3m 19s\n",
      "2722:\tlearn: 0.0529220\ttest: 0.1086075\tbest: 0.1085970 (2719)\ttotal: 11.5s\tremaining: 3m 19s\n",
      "2723:\tlearn: 0.0529067\ttest: 0.1086038\tbest: 0.1085970 (2719)\ttotal: 11.5s\tremaining: 3m 19s\n",
      "2724:\tlearn: 0.0529033\ttest: 0.1086036\tbest: 0.1085970 (2719)\ttotal: 11.5s\tremaining: 3m 19s\n",
      "2725:\tlearn: 0.0528873\ttest: 0.1086028\tbest: 0.1085970 (2719)\ttotal: 11.5s\tremaining: 3m 19s\n",
      "2726:\tlearn: 0.0528753\ttest: 0.1085980\tbest: 0.1085970 (2719)\ttotal: 11.5s\tremaining: 3m 19s\n",
      "2727:\tlearn: 0.0528582\ttest: 0.1085926\tbest: 0.1085926 (2727)\ttotal: 11.5s\tremaining: 3m 19s\n",
      "2728:\tlearn: 0.0528446\ttest: 0.1085913\tbest: 0.1085913 (2728)\ttotal: 11.5s\tremaining: 3m 19s\n",
      "2729:\tlearn: 0.0528266\ttest: 0.1086015\tbest: 0.1085913 (2728)\ttotal: 11.5s\tremaining: 3m 19s\n",
      "2730:\tlearn: 0.0528112\ttest: 0.1085957\tbest: 0.1085913 (2728)\ttotal: 11.6s\tremaining: 3m 19s\n",
      "2731:\tlearn: 0.0528021\ttest: 0.1085836\tbest: 0.1085836 (2731)\ttotal: 11.6s\tremaining: 3m 19s\n",
      "2732:\tlearn: 0.0527928\ttest: 0.1085809\tbest: 0.1085809 (2732)\ttotal: 11.6s\tremaining: 3m 19s\n",
      "2733:\tlearn: 0.0527875\ttest: 0.1085808\tbest: 0.1085808 (2733)\ttotal: 11.6s\tremaining: 3m 19s\n",
      "2734:\tlearn: 0.0527763\ttest: 0.1085784\tbest: 0.1085784 (2734)\ttotal: 11.6s\tremaining: 3m 19s\n",
      "2735:\tlearn: 0.0527612\ttest: 0.1085714\tbest: 0.1085714 (2735)\ttotal: 11.6s\tremaining: 3m 19s\n",
      "2736:\tlearn: 0.0527527\ttest: 0.1085750\tbest: 0.1085714 (2735)\ttotal: 11.6s\tremaining: 3m 19s\n",
      "2737:\tlearn: 0.0527430\ttest: 0.1085774\tbest: 0.1085714 (2735)\ttotal: 11.6s\tremaining: 3m 19s\n",
      "2738:\tlearn: 0.0527375\ttest: 0.1085786\tbest: 0.1085714 (2735)\ttotal: 11.6s\tremaining: 3m 19s\n",
      "2739:\tlearn: 0.0527254\ttest: 0.1085659\tbest: 0.1085659 (2739)\ttotal: 11.6s\tremaining: 3m 19s\n",
      "2740:\tlearn: 0.0527189\ttest: 0.1085640\tbest: 0.1085640 (2740)\ttotal: 11.6s\tremaining: 3m 19s\n",
      "2741:\tlearn: 0.0527041\ttest: 0.1085610\tbest: 0.1085610 (2741)\ttotal: 11.6s\tremaining: 3m 19s\n",
      "2742:\tlearn: 0.0526921\ttest: 0.1085525\tbest: 0.1085525 (2742)\ttotal: 11.6s\tremaining: 3m 19s\n",
      "2743:\tlearn: 0.0526850\ttest: 0.1085527\tbest: 0.1085525 (2742)\ttotal: 11.6s\tremaining: 3m 19s\n",
      "2744:\tlearn: 0.0526692\ttest: 0.1085609\tbest: 0.1085525 (2742)\ttotal: 11.6s\tremaining: 3m 19s\n",
      "2745:\tlearn: 0.0526585\ttest: 0.1085656\tbest: 0.1085525 (2742)\ttotal: 11.6s\tremaining: 3m 19s\n",
      "2746:\tlearn: 0.0526503\ttest: 0.1085731\tbest: 0.1085525 (2742)\ttotal: 11.6s\tremaining: 3m 19s\n",
      "2747:\tlearn: 0.0526415\ttest: 0.1085716\tbest: 0.1085525 (2742)\ttotal: 11.6s\tremaining: 3m 19s\n",
      "2748:\tlearn: 0.0526354\ttest: 0.1085666\tbest: 0.1085525 (2742)\ttotal: 11.6s\tremaining: 3m 19s\n",
      "2749:\tlearn: 0.0526218\ttest: 0.1085619\tbest: 0.1085525 (2742)\ttotal: 11.6s\tremaining: 3m 19s\n",
      "2750:\tlearn: 0.0526134\ttest: 0.1085637\tbest: 0.1085525 (2742)\ttotal: 11.6s\tremaining: 3m 19s\n",
      "2751:\tlearn: 0.0525941\ttest: 0.1085802\tbest: 0.1085525 (2742)\ttotal: 11.6s\tremaining: 3m 19s\n",
      "2752:\tlearn: 0.0525763\ttest: 0.1085709\tbest: 0.1085525 (2742)\ttotal: 11.6s\tremaining: 3m 19s\n",
      "2753:\tlearn: 0.0525630\ttest: 0.1085705\tbest: 0.1085525 (2742)\ttotal: 11.6s\tremaining: 3m 19s\n",
      "2754:\tlearn: 0.0525494\ttest: 0.1085793\tbest: 0.1085525 (2742)\ttotal: 11.6s\tremaining: 3m 19s\n",
      "2755:\tlearn: 0.0525355\ttest: 0.1085818\tbest: 0.1085525 (2742)\ttotal: 11.6s\tremaining: 3m 19s\n",
      "2756:\tlearn: 0.0525166\ttest: 0.1085843\tbest: 0.1085525 (2742)\ttotal: 11.6s\tremaining: 3m 19s\n",
      "2757:\tlearn: 0.0525000\ttest: 0.1085916\tbest: 0.1085525 (2742)\ttotal: 11.6s\tremaining: 3m 19s\n",
      "2758:\tlearn: 0.0524907\ttest: 0.1085859\tbest: 0.1085525 (2742)\ttotal: 11.6s\tremaining: 3m 19s\n",
      "2759:\tlearn: 0.0524728\ttest: 0.1086012\tbest: 0.1085525 (2742)\ttotal: 11.6s\tremaining: 3m 19s\n",
      "2760:\tlearn: 0.0524508\ttest: 0.1085949\tbest: 0.1085525 (2742)\ttotal: 11.7s\tremaining: 3m 19s\n",
      "2761:\tlearn: 0.0524363\ttest: 0.1085847\tbest: 0.1085525 (2742)\ttotal: 11.7s\tremaining: 3m 19s\n",
      "2762:\tlearn: 0.0524274\ttest: 0.1085819\tbest: 0.1085525 (2742)\ttotal: 11.7s\tremaining: 3m 19s\n",
      "2763:\tlearn: 0.0524233\ttest: 0.1085823\tbest: 0.1085525 (2742)\ttotal: 11.7s\tremaining: 3m 19s\n",
      "2764:\tlearn: 0.0524194\ttest: 0.1085831\tbest: 0.1085525 (2742)\ttotal: 11.7s\tremaining: 3m 19s\n",
      "2765:\tlearn: 0.0524128\ttest: 0.1085800\tbest: 0.1085525 (2742)\ttotal: 11.7s\tremaining: 3m 19s\n",
      "2766:\tlearn: 0.0523960\ttest: 0.1085838\tbest: 0.1085525 (2742)\ttotal: 11.7s\tremaining: 3m 19s\n",
      "2767:\tlearn: 0.0523830\ttest: 0.1085837\tbest: 0.1085525 (2742)\ttotal: 11.7s\tremaining: 3m 19s\n",
      "2768:\tlearn: 0.0523679\ttest: 0.1085789\tbest: 0.1085525 (2742)\ttotal: 11.7s\tremaining: 3m 19s\n",
      "2769:\tlearn: 0.0523521\ttest: 0.1085787\tbest: 0.1085525 (2742)\ttotal: 11.7s\tremaining: 3m 19s\n",
      "2770:\tlearn: 0.0523408\ttest: 0.1085774\tbest: 0.1085525 (2742)\ttotal: 11.7s\tremaining: 3m 19s\n",
      "2771:\tlearn: 0.0523259\ttest: 0.1085812\tbest: 0.1085525 (2742)\ttotal: 11.7s\tremaining: 3m 19s\n",
      "2772:\tlearn: 0.0523105\ttest: 0.1085892\tbest: 0.1085525 (2742)\ttotal: 11.7s\tremaining: 3m 19s\n",
      "2773:\tlearn: 0.0523041\ttest: 0.1085917\tbest: 0.1085525 (2742)\ttotal: 11.7s\tremaining: 3m 19s\n",
      "2774:\tlearn: 0.0522910\ttest: 0.1085928\tbest: 0.1085525 (2742)\ttotal: 11.7s\tremaining: 3m 19s\n",
      "2775:\tlearn: 0.0522822\ttest: 0.1085873\tbest: 0.1085525 (2742)\ttotal: 11.7s\tremaining: 3m 19s\n",
      "2776:\tlearn: 0.0522643\ttest: 0.1085816\tbest: 0.1085525 (2742)\ttotal: 11.7s\tremaining: 3m 19s\n",
      "2777:\tlearn: 0.0522543\ttest: 0.1085782\tbest: 0.1085525 (2742)\ttotal: 11.7s\tremaining: 3m 19s\n",
      "2778:\tlearn: 0.0522455\ttest: 0.1085814\tbest: 0.1085525 (2742)\ttotal: 11.7s\tremaining: 3m 19s\n",
      "2779:\tlearn: 0.0522356\ttest: 0.1085833\tbest: 0.1085525 (2742)\ttotal: 11.7s\tremaining: 3m 19s\n",
      "2780:\tlearn: 0.0522183\ttest: 0.1085888\tbest: 0.1085525 (2742)\ttotal: 11.7s\tremaining: 3m 19s\n",
      "2781:\tlearn: 0.0522119\ttest: 0.1085889\tbest: 0.1085525 (2742)\ttotal: 11.7s\tremaining: 3m 19s\n",
      "2782:\tlearn: 0.0521986\ttest: 0.1085808\tbest: 0.1085525 (2742)\ttotal: 11.7s\tremaining: 3m 19s\n",
      "2783:\tlearn: 0.0521937\ttest: 0.1085827\tbest: 0.1085525 (2742)\ttotal: 11.7s\tremaining: 3m 19s\n",
      "2784:\tlearn: 0.0521854\ttest: 0.1085811\tbest: 0.1085525 (2742)\ttotal: 11.8s\tremaining: 3m 19s\n",
      "2785:\tlearn: 0.0521693\ttest: 0.1085764\tbest: 0.1085525 (2742)\ttotal: 11.8s\tremaining: 3m 19s\n",
      "2786:\tlearn: 0.0521620\ttest: 0.1085780\tbest: 0.1085525 (2742)\ttotal: 11.8s\tremaining: 3m 19s\n",
      "2787:\tlearn: 0.0521485\ttest: 0.1085795\tbest: 0.1085525 (2742)\ttotal: 11.8s\tremaining: 3m 19s\n",
      "2788:\tlearn: 0.0521291\ttest: 0.1085643\tbest: 0.1085525 (2742)\ttotal: 11.8s\tremaining: 3m 19s\n",
      "2789:\tlearn: 0.0521258\ttest: 0.1085630\tbest: 0.1085525 (2742)\ttotal: 11.8s\tremaining: 3m 19s\n",
      "2790:\tlearn: 0.0521231\ttest: 0.1085610\tbest: 0.1085525 (2742)\ttotal: 11.8s\tremaining: 3m 19s\n",
      "2791:\tlearn: 0.0521096\ttest: 0.1085636\tbest: 0.1085525 (2742)\ttotal: 11.8s\tremaining: 3m 19s\n",
      "2792:\tlearn: 0.0520908\ttest: 0.1085554\tbest: 0.1085525 (2742)\ttotal: 11.8s\tremaining: 3m 19s\n",
      "2793:\tlearn: 0.0520811\ttest: 0.1085475\tbest: 0.1085475 (2793)\ttotal: 11.8s\tremaining: 3m 19s\n",
      "2794:\tlearn: 0.0520788\ttest: 0.1085476\tbest: 0.1085475 (2793)\ttotal: 11.8s\tremaining: 3m 19s\n",
      "2795:\tlearn: 0.0520596\ttest: 0.1085549\tbest: 0.1085475 (2793)\ttotal: 11.8s\tremaining: 3m 19s\n",
      "2796:\tlearn: 0.0520435\ttest: 0.1085667\tbest: 0.1085475 (2793)\ttotal: 11.8s\tremaining: 3m 19s\n",
      "2797:\tlearn: 0.0520294\ttest: 0.1085699\tbest: 0.1085475 (2793)\ttotal: 11.8s\tremaining: 3m 18s\n",
      "2798:\tlearn: 0.0520213\ttest: 0.1085776\tbest: 0.1085475 (2793)\ttotal: 11.8s\tremaining: 3m 18s\n",
      "2799:\tlearn: 0.0520092\ttest: 0.1085789\tbest: 0.1085475 (2793)\ttotal: 11.8s\tremaining: 3m 18s\n",
      "2800:\tlearn: 0.0520059\ttest: 0.1085793\tbest: 0.1085475 (2793)\ttotal: 11.8s\tremaining: 3m 18s\n",
      "2801:\tlearn: 0.0519871\ttest: 0.1085816\tbest: 0.1085475 (2793)\ttotal: 11.8s\tremaining: 3m 18s\n",
      "2802:\tlearn: 0.0519771\ttest: 0.1085835\tbest: 0.1085475 (2793)\ttotal: 11.8s\tremaining: 3m 18s\n",
      "2803:\tlearn: 0.0519750\ttest: 0.1085837\tbest: 0.1085475 (2793)\ttotal: 11.8s\tremaining: 3m 18s\n",
      "2804:\tlearn: 0.0519581\ttest: 0.1085768\tbest: 0.1085475 (2793)\ttotal: 11.8s\tremaining: 3m 18s\n",
      "2805:\tlearn: 0.0519545\ttest: 0.1085779\tbest: 0.1085475 (2793)\ttotal: 11.8s\tremaining: 3m 18s\n",
      "2806:\tlearn: 0.0519509\ttest: 0.1085782\tbest: 0.1085475 (2793)\ttotal: 11.8s\tremaining: 3m 18s\n",
      "2807:\tlearn: 0.0519436\ttest: 0.1085834\tbest: 0.1085475 (2793)\ttotal: 11.8s\tremaining: 3m 18s\n",
      "2808:\tlearn: 0.0519312\ttest: 0.1085817\tbest: 0.1085475 (2793)\ttotal: 11.8s\tremaining: 3m 18s\n",
      "2809:\tlearn: 0.0519257\ttest: 0.1085844\tbest: 0.1085475 (2793)\ttotal: 11.8s\tremaining: 3m 18s\n",
      "2810:\tlearn: 0.0519196\ttest: 0.1085843\tbest: 0.1085475 (2793)\ttotal: 11.8s\tremaining: 3m 18s\n",
      "2811:\tlearn: 0.0519079\ttest: 0.1085906\tbest: 0.1085475 (2793)\ttotal: 11.8s\tremaining: 3m 18s\n",
      "2812:\tlearn: 0.0518964\ttest: 0.1085867\tbest: 0.1085475 (2793)\ttotal: 11.8s\tremaining: 3m 18s\n",
      "2813:\tlearn: 0.0518940\ttest: 0.1085885\tbest: 0.1085475 (2793)\ttotal: 11.9s\tremaining: 3m 18s\n",
      "2814:\tlearn: 0.0518750\ttest: 0.1085936\tbest: 0.1085475 (2793)\ttotal: 11.9s\tremaining: 3m 18s\n",
      "2815:\tlearn: 0.0518629\ttest: 0.1085953\tbest: 0.1085475 (2793)\ttotal: 11.9s\tremaining: 3m 18s\n",
      "2816:\tlearn: 0.0518409\ttest: 0.1085911\tbest: 0.1085475 (2793)\ttotal: 11.9s\tremaining: 3m 18s\n",
      "2817:\tlearn: 0.0518349\ttest: 0.1085908\tbest: 0.1085475 (2793)\ttotal: 11.9s\tremaining: 3m 18s\n",
      "2818:\tlearn: 0.0518209\ttest: 0.1085873\tbest: 0.1085475 (2793)\ttotal: 11.9s\tremaining: 3m 18s\n",
      "2819:\tlearn: 0.0518106\ttest: 0.1085820\tbest: 0.1085475 (2793)\ttotal: 11.9s\tremaining: 3m 18s\n",
      "2820:\tlearn: 0.0517946\ttest: 0.1085879\tbest: 0.1085475 (2793)\ttotal: 11.9s\tremaining: 3m 18s\n",
      "2821:\tlearn: 0.0517927\ttest: 0.1085883\tbest: 0.1085475 (2793)\ttotal: 11.9s\tremaining: 3m 18s\n",
      "2822:\tlearn: 0.0517767\ttest: 0.1085877\tbest: 0.1085475 (2793)\ttotal: 11.9s\tremaining: 3m 18s\n",
      "2823:\tlearn: 0.0517648\ttest: 0.1085815\tbest: 0.1085475 (2793)\ttotal: 11.9s\tremaining: 3m 18s\n",
      "2824:\tlearn: 0.0517548\ttest: 0.1085765\tbest: 0.1085475 (2793)\ttotal: 11.9s\tremaining: 3m 18s\n",
      "2825:\tlearn: 0.0517454\ttest: 0.1085781\tbest: 0.1085475 (2793)\ttotal: 11.9s\tremaining: 3m 18s\n",
      "2826:\tlearn: 0.0517364\ttest: 0.1085783\tbest: 0.1085475 (2793)\ttotal: 11.9s\tremaining: 3m 18s\n",
      "2827:\tlearn: 0.0517059\ttest: 0.1085765\tbest: 0.1085475 (2793)\ttotal: 11.9s\tremaining: 3m 18s\n",
      "2828:\tlearn: 0.0517001\ttest: 0.1085757\tbest: 0.1085475 (2793)\ttotal: 11.9s\tremaining: 3m 18s\n",
      "2829:\tlearn: 0.0516885\ttest: 0.1085791\tbest: 0.1085475 (2793)\ttotal: 11.9s\tremaining: 3m 18s\n",
      "2830:\tlearn: 0.0516671\ttest: 0.1085838\tbest: 0.1085475 (2793)\ttotal: 11.9s\tremaining: 3m 18s\n",
      "2831:\tlearn: 0.0516540\ttest: 0.1085840\tbest: 0.1085475 (2793)\ttotal: 11.9s\tremaining: 3m 18s\n",
      "2832:\tlearn: 0.0516460\ttest: 0.1085844\tbest: 0.1085475 (2793)\ttotal: 11.9s\tremaining: 3m 18s\n",
      "2833:\tlearn: 0.0516405\ttest: 0.1085845\tbest: 0.1085475 (2793)\ttotal: 11.9s\tremaining: 3m 18s\n",
      "2834:\tlearn: 0.0516269\ttest: 0.1085866\tbest: 0.1085475 (2793)\ttotal: 11.9s\tremaining: 3m 18s\n",
      "2835:\tlearn: 0.0516190\ttest: 0.1085867\tbest: 0.1085475 (2793)\ttotal: 11.9s\tremaining: 3m 18s\n",
      "2836:\tlearn: 0.0516143\ttest: 0.1085898\tbest: 0.1085475 (2793)\ttotal: 11.9s\tremaining: 3m 18s\n",
      "2837:\tlearn: 0.0516046\ttest: 0.1085854\tbest: 0.1085475 (2793)\ttotal: 11.9s\tremaining: 3m 18s\n",
      "2838:\tlearn: 0.0515893\ttest: 0.1085842\tbest: 0.1085475 (2793)\ttotal: 12s\tremaining: 3m 18s\n",
      "2839:\tlearn: 0.0515740\ttest: 0.1085758\tbest: 0.1085475 (2793)\ttotal: 12s\tremaining: 3m 18s\n",
      "2840:\tlearn: 0.0515530\ttest: 0.1085806\tbest: 0.1085475 (2793)\ttotal: 12s\tremaining: 3m 18s\n",
      "2841:\tlearn: 0.0515518\ttest: 0.1085806\tbest: 0.1085475 (2793)\ttotal: 12s\tremaining: 3m 18s\n",
      "2842:\tlearn: 0.0515364\ttest: 0.1085772\tbest: 0.1085475 (2793)\ttotal: 12s\tremaining: 3m 18s\n",
      "2843:\tlearn: 0.0515318\ttest: 0.1085761\tbest: 0.1085475 (2793)\ttotal: 12s\tremaining: 3m 18s\n",
      "2844:\tlearn: 0.0515246\ttest: 0.1085731\tbest: 0.1085475 (2793)\ttotal: 12s\tremaining: 3m 18s\n",
      "2845:\tlearn: 0.0515039\ttest: 0.1085764\tbest: 0.1085475 (2793)\ttotal: 12s\tremaining: 3m 18s\n",
      "2846:\tlearn: 0.0514897\ttest: 0.1085695\tbest: 0.1085475 (2793)\ttotal: 12s\tremaining: 3m 18s\n",
      "2847:\tlearn: 0.0514746\ttest: 0.1085728\tbest: 0.1085475 (2793)\ttotal: 12s\tremaining: 3m 18s\n",
      "2848:\tlearn: 0.0514730\ttest: 0.1085730\tbest: 0.1085475 (2793)\ttotal: 12s\tremaining: 3m 18s\n",
      "2849:\tlearn: 0.0514625\ttest: 0.1085635\tbest: 0.1085475 (2793)\ttotal: 12s\tremaining: 3m 18s\n",
      "2850:\tlearn: 0.0514502\ttest: 0.1085609\tbest: 0.1085475 (2793)\ttotal: 12s\tremaining: 3m 18s\n",
      "2851:\tlearn: 0.0514482\ttest: 0.1085608\tbest: 0.1085475 (2793)\ttotal: 12s\tremaining: 3m 18s\n",
      "2852:\tlearn: 0.0514387\ttest: 0.1085650\tbest: 0.1085475 (2793)\ttotal: 12s\tremaining: 3m 18s\n",
      "2853:\tlearn: 0.0514361\ttest: 0.1085650\tbest: 0.1085475 (2793)\ttotal: 12s\tremaining: 3m 18s\n",
      "2854:\tlearn: 0.0514213\ttest: 0.1085730\tbest: 0.1085475 (2793)\ttotal: 12s\tremaining: 3m 18s\n",
      "2855:\tlearn: 0.0514144\ttest: 0.1085721\tbest: 0.1085475 (2793)\ttotal: 12s\tremaining: 3m 18s\n",
      "2856:\tlearn: 0.0514114\ttest: 0.1085739\tbest: 0.1085475 (2793)\ttotal: 12s\tremaining: 3m 18s\n",
      "2857:\tlearn: 0.0514011\ttest: 0.1085744\tbest: 0.1085475 (2793)\ttotal: 12s\tremaining: 3m 18s\n",
      "2858:\tlearn: 0.0513877\ttest: 0.1085721\tbest: 0.1085475 (2793)\ttotal: 12s\tremaining: 3m 18s\n",
      "2859:\tlearn: 0.0513781\ttest: 0.1085740\tbest: 0.1085475 (2793)\ttotal: 12s\tremaining: 3m 18s\n",
      "2860:\tlearn: 0.0513648\ttest: 0.1085717\tbest: 0.1085475 (2793)\ttotal: 12s\tremaining: 3m 18s\n",
      "2861:\tlearn: 0.0513566\ttest: 0.1085723\tbest: 0.1085475 (2793)\ttotal: 12s\tremaining: 3m 18s\n",
      "2862:\tlearn: 0.0513462\ttest: 0.1085730\tbest: 0.1085475 (2793)\ttotal: 12s\tremaining: 3m 18s\n",
      "2863:\tlearn: 0.0513311\ttest: 0.1085736\tbest: 0.1085475 (2793)\ttotal: 12s\tremaining: 3m 18s\n",
      "2864:\tlearn: 0.0513272\ttest: 0.1085731\tbest: 0.1085475 (2793)\ttotal: 12s\tremaining: 3m 18s\n",
      "2865:\tlearn: 0.0513136\ttest: 0.1085768\tbest: 0.1085475 (2793)\ttotal: 12s\tremaining: 3m 18s\n",
      "2866:\tlearn: 0.0513102\ttest: 0.1085785\tbest: 0.1085475 (2793)\ttotal: 12.1s\tremaining: 3m 18s\n",
      "2867:\tlearn: 0.0512942\ttest: 0.1085778\tbest: 0.1085475 (2793)\ttotal: 12.1s\tremaining: 3m 18s\n",
      "2868:\tlearn: 0.0512794\ttest: 0.1085730\tbest: 0.1085475 (2793)\ttotal: 12.1s\tremaining: 3m 18s\n",
      "2869:\tlearn: 0.0512707\ttest: 0.1085836\tbest: 0.1085475 (2793)\ttotal: 12.1s\tremaining: 3m 18s\n",
      "2870:\tlearn: 0.0512675\ttest: 0.1085836\tbest: 0.1085475 (2793)\ttotal: 12.1s\tremaining: 3m 18s\n",
      "2871:\tlearn: 0.0512636\ttest: 0.1085803\tbest: 0.1085475 (2793)\ttotal: 12.1s\tremaining: 3m 18s\n",
      "2872:\tlearn: 0.0512511\ttest: 0.1085780\tbest: 0.1085475 (2793)\ttotal: 12.1s\tremaining: 3m 18s\n",
      "2873:\tlearn: 0.0512414\ttest: 0.1085831\tbest: 0.1085475 (2793)\ttotal: 12.1s\tremaining: 3m 18s\n",
      "2874:\tlearn: 0.0512224\ttest: 0.1085708\tbest: 0.1085475 (2793)\ttotal: 12.1s\tremaining: 3m 18s\n",
      "2875:\tlearn: 0.0511972\ttest: 0.1085817\tbest: 0.1085475 (2793)\ttotal: 12.1s\tremaining: 3m 18s\n",
      "2876:\tlearn: 0.0511816\ttest: 0.1085756\tbest: 0.1085475 (2793)\ttotal: 12.1s\tremaining: 3m 18s\n",
      "2877:\tlearn: 0.0511678\ttest: 0.1085824\tbest: 0.1085475 (2793)\ttotal: 12.1s\tremaining: 3m 18s\n",
      "2878:\tlearn: 0.0511556\ttest: 0.1085817\tbest: 0.1085475 (2793)\ttotal: 12.1s\tremaining: 3m 18s\n",
      "2879:\tlearn: 0.0511519\ttest: 0.1085820\tbest: 0.1085475 (2793)\ttotal: 12.1s\tremaining: 3m 18s\n",
      "2880:\tlearn: 0.0511392\ttest: 0.1085833\tbest: 0.1085475 (2793)\ttotal: 12.1s\tremaining: 3m 18s\n",
      "2881:\tlearn: 0.0511277\ttest: 0.1085788\tbest: 0.1085475 (2793)\ttotal: 12.1s\tremaining: 3m 18s\n",
      "2882:\tlearn: 0.0511096\ttest: 0.1085835\tbest: 0.1085475 (2793)\ttotal: 12.1s\tremaining: 3m 18s\n",
      "2883:\tlearn: 0.0511029\ttest: 0.1085827\tbest: 0.1085475 (2793)\ttotal: 12.1s\tremaining: 3m 18s\n",
      "2884:\tlearn: 0.0510903\ttest: 0.1085837\tbest: 0.1085475 (2793)\ttotal: 12.1s\tremaining: 3m 18s\n",
      "2885:\tlearn: 0.0510806\ttest: 0.1085683\tbest: 0.1085475 (2793)\ttotal: 12.1s\tremaining: 3m 18s\n",
      "2886:\tlearn: 0.0510791\ttest: 0.1085704\tbest: 0.1085475 (2793)\ttotal: 12.1s\tremaining: 3m 18s\n",
      "2887:\tlearn: 0.0510660\ttest: 0.1085775\tbest: 0.1085475 (2793)\ttotal: 12.1s\tremaining: 3m 18s\n",
      "2888:\tlearn: 0.0510645\ttest: 0.1085795\tbest: 0.1085475 (2793)\ttotal: 12.1s\tremaining: 3m 18s\n",
      "2889:\tlearn: 0.0510586\ttest: 0.1085761\tbest: 0.1085475 (2793)\ttotal: 12.1s\tremaining: 3m 18s\n",
      "2890:\tlearn: 0.0510458\ttest: 0.1085764\tbest: 0.1085475 (2793)\ttotal: 12.2s\tremaining: 3m 17s\n",
      "2891:\tlearn: 0.0510352\ttest: 0.1085669\tbest: 0.1085475 (2793)\ttotal: 12.2s\tremaining: 3m 17s\n",
      "2892:\tlearn: 0.0510214\ttest: 0.1085673\tbest: 0.1085475 (2793)\ttotal: 12.2s\tremaining: 3m 17s\n",
      "2893:\tlearn: 0.0510041\ttest: 0.1085537\tbest: 0.1085475 (2793)\ttotal: 12.2s\tremaining: 3m 17s\n",
      "Stopped by overfitting detector  (100 iterations wait)\n",
      "\n",
      "bestTest = 0.1085475345\n",
      "bestIteration = 2793\n",
      "\n",
      "Shrink model to first 2794 iterations.\n"
     ]
    }
   ],
   "source": [
    "# final models\n",
    "xgb = XGBRegressor(n_jobs=1,\n",
    "    gamma=0,\n",
    "    subsample=0.8,\n",
    "    colsample_bytree=0.5,\n",
    "    learning_rate=0.05,\n",
    "    max_depth=4,\n",
    "    reg_alpha=best_alpha_xgb,\n",
    "    reg_lambda=best_lambda_xgb,\n",
    "    n_estimators=20000).fit(x_train, y_train, eval_set=eval_set, early_stopping_rounds=100, eval_metric='rmse')\n",
    "\n",
    "lasso = Lasso(random_state=0, \n",
    "    max_iter=50000, \n",
    "    alpha=best_alpha).fit(x_train, y_train)\n",
    "\n",
    "cat = CatBoostRegressor(learning_rate=0.01,\n",
    "    iterations=50000, \n",
    "    depth=6).fit(x_train, y_train, eval_set=eval_set, early_stopping_rounds=100)"
   ]
  },
  {
   "cell_type": "code",
   "execution_count": 140,
   "metadata": {},
   "outputs": [
    {
     "output_type": "stream",
     "name": "stdout",
     "text": [
      "0.10796455871608758\n"
     ]
    }
   ],
   "source": [
    "# evaluate result\n",
    "# best_weight_cat = 0\n",
    "# best_weight_lasso = 0.6\n",
    "y_pred_xgb = xgb.predict(x_validation)\n",
    "y_pred_lasso = lasso.predict(x_validation)\n",
    "y_pred_cat = cat.predict(x_validation)\n",
    "# y_pred = y_pred_cat ** best_weight_cat * (y_pred_lasso ** best_weight_lasso * y_pred_xgb ** (1 - best_weight_lasso)) ** (1 - best_weight_cat)\n",
    "y_pred = y_pred_cat * best_weight_cat + (y_pred_lasso * best_weight_lasso + y_pred_xgb * (1 - best_weight_lasso)) * (1 - best_weight_cat)\n",
    "\n",
    "rmse_training = rmse(y_pred, y_validation)\n",
    "compare = pd.DataFrame()\n",
    "compare['Predicted'] = y_pred\n",
    "compare['True'] = target_y\n",
    "print(rmse_training)"
   ]
  },
  {
   "cell_type": "code",
   "execution_count": 141,
   "metadata": {},
   "outputs": [],
   "source": [
    "# prediction result\n",
    "y_pred_xgb = xgb.predict(X_test)\n",
    "y_pred_lasso = lasso.predict(X_test)\n",
    "y_pred_cat = cat.predict(X_test)\n",
    "# y_pred = y_pred_cat ** best_weight_cat * (y_pred_lasso ** best_weight_lasso * y_pred_xgb ** (1 - best_weight_lasso)) ** (1 - best_weight_cat)\n",
    "y_pred = y_pred_cat * best_weight_cat + (y_pred_lasso * best_weight_lasso + y_pred_xgb * (1 - best_weight_lasso)) * (1 - best_weight_cat)\n",
    "\n",
    "y_final_test = np.exp(y_pred) - 1"
   ]
  },
  {
   "cell_type": "code",
   "execution_count": 142,
   "metadata": {},
   "outputs": [],
   "source": [
    "# submission\n",
    "submit = ['SalePrice', 'Id']\n",
    "test_data['SalePrice'] = y_final_test\n",
    "submission = test_data[[c for c in test_data.columns if c in submit]]\n",
    "submission.to_csv('./data/teamJarvis_cat.csv', index=False)"
   ]
  },
  {
   "cell_type": "code",
   "execution_count": null,
   "metadata": {},
   "outputs": [],
   "source": []
  }
 ]
}