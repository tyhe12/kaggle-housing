{
 "metadata": {
  "language_info": {
   "codemirror_mode": {
    "name": "ipython",
    "version": 3
   },
   "file_extension": ".py",
   "mimetype": "text/x-python",
   "name": "python",
   "nbconvert_exporter": "python",
   "pygments_lexer": "ipython3",
   "version": "3.8.5-final"
  },
  "orig_nbformat": 2,
  "kernelspec": {
   "name": "python3",
   "display_name": "Python 3.8.5 64-bit ('base': conda)",
   "metadata": {
    "interpreter": {
     "hash": "907962bb0457507ec70e80c5b310b05e0733e0acb39410aad0feb59d5741b43a"
    }
   }
  }
 },
 "nbformat": 4,
 "nbformat_minor": 2,
 "cells": [
  {
   "cell_type": "code",
   "execution_count": 1,
   "metadata": {},
   "outputs": [],
   "source": [
    "# Import packages for later use\n",
    "import numpy as np\n",
    "import pandas as pd\n",
    "import seaborn as sns\n",
    "import scipy.stats as st\n",
    "import matplotlib.pyplot as plt\n",
    "from sklearn.preprocessing import LabelEncoder\n",
    "from sklearn.preprocessing import StandardScaler\n",
    "from sklearn.pipeline import Pipeline\n",
    "from sklearn.linear_model import LinearRegression\n",
    "from sklearn.model_selection import train_test_split\n",
    "\n",
    "import warnings\n",
    "warnings.filterwarnings(\"ignore\")"
   ]
  },
  {
   "cell_type": "code",
   "execution_count": 2,
   "metadata": {},
   "outputs": [],
   "source": [
    "# define johnson transformation\n",
    "def johnson(y):\n",
    "    gamma, eta, epsilon, lbda = st.johnsonsu.fit(y)\n",
    "    yt = gamma + eta * np.arcsinh((y-epsilon)/lbda)\n",
    "    return yt, gamma, eta, epsilon, lbda\n",
    "\n",
    "def johnson_inverse(y, gamma, eta, epsilon, lbda):\n",
    "    return lbda*np.sinh((y-gamma)/eta) + epsilon"
   ]
  },
  {
   "cell_type": "code",
   "execution_count": 15,
   "metadata": {},
   "outputs": [],
   "source": [
    "# Load data\n",
    "train_data = pd.read_csv('./data/train.csv')\n",
    "test_data = pd.read_csv('./data/test.csv')\n",
    "\n",
    "numerical_features = train_data.dtypes[train_data.dtypes != 'object'].index.values\n",
    "categorical_features = train_data.dtypes[train_data.dtypes == 'object'].index.values\n",
    "omit = ['SalePrice', 'Id', 'Training']\n",
    "submit = ['SalePrice', 'Id']"
   ]
  },
  {
   "cell_type": "code",
   "execution_count": 4,
   "metadata": {},
   "outputs": [],
   "source": [
    "# preprocess\n",
    "\n",
    "# drop one row in training\n",
    "train_data.dropna(subset=['Electrical'], inplace=True)\n",
    "\n",
    "# concat\n",
    "train_data['Training'] = 1\n",
    "test_data['Training'] = 0\n",
    "all_data = pd.concat([train_data, test_data], ignore_index=True)\n",
    "\n",
    "# fill categoricals\n",
    "categoricals = all_data[categorical_features]\n",
    "categoricals.fillna('None', inplace=True)\n",
    "all_data[categorical_features] = categoricals\n",
    "\n",
    "# fill numericals with 0\n",
    "all_data.fillna(0, inplace=True)\n",
    "\n",
    "# process categoricals\n",
    "all_data = pd.get_dummies(data=all_data)\n",
    "\n",
    "train_set = all_data.loc[all_data['Training'] == 1]\n",
    "test_set = all_data.loc[all_data['Training'] == 0]\n"
   ]
  },
  {
   "cell_type": "code",
   "execution_count": 6,
   "metadata": {},
   "outputs": [],
   "source": [
    "# obtain X & y\n",
    "y = train_set['SalePrice']\n",
    "y_log = np.log(y)\n",
    "y_j, gamma, eta, epsilon, lbda = johnson(y)\n",
    "\n",
    "X = train_set[[c for c in train_set.columns if c not in omit]]\n",
    "X_test = test_set[[c for c in test_set.columns if c not in omit]]"
   ]
  },
  {
   "cell_type": "code",
   "execution_count": 20,
   "metadata": {},
   "outputs": [],
   "source": [
    "# create model for log transformed data\n",
    "model_log = LinearRegression().fit(X, y_log)\n",
    "\n",
    "y_log_pred = np.exp(model_log.predict(X_test))\n",
    "test_data['SalePrice'] = y_log_pred\n",
    "submission = test_data[[c for c in test_data.columns if c in submit]]\n",
    "submission.to_csv('./data/teamJarvis_log.csv', index=False)"
   ]
  },
  {
   "cell_type": "code",
   "execution_count": 21,
   "metadata": {},
   "outputs": [],
   "source": [
    "# create model for johnson transformed data\n",
    "model_j = LinearRegression().fit(X, y_j)\n",
    "\n",
    "y_j_pred = johnson_inverse(model_j.predict(X_test), gamma, eta, epsilon, lbda)\n",
    "test_data['SalePrice'] = y_j_pred\n",
    "submission = test_data[[c for c in test_data.columns if c in submit]]\n",
    "submission.to_csv('./data/teamJarvis_johnson.csv', index=False)"
   ]
  },
  {
   "cell_type": "code",
   "execution_count": null,
   "metadata": {},
   "outputs": [],
   "source": []
  }
 ]
}