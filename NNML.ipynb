{
 "cells": [
  {
   "cell_type": "code",
   "execution_count": 28,
   "id": "interpreted-opinion",
   "metadata": {},
   "outputs": [],
   "source": [
    "# Import packages for later use\n",
    "import numpy as np\n",
    "import pandas as pd\n",
    "import seaborn as sns\n",
    "import matplotlib.pyplot as plt\n",
    "import scipy.stats as stats\n",
    "from sklearn.preprocessing import LabelEncoder\n",
    "from sklearn.neural_network import MLPClassifier\n",
    "from sklearn.preprocessing import StandardScaler\n",
    "from sklearn.pipeline import Pipeline\n",
    "from sklearn.model_selection import train_test_split\n",
    "\n",
    "import warnings\n",
    "warnings.filterwarnings(\"ignore\")"
   ]
  },
  {
   "cell_type": "code",
   "execution_count": 29,
   "id": "directed-journal",
   "metadata": {},
   "outputs": [],
   "source": [
    "# Load data\n",
    "train_data = pd.read_csv('./data/train.csv')\n",
    "test_data = pd.read_csv('./data/test.csv')\n",
    "\n",
    "# Encode numerical data\n",
    "numerical_features = train_data.dtypes[train_data.dtypes != 'object'].index.values\n",
    "numerical_data = train_data[numerical_features]\n",
    "test_set = test_data[[n for n in numerical_features if n != 'SalePrice']]"
   ]
  },
  {
   "cell_type": "code",
   "execution_count": 30,
   "id": "voluntary-keeping",
   "metadata": {},
   "outputs": [],
   "source": [
    "omit = ['SalePrice', 'Id']\n",
    "numerical_data.fillna(0, inplace=True)\n",
    "test_set.fillna(0, inplace=True)\n",
    "X = numerical_data[[n for n in numerical_features if n not in omit]]\n",
    "T = test_set[[n for n in numerical_features if n not in omit]]\n",
    "Y = train_data['SalePrice']"
   ]
  },
  {
   "cell_type": "code",
   "execution_count": 14,
   "id": "bacterial-coating",
   "metadata": {},
   "outputs": [],
   "source": [
    "#omit = ['SalePrice', 'Id']\n",
    "#test_set = test_data[[n for n in test_data if n not in omit]]\n",
    "#train_data.fillna(0, inplace=True)\n",
    "#test_set.fillna(0, inplace=True)\n",
    "\n",
    "#X = train_data[[n for n in numerical_features if n not in omit]]\n",
    "#Y = train_data['SalePrice']\n",
    "#T = test_set[[n for n in numerical_features if n not in omit]]"
   ]
  },
  {
   "cell_type": "code",
   "execution_count": 31,
   "id": "preliminary-tokyo",
   "metadata": {},
   "outputs": [],
   "source": [
    "X_train, X_test, Y_train, Y_test = train_test_split(X, Y, test_size=0.3, random_state=42)\n",
    "from sklearn import metrics\n",
    "from sklearn.model_selection import cross_val_score\n",
    "\n",
    "def print_evaluate(true, predicted):  \n",
    "    mae = metrics.mean_absolute_error(true, predicted)\n",
    "    mse = metrics.mean_squared_error(true, predicted)\n",
    "    rmse = np.sqrt(metrics.mean_squared_error(true, predicted))\n",
    "    r2_square = metrics.r2_score(true, predicted)\n",
    "    print('MAE:', mae)\n",
    "    print('MSE:', mse)\n",
    "    print('RMSE:', rmse)\n",
    "    print('R2 Square', r2_square)\n",
    "    \n",
    "def evaluate(true, predicted):\n",
    "    mae = metrics.mean_absolute_error(true, predicted)\n",
    "    mse = metrics.mean_squared_error(true, predicted)\n",
    "    rmse = np.sqrt(metrics.mean_squared_error(true, predicted))\n",
    "    r2_square = metrics.r2_score(true, predicted)\n",
    "    return mae, mse, rmse, r2_square"
   ]
  },
  {
   "cell_type": "code",
   "execution_count": 32,
   "id": "religious-specification",
   "metadata": {},
   "outputs": [],
   "source": [
    "pipeline = Pipeline([('std_scalar', StandardScaler())])\n",
    "X_train = pipeline.fit_transform(X_train)\n",
    "X_test = pipeline.transform(X_test)"
   ]
  },
  {
   "cell_type": "code",
   "execution_count": 67,
   "id": "hairy-bulgaria",
   "metadata": {},
   "outputs": [],
   "source": [
    "clf = MLPClassifier(solver='adam', alpha=1e-3, activation='relu', hidden_layer_sizes=(100, 100), random_state=1, max_iter=1000)"
   ]
  },
  {
   "cell_type": "code",
   "execution_count": 71,
   "id": "false-bolivia",
   "metadata": {},
   "outputs": [
    {
     "name": "stdout",
     "output_type": "stream",
     "text": [
      "7.522237062454224\n"
     ]
    }
   ],
   "source": [
    "from time import time\n",
    "t1 = time()\n",
    "clf.fit(X_train, Y_train)\n",
    "t2 = time()\n",
    "print(t2 - t1)"
   ]
  },
  {
   "cell_type": "code",
   "execution_count": 72,
   "id": "final-display",
   "metadata": {},
   "outputs": [],
   "source": [
    "pred = clf.predict(X_test)\n",
    "#clf.predict(T)"
   ]
  },
  {
   "cell_type": "code",
   "execution_count": 73,
   "id": "velvet-macro",
   "metadata": {},
   "outputs": [
    {
     "name": "stdout",
     "output_type": "stream",
     "text": [
      "Test set evaluation:\n",
      "_____________________________________\n",
      "MAE: 26468.803652968036\n",
      "MSE: 1712333758.7716894\n",
      "RMSE: 41380.35474439157\n",
      "R2 Square 0.7546129620159767\n",
      "====================================\n",
      "Train set evaluation:\n",
      "_____________________________________\n",
      "MAE: 38.551859099804304\n",
      "MSE: 338649.7064579256\n",
      "RMSE: 581.9361704327422\n",
      "R2 Square 0.9999437325811957\n"
     ]
    }
   ],
   "source": [
    "test_pred = clf.predict(X_test)\n",
    "train_pred = clf.predict(X_train)\n",
    "\n",
    "print('Test set evaluation:\\n_____________________________________')\n",
    "print_evaluate(Y_test, test_pred)\n",
    "print('====================================')\n",
    "print('Train set evaluation:\\n_____________________________________')\n",
    "print_evaluate(Y_train, train_pred)"
   ]
  },
  {
   "cell_type": "code",
   "execution_count": 75,
   "id": "subtle-prison",
   "metadata": {},
   "outputs": [
    {
     "data": {
      "text/plain": [
       "array([129000, 147500, 190000, ..., 170000, 118000, 250000])"
      ]
     },
     "execution_count": 75,
     "metadata": {},
     "output_type": "execute_result"
    }
   ],
   "source": [
    "pipe = Pipeline([('std_scalar', StandardScaler())])\n",
    "X = pipe.fit_transform(X)\n",
    "T = pipe.transform(T)\n",
    "model = clf = MLPClassifier(solver='adam', alpha=1e-3, activation='relu', hidden_layer_sizes=(100, 100), random_state=1, max_iter=1000)\n",
    "model.fit(X, Y)\n",
    "predictions = model.predict(T)\n",
    "predictions"
   ]
  },
  {
   "cell_type": "code",
   "execution_count": 76,
   "id": "occupied-tooth",
   "metadata": {},
   "outputs": [],
   "source": [
    "test_data['SalePrice'] = predictions\n",
    "submission = test_data[[r for r in test_data if r in omit]]\n",
    "submission.to_csv('./data/teamJarvis.csv', index=False)"
   ]
  },
  {
   "cell_type": "code",
   "execution_count": null,
   "id": "signal-saying",
   "metadata": {},
   "outputs": [],
   "source": [
    "import warnings\n",
    "warnings.filterwarnings('ignore')\n",
    "\n",
    "col_train = list(train.columns)\n",
    "col_train_bis = list(train.columns)\n",
    "\n",
    "col_train_bis.remove('SalePrice')\n",
    "\n",
    "mat_train = np.matrix(train)\n",
    "mat_test  = np.matrix(test)\n",
    "mat_new = np.matrix(train.drop('SalePrice',axis = 1))\n",
    "mat_y = np.array(train.SalePrice).reshape((1314,1))\n",
    "\n",
    "prepro_y = MinMaxScaler()\n",
    "prepro_y.fit(mat_y)\n",
    "\n",
    "prepro = MinMaxScaler()\n",
    "prepro.fit(mat_train)\n",
    "\n",
    "prepro_test = MinMaxScaler()\n",
    "prepro_test.fit(mat_new)\n",
    "\n",
    "train = pd.DataFrame(prepro.transform(mat_train),columns = col_train)\n",
    "test  = pd.DataFrame(prepro_test.transform(mat_test),columns = col_train_bis)\n",
    "\n",
    "train.head()"
   ]
  },
  {
   "cell_type": "code",
   "execution_count": null,
   "id": "endless-istanbul",
   "metadata": {},
   "outputs": [],
   "source": []
  },
  {
   "cell_type": "code",
   "execution_count": null,
   "id": "changing-pride",
   "metadata": {},
   "outputs": [],
   "source": []
  }
 ],
 "metadata": {
  "kernelspec": {
   "display_name": "Python 3",
   "language": "python",
   "name": "python3"
  },
  "language_info": {
   "codemirror_mode": {
    "name": "ipython",
    "version": 3
   },
   "file_extension": ".py",
   "mimetype": "text/x-python",
   "name": "python",
   "nbconvert_exporter": "python",
   "pygments_lexer": "ipython3",
   "version": "3.6.1"
  }
 },
 "nbformat": 4,
 "nbformat_minor": 5
}
