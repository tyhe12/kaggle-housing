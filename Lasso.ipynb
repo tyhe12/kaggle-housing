{
 "metadata": {
  "language_info": {
   "codemirror_mode": {
    "name": "ipython",
    "version": 3
   },
   "file_extension": ".py",
   "mimetype": "text/x-python",
   "name": "python",
   "nbconvert_exporter": "python",
   "pygments_lexer": "ipython3",
   "version": "3.8.5-final"
  },
  "orig_nbformat": 2,
  "kernelspec": {
   "name": "python3",
   "display_name": "Python 3.8.5 64-bit ('base': conda)",
   "metadata": {
    "interpreter": {
     "hash": "907962bb0457507ec70e80c5b310b05e0733e0acb39410aad0feb59d5741b43a"
    }
   }
  }
 },
 "nbformat": 4,
 "nbformat_minor": 2,
 "cells": [
  {
   "cell_type": "code",
   "execution_count": 71,
   "metadata": {},
   "outputs": [],
   "source": [
    "# Import packages for later use\n",
    "import numpy as np\n",
    "import pandas as pd\n",
    "import seaborn as sns\n",
    "import scipy.stats as st\n",
    "import matplotlib.pyplot as plt\n",
    "from xgboost import XGBRegressor\n",
    "from sklearn import metrics\n",
    "from sklearn.model_selection import GridSearchCV, KFold\n",
    "from sklearn.preprocessing import LabelEncoder\n",
    "from sklearn.preprocessing import StandardScaler\n",
    "from sklearn.pipeline import Pipeline\n",
    "from sklearn.linear_model import LassoCV\n",
    "from sklearn.model_selection import train_test_split\n",
    "\n",
    "import warnings\n",
    "warnings.filterwarnings(\"ignore\")"
   ]
  },
  {
   "cell_type": "code",
   "execution_count": 62,
   "metadata": {},
   "outputs": [],
   "source": [
    "# define johnson transformation\n",
    "def johnson(y):\n",
    "    gamma, eta, epsilon, lbda = st.johnsonsu.fit(y)\n",
    "    yt = gamma + eta * np.arcsinh((y-epsilon)/lbda)\n",
    "    return yt, gamma, eta, epsilon, lbda\n",
    "\n",
    "def johnson_inverse(y, gamma, eta, epsilon, lbda):\n",
    "    return lbda*np.sinh((y-gamma)/eta) + epsilon\n",
    "\n",
    "# Get the data\n",
    "train_data = pd.read_csv('./data/train.csv')\n",
    "test_data = pd.read_csv('./data/test.csv')\n",
    "\n",
    "train_data['Training'] = 1\n",
    "test_data['Training'] = 0\n",
    "numerical_features = train_data.dtypes[train_data.dtypes != 'object'].index.values\n",
    "categorical_features = train_data.dtypes[train_data.dtypes == 'object'].index.values\n",
    "omit = ['SalePrice', 'Id', 'Training']\n",
    "submit = ['SalePrice', 'Id']\n",
    "significant_columns_cat = ['Neighborhood', 'ExterQual', 'BsmtQual', 'KitchenQual', 'GarageFinish',\n",
    " 'FireplaceQu', 'Foundation', 'GarageType', 'BsmtFinType1', 'HeatingQC',\n",
    " 'MasVnrType', 'BsmtExposure', 'SaleCondition', 'Exterior1st', 'Exterior2nd']\n",
    "significant_columns_cont = ['OverallQual',\n",
    "    'YearBuilt',\n",
    "    'YearRemodAdd',\n",
    "    'TotalBsmtSF',\n",
    "    '1stFlrSF',\n",
    "    '2ndFlrSF',\n",
    "    'GrLivArea',\n",
    "    'FullBath',\n",
    "    'TotRmsAbvGrd',\n",
    "    'GarageYrBlt',\n",
    "    'GarageCars']\n",
    "significant_columns = [*significant_columns_cat, *numerical_features]\n",
    "# preprocess\n",
    "\n",
    "# drop one row in training\n",
    "train_data.dropna(subset=['Electrical'], inplace=True)\n",
    "\n",
    "# concat\n",
    "all_data = pd.concat([train_data, test_data], ignore_index=True)\n",
    "\n",
    "# fill categoricals\n",
    "categoricals = all_data[categorical_features]\n",
    "categoricals.fillna('None', inplace=True)\n",
    "all_data[categorical_features] = categoricals\n",
    "\n",
    "# fill numericals with 0\n",
    "all_data.fillna(0, inplace=True)\n",
    "\n",
    "# select significant columns\n",
    "all_data = all_data[significant_columns]\n",
    "\n",
    "# process categoricals\n",
    "all_data = pd.get_dummies(data=all_data)\n",
    "\n",
    "train_set = all_data.loc[all_data['Training'] == 1]\n",
    "test_set = all_data.loc[all_data['Training'] == 0]\n",
    "\n",
    "# obtain X & y\n",
    "y = train_set['SalePrice']\n",
    "y_log = np.log1p(y)\n",
    "y_j, gamma, eta, epsilon, lbda = johnson(y)\n",
    "\n",
    "X = train_set[[c for c in train_set.columns if c not in omit]]\n",
    "X_test = test_set[[c for c in test_set.columns if c not in omit]]\n"
   ]
  },
  {
   "cell_type": "code",
   "execution_count": 77,
   "metadata": {
    "tags": []
   },
   "outputs": [],
   "source": [
    "# create lasso model for log transformed data\n",
    "alphas = np.arange(1e-5, 1e-3, 2e-6)\n",
    "reg = LassoCV(cv=5, random_state=0, max_iter=50000, alphas=alphas, n_alphas=len(alphas), eps=1e-2).fit(X, y_log)\n"
   ]
  },
  {
   "cell_type": "code",
   "execution_count": 56,
   "metadata": {},
   "outputs": [
    {
     "output_type": "stream",
     "name": "stdout",
     "text": [
      "Fitting 5 folds for each of 9 candidates, totalling 45 fits\n",
      "[Parallel(n_jobs=1)]: Using backend SequentialBackend with 1 concurrent workers.\n",
      "[Parallel(n_jobs=1)]: Done  45 out of  45 | elapsed:  2.0min finished\n",
      "0.8932839069191252\n",
      "{'gamma': 0, 'learning_rate': 0.1}\n"
     ]
    }
   ],
   "source": [
    "# create xgboost cv parameter tuning\n",
    "# First grid to search depth and n_estimators\n",
    "xgb_model = XGBRegressor(n_jobs=1)\n",
    "clf = GridSearchCV(xgb_model,\n",
    "    {'max_depth': [3, 4, 5],\n",
    "    'n_estimators': [100, 500, 1000, 5000]\n",
    "    }, verbose=1, n_jobs=1)\n",
    "clf.fit(X, y_log)\n",
    "\n",
    "best_depth = 3\n",
    "best_estimator = 500\n",
    "\n",
    "# second grid for learning rate and gamma\n",
    "xgb_model = XGBRegressor(n_jobs=1, max_depth=best_depth, n_estimators=best_estimator)\n",
    "clf = GridSearchCV(xgb_model,\n",
    "    {'learning_rate': [0.01, 0.05, 0.1],\n",
    "    'gamma': [0, 0.5, 1]\n",
    "    }, verbose=1, n_jobs=1)\n",
    "clf.fit(X, y_log)\n",
    "\n",
    "best_gamma = 0\n",
    "best_rate = 0.1"
   ]
  },
  {
   "cell_type": "code",
   "execution_count": 67,
   "metadata": {},
   "outputs": [
    {
     "output_type": "stream",
     "name": "stdout",
     "text": [
      "Fitting 5 folds for each of 12 candidates, totalling 60 fits\n",
      "[Parallel(n_jobs=1)]: Using backend SequentialBackend with 1 concurrent workers.\n",
      "[Parallel(n_jobs=1)]: Done  60 out of  60 | elapsed: 11.0min finished\n",
      "0.9030203746216252\n",
      "{'learning_rate': 0.01, 'max_depth': 3, 'n_estimators': 10000}\n"
     ]
    }
   ],
   "source": [
    "# third grid to make sure everything works together\n",
    "xgb_model = XGBRegressor(n_jobs=1, gamma=0, subsample=0.8, colsample_bytree=0.5)\n",
    "clf = GridSearchCV(xgb_model,\n",
    "    {'learning_rate': [0.01, 0.1],\n",
    "    'max_depth': [3, 4],\n",
    "    'n_estimators': [500, 1000, 10000]\n",
    "    }, verbose=1, n_jobs=1)\n",
    "clf.fit(X, y_log)\n",
    "\n",
    "print(clf.best_score_)\n",
    "print(clf.best_params_)"
   ]
  },
  {
   "cell_type": "code",
   "execution_count": 69,
   "metadata": {},
   "outputs": [],
   "source": []
  },
  {
   "cell_type": "code",
   "execution_count": 78,
   "metadata": {},
   "outputs": [
    {
     "output_type": "stream",
     "name": "stdout",
     "text": [
      "0.000278\n158\n65\n"
     ]
    }
   ],
   "source": [
    "# Analysis for Lasso\n",
    "best_alpha = reg.alpha_\n",
    "coefficient = reg.coef_\n",
    "non_zero_coef = [c for c in coefficient if c > 0]\n",
    "# only 72 out of 309 coefficients are non-zero\n",
    "print(best_alpha)\n",
    "print(len(coefficient))\n",
    "print(len(non_zero_coef))"
   ]
  },
  {
   "cell_type": "code",
   "execution_count": 101,
   "metadata": {
    "tags": []
   },
   "outputs": [],
   "source": [
    "# Combining\n",
    "splits = 5\n",
    "kf = KFold(n_splits=splits)\n",
    "def rmse(y1, y2):\n",
    "    return np.sqrt(metrics.mean_squared_error(y1, y2))\n",
    "errors_linear = []\n",
    "errors_times = []\n",
    "\n",
    "cv_trainset = train_set[[c for c in train_set.columns if c not in ['Id, Training']]]\n",
    "\n",
    "for train, test in kf.split(cv_trainset):\n",
    "    trainset = cv_trainset.iloc[train, :]\n",
    "    testset = cv_trainset.iloc[test, :]\n",
    "    \n",
    "    train_y = np.log1p(trainset['SalePrice'])\n",
    "    test_y = np.log1p(testset['SalePrice'])\n",
    "\n",
    "    train_X = trainset[[c for c in train_set.columns if c not in omit]]\n",
    "    test_X = testset[[c for c in train_set.columns if c not in omit]]\n",
    "    xgb = XGBRegressor(n_jobs=1,\n",
    "        gamma=0,\n",
    "        subsample=0.8,\n",
    "        colsample_bytree=0.5,\n",
    "        learning_rate=0.01,\n",
    "        max_depth=3,\n",
    "        n_estimators=10000).fit(train_X, train_y)\n",
    "    y_xgb = xgb.predict(test_X)\n",
    "\n",
    "    lasso = Lasso(random_state=0, max_iter=50000, alpha=0.000278).fit(train_X, train_y)\n",
    "    y_lasso = lasso.predict(test_X)\n",
    "\n",
    "    # linear combination\n",
    "    error_l = []\n",
    "    error_m = []\n",
    "    for weight in np.arange(0.05, 1, 0.05):\n",
    "        y_test_final = weight * y_lasso + (1 - weight) * y_xgb\n",
    "        error_l.append(rmse(test_y, y_test_final))\n",
    "    errors_linear.append(error_l)\n",
    "\n",
    "    # multiplication\n",
    "    for weight in np.arange(0.05, 1, 0.05):\n",
    "        y_test_final = y_lasso ** weight * y_xgb ** (1 - weight)\n",
    "        error_m.append(rmse(test_y, y_test_final))\n",
    "    errors_times.append(error_m)"
   ]
  },
  {
   "cell_type": "code",
   "execution_count": 109,
   "metadata": {},
   "outputs": [
    {
     "output_type": "stream",
     "name": "stdout",
     "text": [
      "[0.25]\n"
     ]
    },
    {
     "output_type": "display_data",
     "data": {
      "text/plain": "<Figure size 432x288 with 1 Axes>",
      "image/svg+xml": "<?xml version=\"1.0\" encoding=\"utf-8\" standalone=\"no\"?>\n<!DOCTYPE svg PUBLIC \"-//W3C//DTD SVG 1.1//EN\"\n  \"http://www.w3.org/Graphics/SVG/1.1/DTD/svg11.dtd\">\n<!-- Created with matplotlib (https://matplotlib.org/) -->\n<svg height=\"250.166572pt\" version=\"1.1\" viewBox=\"0 0 391.190625 250.166572\" width=\"391.190625pt\" xmlns=\"http://www.w3.org/2000/svg\" xmlns:xlink=\"http://www.w3.org/1999/xlink\">\n <metadata>\n  <rdf:RDF xmlns:cc=\"http://creativecommons.org/ns#\" xmlns:dc=\"http://purl.org/dc/elements/1.1/\" xmlns:rdf=\"http://www.w3.org/1999/02/22-rdf-syntax-ns#\">\n   <cc:Work>\n    <dc:type rdf:resource=\"http://purl.org/dc/dcmitype/StillImage\"/>\n    <dc:date>2021-04-06T13:01:49.491677</dc:date>\n    <dc:format>image/svg+xml</dc:format>\n    <dc:creator>\n     <cc:Agent>\n      <dc:title>Matplotlib v3.3.2, https://matplotlib.org/</dc:title>\n     </cc:Agent>\n    </dc:creator>\n   </cc:Work>\n  </rdf:RDF>\n </metadata>\n <defs>\n  <style type=\"text/css\">*{stroke-linecap:butt;stroke-linejoin:round;}</style>\n </defs>\n <g id=\"figure_1\">\n  <g id=\"patch_1\">\n   <path d=\"M 0 250.166572 \nL 391.190625 250.166572 \nL 391.190625 0 \nL 0 0 \nz\n\" style=\"fill:none;\"/>\n  </g>\n  <g id=\"axes_1\">\n   <g id=\"patch_2\">\n    <path d=\"M 49.190625 226.288447 \nL 383.990625 226.288447 \nL 383.990625 8.848447 \nL 49.190625 8.848447 \nz\n\" style=\"fill:#ffffff;\"/>\n   </g>\n   <g id=\"matplotlib.axis_1\">\n    <g id=\"xtick_1\">\n     <g id=\"line2d_1\">\n      <defs>\n       <path d=\"M 0 0 \nL 0 3.5 \n\" id=\"mb630d4fd0e\" style=\"stroke:#000000;stroke-width:0.8;\"/>\n      </defs>\n      <g>\n       <use style=\"stroke:#000000;stroke-width:0.8;\" x=\"115.13608\" xlink:href=\"#mb630d4fd0e\" y=\"226.288447\"/>\n      </g>\n     </g>\n     <g id=\"text_1\">\n      <!-- 0.2 -->\n      <g transform=\"translate(107.184517 240.886885)scale(0.1 -0.1)\">\n       <defs>\n        <path d=\"M 31.78125 66.40625 \nQ 24.171875 66.40625 20.328125 58.90625 \nQ 16.5 51.421875 16.5 36.375 \nQ 16.5 21.390625 20.328125 13.890625 \nQ 24.171875 6.390625 31.78125 6.390625 \nQ 39.453125 6.390625 43.28125 13.890625 \nQ 47.125 21.390625 47.125 36.375 \nQ 47.125 51.421875 43.28125 58.90625 \nQ 39.453125 66.40625 31.78125 66.40625 \nz\nM 31.78125 74.21875 \nQ 44.046875 74.21875 50.515625 64.515625 \nQ 56.984375 54.828125 56.984375 36.375 \nQ 56.984375 17.96875 50.515625 8.265625 \nQ 44.046875 -1.421875 31.78125 -1.421875 \nQ 19.53125 -1.421875 13.0625 8.265625 \nQ 6.59375 17.96875 6.59375 36.375 \nQ 6.59375 54.828125 13.0625 64.515625 \nQ 19.53125 74.21875 31.78125 74.21875 \nz\n\" id=\"DejaVuSans-48\"/>\n        <path d=\"M 10.6875 12.40625 \nL 21 12.40625 \nL 21 0 \nL 10.6875 0 \nz\n\" id=\"DejaVuSans-46\"/>\n        <path d=\"M 19.1875 8.296875 \nL 53.609375 8.296875 \nL 53.609375 0 \nL 7.328125 0 \nL 7.328125 8.296875 \nQ 12.9375 14.109375 22.625 23.890625 \nQ 32.328125 33.6875 34.8125 36.53125 \nQ 39.546875 41.84375 41.421875 45.53125 \nQ 43.3125 49.21875 43.3125 52.78125 \nQ 43.3125 58.59375 39.234375 62.25 \nQ 35.15625 65.921875 28.609375 65.921875 \nQ 23.96875 65.921875 18.8125 64.3125 \nQ 13.671875 62.703125 7.8125 59.421875 \nL 7.8125 69.390625 \nQ 13.765625 71.78125 18.9375 73 \nQ 24.125 74.21875 28.421875 74.21875 \nQ 39.75 74.21875 46.484375 68.546875 \nQ 53.21875 62.890625 53.21875 53.421875 \nQ 53.21875 48.921875 51.53125 44.890625 \nQ 49.859375 40.875 45.40625 35.40625 \nQ 44.1875 33.984375 37.640625 27.21875 \nQ 31.109375 20.453125 19.1875 8.296875 \nz\n\" id=\"DejaVuSans-50\"/>\n       </defs>\n       <use xlink:href=\"#DejaVuSans-48\"/>\n       <use x=\"63.623047\" xlink:href=\"#DejaVuSans-46\"/>\n       <use x=\"95.410156\" xlink:href=\"#DejaVuSans-50\"/>\n      </g>\n     </g>\n    </g>\n    <g id=\"xtick_2\">\n     <g id=\"line2d_2\">\n      <g>\n       <use style=\"stroke:#000000;stroke-width:0.8;\" x=\"182.772443\" xlink:href=\"#mb630d4fd0e\" y=\"226.288447\"/>\n      </g>\n     </g>\n     <g id=\"text_2\">\n      <!-- 0.4 -->\n      <g transform=\"translate(174.820881 240.886885)scale(0.1 -0.1)\">\n       <defs>\n        <path d=\"M 37.796875 64.3125 \nL 12.890625 25.390625 \nL 37.796875 25.390625 \nz\nM 35.203125 72.90625 \nL 47.609375 72.90625 \nL 47.609375 25.390625 \nL 58.015625 25.390625 \nL 58.015625 17.1875 \nL 47.609375 17.1875 \nL 47.609375 0 \nL 37.796875 0 \nL 37.796875 17.1875 \nL 4.890625 17.1875 \nL 4.890625 26.703125 \nz\n\" id=\"DejaVuSans-52\"/>\n       </defs>\n       <use xlink:href=\"#DejaVuSans-48\"/>\n       <use x=\"63.623047\" xlink:href=\"#DejaVuSans-46\"/>\n       <use x=\"95.410156\" xlink:href=\"#DejaVuSans-52\"/>\n      </g>\n     </g>\n    </g>\n    <g id=\"xtick_3\">\n     <g id=\"line2d_3\">\n      <g>\n       <use style=\"stroke:#000000;stroke-width:0.8;\" x=\"250.408807\" xlink:href=\"#mb630d4fd0e\" y=\"226.288447\"/>\n      </g>\n     </g>\n     <g id=\"text_3\">\n      <!-- 0.6 -->\n      <g transform=\"translate(242.457244 240.886885)scale(0.1 -0.1)\">\n       <defs>\n        <path d=\"M 33.015625 40.375 \nQ 26.375 40.375 22.484375 35.828125 \nQ 18.609375 31.296875 18.609375 23.390625 \nQ 18.609375 15.53125 22.484375 10.953125 \nQ 26.375 6.390625 33.015625 6.390625 \nQ 39.65625 6.390625 43.53125 10.953125 \nQ 47.40625 15.53125 47.40625 23.390625 \nQ 47.40625 31.296875 43.53125 35.828125 \nQ 39.65625 40.375 33.015625 40.375 \nz\nM 52.59375 71.296875 \nL 52.59375 62.3125 \nQ 48.875 64.0625 45.09375 64.984375 \nQ 41.3125 65.921875 37.59375 65.921875 \nQ 27.828125 65.921875 22.671875 59.328125 \nQ 17.53125 52.734375 16.796875 39.40625 \nQ 19.671875 43.65625 24.015625 45.921875 \nQ 28.375 48.1875 33.59375 48.1875 \nQ 44.578125 48.1875 50.953125 41.515625 \nQ 57.328125 34.859375 57.328125 23.390625 \nQ 57.328125 12.15625 50.6875 5.359375 \nQ 44.046875 -1.421875 33.015625 -1.421875 \nQ 20.359375 -1.421875 13.671875 8.265625 \nQ 6.984375 17.96875 6.984375 36.375 \nQ 6.984375 53.65625 15.1875 63.9375 \nQ 23.390625 74.21875 37.203125 74.21875 \nQ 40.921875 74.21875 44.703125 73.484375 \nQ 48.484375 72.75 52.59375 71.296875 \nz\n\" id=\"DejaVuSans-54\"/>\n       </defs>\n       <use xlink:href=\"#DejaVuSans-48\"/>\n       <use x=\"63.623047\" xlink:href=\"#DejaVuSans-46\"/>\n       <use x=\"95.410156\" xlink:href=\"#DejaVuSans-54\"/>\n      </g>\n     </g>\n    </g>\n    <g id=\"xtick_4\">\n     <g id=\"line2d_4\">\n      <g>\n       <use style=\"stroke:#000000;stroke-width:0.8;\" x=\"318.04517\" xlink:href=\"#mb630d4fd0e\" y=\"226.288447\"/>\n      </g>\n     </g>\n     <g id=\"text_4\">\n      <!-- 0.8 -->\n      <g transform=\"translate(310.093608 240.886885)scale(0.1 -0.1)\">\n       <defs>\n        <path d=\"M 31.78125 34.625 \nQ 24.75 34.625 20.71875 30.859375 \nQ 16.703125 27.09375 16.703125 20.515625 \nQ 16.703125 13.921875 20.71875 10.15625 \nQ 24.75 6.390625 31.78125 6.390625 \nQ 38.8125 6.390625 42.859375 10.171875 \nQ 46.921875 13.96875 46.921875 20.515625 \nQ 46.921875 27.09375 42.890625 30.859375 \nQ 38.875 34.625 31.78125 34.625 \nz\nM 21.921875 38.8125 \nQ 15.578125 40.375 12.03125 44.71875 \nQ 8.5 49.078125 8.5 55.328125 \nQ 8.5 64.0625 14.71875 69.140625 \nQ 20.953125 74.21875 31.78125 74.21875 \nQ 42.671875 74.21875 48.875 69.140625 \nQ 55.078125 64.0625 55.078125 55.328125 \nQ 55.078125 49.078125 51.53125 44.71875 \nQ 48 40.375 41.703125 38.8125 \nQ 48.828125 37.15625 52.796875 32.3125 \nQ 56.78125 27.484375 56.78125 20.515625 \nQ 56.78125 9.90625 50.3125 4.234375 \nQ 43.84375 -1.421875 31.78125 -1.421875 \nQ 19.734375 -1.421875 13.25 4.234375 \nQ 6.78125 9.90625 6.78125 20.515625 \nQ 6.78125 27.484375 10.78125 32.3125 \nQ 14.796875 37.15625 21.921875 38.8125 \nz\nM 18.3125 54.390625 \nQ 18.3125 48.734375 21.84375 45.5625 \nQ 25.390625 42.390625 31.78125 42.390625 \nQ 38.140625 42.390625 41.71875 45.5625 \nQ 45.3125 48.734375 45.3125 54.390625 \nQ 45.3125 60.0625 41.71875 63.234375 \nQ 38.140625 66.40625 31.78125 66.40625 \nQ 25.390625 66.40625 21.84375 63.234375 \nQ 18.3125 60.0625 18.3125 54.390625 \nz\n\" id=\"DejaVuSans-56\"/>\n       </defs>\n       <use xlink:href=\"#DejaVuSans-48\"/>\n       <use x=\"63.623047\" xlink:href=\"#DejaVuSans-46\"/>\n       <use x=\"95.410156\" xlink:href=\"#DejaVuSans-56\"/>\n      </g>\n     </g>\n    </g>\n   </g>\n   <g id=\"matplotlib.axis_2\">\n    <g id=\"ytick_1\">\n     <g id=\"line2d_5\">\n      <defs>\n       <path d=\"M 0 0 \nL -3.5 0 \n\" id=\"m553879c170\" style=\"stroke:#000000;stroke-width:0.8;\"/>\n      </defs>\n      <g>\n       <use style=\"stroke:#000000;stroke-width:0.8;\" x=\"49.190625\" xlink:href=\"#m553879c170\" y=\"214.752814\"/>\n      </g>\n     </g>\n     <g id=\"text_5\">\n      <!-- 0.1225 -->\n      <g transform=\"translate(7.2 218.552033)scale(0.1 -0.1)\">\n       <defs>\n        <path d=\"M 12.40625 8.296875 \nL 28.515625 8.296875 \nL 28.515625 63.921875 \nL 10.984375 60.40625 \nL 10.984375 69.390625 \nL 28.421875 72.90625 \nL 38.28125 72.90625 \nL 38.28125 8.296875 \nL 54.390625 8.296875 \nL 54.390625 0 \nL 12.40625 0 \nz\n\" id=\"DejaVuSans-49\"/>\n        <path d=\"M 10.796875 72.90625 \nL 49.515625 72.90625 \nL 49.515625 64.59375 \nL 19.828125 64.59375 \nL 19.828125 46.734375 \nQ 21.96875 47.46875 24.109375 47.828125 \nQ 26.265625 48.1875 28.421875 48.1875 \nQ 40.625 48.1875 47.75 41.5 \nQ 54.890625 34.8125 54.890625 23.390625 \nQ 54.890625 11.625 47.5625 5.09375 \nQ 40.234375 -1.421875 26.90625 -1.421875 \nQ 22.3125 -1.421875 17.546875 -0.640625 \nQ 12.796875 0.140625 7.71875 1.703125 \nL 7.71875 11.625 \nQ 12.109375 9.234375 16.796875 8.0625 \nQ 21.484375 6.890625 26.703125 6.890625 \nQ 35.15625 6.890625 40.078125 11.328125 \nQ 45.015625 15.765625 45.015625 23.390625 \nQ 45.015625 31 40.078125 35.4375 \nQ 35.15625 39.890625 26.703125 39.890625 \nQ 22.75 39.890625 18.8125 39.015625 \nQ 14.890625 38.140625 10.796875 36.28125 \nz\n\" id=\"DejaVuSans-53\"/>\n       </defs>\n       <use xlink:href=\"#DejaVuSans-48\"/>\n       <use x=\"63.623047\" xlink:href=\"#DejaVuSans-46\"/>\n       <use x=\"95.410156\" xlink:href=\"#DejaVuSans-49\"/>\n       <use x=\"159.033203\" xlink:href=\"#DejaVuSans-50\"/>\n       <use x=\"222.65625\" xlink:href=\"#DejaVuSans-50\"/>\n       <use x=\"286.279297\" xlink:href=\"#DejaVuSans-53\"/>\n      </g>\n     </g>\n    </g>\n    <g id=\"ytick_2\">\n     <g id=\"line2d_6\">\n      <g>\n       <use style=\"stroke:#000000;stroke-width:0.8;\" x=\"49.190625\" xlink:href=\"#m553879c170\" y=\"185.645158\"/>\n      </g>\n     </g>\n     <g id=\"text_6\">\n      <!-- 0.1250 -->\n      <g transform=\"translate(7.2 189.444377)scale(0.1 -0.1)\">\n       <use xlink:href=\"#DejaVuSans-48\"/>\n       <use x=\"63.623047\" xlink:href=\"#DejaVuSans-46\"/>\n       <use x=\"95.410156\" xlink:href=\"#DejaVuSans-49\"/>\n       <use x=\"159.033203\" xlink:href=\"#DejaVuSans-50\"/>\n       <use x=\"222.65625\" xlink:href=\"#DejaVuSans-53\"/>\n       <use x=\"286.279297\" xlink:href=\"#DejaVuSans-48\"/>\n      </g>\n     </g>\n    </g>\n    <g id=\"ytick_3\">\n     <g id=\"line2d_7\">\n      <g>\n       <use style=\"stroke:#000000;stroke-width:0.8;\" x=\"49.190625\" xlink:href=\"#m553879c170\" y=\"156.537501\"/>\n      </g>\n     </g>\n     <g id=\"text_7\">\n      <!-- 0.1275 -->\n      <g transform=\"translate(7.2 160.33672)scale(0.1 -0.1)\">\n       <defs>\n        <path d=\"M 8.203125 72.90625 \nL 55.078125 72.90625 \nL 55.078125 68.703125 \nL 28.609375 0 \nL 18.3125 0 \nL 43.21875 64.59375 \nL 8.203125 64.59375 \nz\n\" id=\"DejaVuSans-55\"/>\n       </defs>\n       <use xlink:href=\"#DejaVuSans-48\"/>\n       <use x=\"63.623047\" xlink:href=\"#DejaVuSans-46\"/>\n       <use x=\"95.410156\" xlink:href=\"#DejaVuSans-49\"/>\n       <use x=\"159.033203\" xlink:href=\"#DejaVuSans-50\"/>\n       <use x=\"222.65625\" xlink:href=\"#DejaVuSans-55\"/>\n       <use x=\"286.279297\" xlink:href=\"#DejaVuSans-53\"/>\n      </g>\n     </g>\n    </g>\n    <g id=\"ytick_4\">\n     <g id=\"line2d_8\">\n      <g>\n       <use style=\"stroke:#000000;stroke-width:0.8;\" x=\"49.190625\" xlink:href=\"#m553879c170\" y=\"127.429845\"/>\n      </g>\n     </g>\n     <g id=\"text_8\">\n      <!-- 0.1300 -->\n      <g transform=\"translate(7.2 131.229064)scale(0.1 -0.1)\">\n       <defs>\n        <path d=\"M 40.578125 39.3125 \nQ 47.65625 37.796875 51.625 33 \nQ 55.609375 28.21875 55.609375 21.1875 \nQ 55.609375 10.40625 48.1875 4.484375 \nQ 40.765625 -1.421875 27.09375 -1.421875 \nQ 22.515625 -1.421875 17.65625 -0.515625 \nQ 12.796875 0.390625 7.625 2.203125 \nL 7.625 11.71875 \nQ 11.71875 9.328125 16.59375 8.109375 \nQ 21.484375 6.890625 26.8125 6.890625 \nQ 36.078125 6.890625 40.9375 10.546875 \nQ 45.796875 14.203125 45.796875 21.1875 \nQ 45.796875 27.640625 41.28125 31.265625 \nQ 36.765625 34.90625 28.71875 34.90625 \nL 20.21875 34.90625 \nL 20.21875 43.015625 \nL 29.109375 43.015625 \nQ 36.375 43.015625 40.234375 45.921875 \nQ 44.09375 48.828125 44.09375 54.296875 \nQ 44.09375 59.90625 40.109375 62.90625 \nQ 36.140625 65.921875 28.71875 65.921875 \nQ 24.65625 65.921875 20.015625 65.03125 \nQ 15.375 64.15625 9.8125 62.3125 \nL 9.8125 71.09375 \nQ 15.4375 72.65625 20.34375 73.4375 \nQ 25.25 74.21875 29.59375 74.21875 \nQ 40.828125 74.21875 47.359375 69.109375 \nQ 53.90625 64.015625 53.90625 55.328125 \nQ 53.90625 49.265625 50.4375 45.09375 \nQ 46.96875 40.921875 40.578125 39.3125 \nz\n\" id=\"DejaVuSans-51\"/>\n       </defs>\n       <use xlink:href=\"#DejaVuSans-48\"/>\n       <use x=\"63.623047\" xlink:href=\"#DejaVuSans-46\"/>\n       <use x=\"95.410156\" xlink:href=\"#DejaVuSans-49\"/>\n       <use x=\"159.033203\" xlink:href=\"#DejaVuSans-51\"/>\n       <use x=\"222.65625\" xlink:href=\"#DejaVuSans-48\"/>\n       <use x=\"286.279297\" xlink:href=\"#DejaVuSans-48\"/>\n      </g>\n     </g>\n    </g>\n    <g id=\"ytick_5\">\n     <g id=\"line2d_9\">\n      <g>\n       <use style=\"stroke:#000000;stroke-width:0.8;\" x=\"49.190625\" xlink:href=\"#m553879c170\" y=\"98.322188\"/>\n      </g>\n     </g>\n     <g id=\"text_9\">\n      <!-- 0.1325 -->\n      <g transform=\"translate(7.2 102.121407)scale(0.1 -0.1)\">\n       <use xlink:href=\"#DejaVuSans-48\"/>\n       <use x=\"63.623047\" xlink:href=\"#DejaVuSans-46\"/>\n       <use x=\"95.410156\" xlink:href=\"#DejaVuSans-49\"/>\n       <use x=\"159.033203\" xlink:href=\"#DejaVuSans-51\"/>\n       <use x=\"222.65625\" xlink:href=\"#DejaVuSans-50\"/>\n       <use x=\"286.279297\" xlink:href=\"#DejaVuSans-53\"/>\n      </g>\n     </g>\n    </g>\n    <g id=\"ytick_6\">\n     <g id=\"line2d_10\">\n      <g>\n       <use style=\"stroke:#000000;stroke-width:0.8;\" x=\"49.190625\" xlink:href=\"#m553879c170\" y=\"69.214532\"/>\n      </g>\n     </g>\n     <g id=\"text_10\">\n      <!-- 0.1350 -->\n      <g transform=\"translate(7.2 73.013751)scale(0.1 -0.1)\">\n       <use xlink:href=\"#DejaVuSans-48\"/>\n       <use x=\"63.623047\" xlink:href=\"#DejaVuSans-46\"/>\n       <use x=\"95.410156\" xlink:href=\"#DejaVuSans-49\"/>\n       <use x=\"159.033203\" xlink:href=\"#DejaVuSans-51\"/>\n       <use x=\"222.65625\" xlink:href=\"#DejaVuSans-53\"/>\n       <use x=\"286.279297\" xlink:href=\"#DejaVuSans-48\"/>\n      </g>\n     </g>\n    </g>\n    <g id=\"ytick_7\">\n     <g id=\"line2d_11\">\n      <g>\n       <use style=\"stroke:#000000;stroke-width:0.8;\" x=\"49.190625\" xlink:href=\"#m553879c170\" y=\"40.106875\"/>\n      </g>\n     </g>\n     <g id=\"text_11\">\n      <!-- 0.1375 -->\n      <g transform=\"translate(7.2 43.906094)scale(0.1 -0.1)\">\n       <use xlink:href=\"#DejaVuSans-48\"/>\n       <use x=\"63.623047\" xlink:href=\"#DejaVuSans-46\"/>\n       <use x=\"95.410156\" xlink:href=\"#DejaVuSans-49\"/>\n       <use x=\"159.033203\" xlink:href=\"#DejaVuSans-51\"/>\n       <use x=\"222.65625\" xlink:href=\"#DejaVuSans-55\"/>\n       <use x=\"286.279297\" xlink:href=\"#DejaVuSans-53\"/>\n      </g>\n     </g>\n    </g>\n    <g id=\"ytick_8\">\n     <g id=\"line2d_12\">\n      <g>\n       <use style=\"stroke:#000000;stroke-width:0.8;\" x=\"49.190625\" xlink:href=\"#m553879c170\" y=\"10.999219\"/>\n      </g>\n     </g>\n     <g id=\"text_12\">\n      <!-- 0.1400 -->\n      <g transform=\"translate(7.2 14.798438)scale(0.1 -0.1)\">\n       <use xlink:href=\"#DejaVuSans-48\"/>\n       <use x=\"63.623047\" xlink:href=\"#DejaVuSans-46\"/>\n       <use x=\"95.410156\" xlink:href=\"#DejaVuSans-49\"/>\n       <use x=\"159.033203\" xlink:href=\"#DejaVuSans-52\"/>\n       <use x=\"222.65625\" xlink:href=\"#DejaVuSans-48\"/>\n       <use x=\"286.279297\" xlink:href=\"#DejaVuSans-48\"/>\n      </g>\n     </g>\n    </g>\n   </g>\n   <g id=\"line2d_13\">\n    <path clip-path=\"url(#p6d7da7f1bc)\" d=\"M 64.408807 202.865277 \nL 81.317898 209.315637 \nL 98.226989 213.732671 \nL 115.13608 216.098157 \nL 132.04517 216.404811 \nL 148.954261 214.65582 \nL 165.863352 210.863335 \nL 182.772443 205.04767 \nL 199.681534 197.238159 \nL 216.590625 187.470503 \nL 233.499716 175.785811 \nL 250.408807 162.230483 \nL 267.317898 146.854397 \nL 284.226989 129.711025 \nL 301.13608 110.855642 \nL 318.04517 90.345269 \nL 334.954261 68.237921 \nL 351.863352 44.591899 \nL 368.772443 19.466214 \n\" style=\"fill:none;stroke:#1f77b4;stroke-linecap:square;stroke-width:1.5;\"/>\n   </g>\n   <g id=\"line2d_14\">\n    <path clip-path=\"url(#p6d7da7f1bc)\" d=\"M 64.408807 202.67082 \nL 81.317898 208.863514 \nL 98.226989 212.975272 \nL 115.13608 215.00528 \nL 132.04517 214.963248 \nL 148.954261 212.868584 \nL 165.863352 208.749038 \nL 182.772443 202.639952 \nL 199.681534 194.583589 \nL 216.590625 184.626757 \nL 233.499716 172.820847 \nL 250.408807 159.220448 \nL 267.317898 143.882896 \nL 284.226989 126.866903 \nL 301.13608 108.232883 \nL 318.04517 88.041469 \nL 334.954261 66.353728 \nL 351.863352 43.230504 \nL 368.772443 18.732084 \n\" style=\"fill:none;stroke:#ff7f0e;stroke-linecap:square;stroke-width:1.5;\"/>\n   </g>\n   <g id=\"patch_3\">\n    <path d=\"M 49.190625 226.288447 \nL 49.190625 8.848447 \n\" style=\"fill:none;stroke:#000000;stroke-linecap:square;stroke-linejoin:miter;stroke-width:0.8;\"/>\n   </g>\n   <g id=\"patch_4\">\n    <path d=\"M 383.990625 226.288447 \nL 383.990625 8.848447 \n\" style=\"fill:none;stroke:#000000;stroke-linecap:square;stroke-linejoin:miter;stroke-width:0.8;\"/>\n   </g>\n   <g id=\"patch_5\">\n    <path d=\"M 49.190625 226.288447 \nL 383.990625 226.288447 \n\" style=\"fill:none;stroke:#000000;stroke-linecap:square;stroke-linejoin:miter;stroke-width:0.8;\"/>\n   </g>\n   <g id=\"patch_6\">\n    <path d=\"M 49.190625 8.848447 \nL 383.990625 8.848447 \n\" style=\"fill:none;stroke:#000000;stroke-linecap:square;stroke-linejoin:miter;stroke-width:0.8;\"/>\n   </g>\n  </g>\n </g>\n <defs>\n  <clipPath id=\"p6d7da7f1bc\">\n   <rect height=\"217.44\" width=\"334.8\" x=\"49.190625\" y=\"8.848447\"/>\n  </clipPath>\n </defs>\n</svg>\n",
      "image/png": "[encoded data removed]"
     },
     "metadata": {
      "needs_background": "light"
     }
    }
   ],
   "source": [
    "errors_linear_y = np.mean(errors_linear, axis=0)\n",
    "errors_times_y = np.mean(errors_times, axis=0)\n",
    "lasso_weights = np.arange(0.05, 1, 0.05)\n",
    "plt.plot(lasso_weights, errors_times_y)\n",
    "plt.plot(lasso_weights, errors_linear_y)\n",
    "# Will just use linear combination\n",
    "best_error = np.min(errors_times_y)\n",
    "best_w = lasso_weights[errors_times_y == best_error]\n",
    "print(best_w)"
   ]
  },
  {
   "cell_type": "code",
   "execution_count": 105,
   "metadata": {},
   "outputs": [],
   "source": [
    "xgb = XGBRegressor(n_jobs=1,\n",
    "    gamma=0,\n",
    "    subsample=0.8,\n",
    "    colsample_bytree=0.5,\n",
    "    learning_rate=0.01,\n",
    "    max_depth=3,\n",
    "    n_estimators=10000).fit(X, y_log)\n",
    "lasso = Lasso(random_state=0, max_iter=50000, alpha=0.000278).fit(X, y_log)"
   ]
  },
  {
   "cell_type": "code",
   "execution_count": 110,
   "metadata": {
    "tags": []
   },
   "outputs": [],
   "source": [
    "# Prediction\n",
    "y_pred_xgb = xgb.predict(X_test)\n",
    "y_pred_lasso = lasso.predict(X_test)\n",
    "# y_pred = y_pred_lasso * best_w + y_pred_xgb * (1 - best_w)\n",
    "y_pred = y_pred_lasso ** best_w * y_pred_xgb ** (1 - best_w)\n",
    "y_final = np.exp(y_pred) - 1\n",
    "test_data['SalePrice'] = y_final\n",
    "submission = test_data[[c for c in test_data.columns if c in submit]]\n",
    "submission.to_csv('./data/teamJarvis_lasso_xgb.csv', index=False)"
   ]
  },
  {
   "cell_type": "code",
   "execution_count": null,
   "metadata": {},
   "outputs": [],
   "source": []
  }
 ]
}