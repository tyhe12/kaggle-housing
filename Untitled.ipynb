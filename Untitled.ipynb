{
 "cells": [
  {
   "cell_type": "code",
   "execution_count": 1,
   "id": "desirable-superior",
   "metadata": {},
   "outputs": [
    {
     "name": "stderr",
     "output_type": "stream",
     "text": [
      "Using TensorFlow backend.\n",
      "/Library/Frameworks/Python.framework/Versions/3.6/lib/python3.6/importlib/_bootstrap.py:205: RuntimeWarning: compiletime version 3.5 of module 'tensorflow.python.framework.fast_tensor_util' does not match runtime version 3.6\n",
      "  return f(*args, **kwds)\n"
     ]
    }
   ],
   "source": [
    "import numpy as np\n",
    "import pandas as pd\n",
    "import keras"
   ]
  },
  {
   "cell_type": "code",
   "execution_count": 2,
   "id": "associate-glory",
   "metadata": {},
   "outputs": [],
   "source": [
    "train = pd.read_csv('./data/train.csv')\n",
    "test = pd.read_csv('./data/test.csv')"
   ]
  },
  {
   "cell_type": "code",
   "execution_count": null,
   "id": "pointed-performer",
   "metadata": {},
   "outputs": [],
   "source": [
    "sale_price = train_data['SalePrice']\n",
    "train_data = train_data('')\n",
    "numerical = train_data.dtypes[train_data.dtypes != \"object\"].index\n",
    "numerical_data = train_data[numerical]\n",
    "numerical_data['SalePrice'] = sale_price"
   ]
  },
  {
   "cell_type": "code",
   "execution_count": 13,
   "id": "attractive-supply",
   "metadata": {},
   "outputs": [
    {
     "name": "stderr",
     "output_type": "stream",
     "text": [
      "/Library/Frameworks/Python.framework/Versions/3.6/lib/python3.6/site-packages/pandas/core/frame.py:4327: SettingWithCopyWarning: \n",
      "A value is trying to be set on a copy of a slice from a DataFrame\n",
      "\n",
      "See the caveats in the documentation: https://pandas.pydata.org/pandas-docs/stable/user_guide/indexing.html#returning-a-view-versus-a-copy\n",
      "  downcast=downcast,\n"
     ]
    }
   ],
   "source": [
    "# From https://www.kaggle.com/pmarcelino/comprehensive-data-exploration-with-python.\n",
    "features = ['OverallQual', 'GrLivArea', 'GarageCars', 'TotalBsmtSF', 'FullBath', 'YearBuilt']\n",
    "#features = ['OverallQual', 'OverallCond', 'YearBuilt', 'YearRemodAdd', 'TotalBsmtSF', '1stFlrSF', \n",
    "#            '2ndFlrSF', 'GrLivArea', 'TotRmsAbvGrd', 'GarageCars', 'GarageArea'] \n",
    "            #'Neighborhood', 'ExterQual', 'BsmtQual', 'KitchenQual']\n",
    "train_targets = train.SalePrice\n",
    "train_data = train[features]\n",
    "test_data = test[features]\n",
    "train_data.fillna(0, inplace=True)\n",
    "test_data.fillna(0, inplace=True)"
   ]
  },
  {
   "cell_type": "code",
   "execution_count": 14,
   "id": "related-subject",
   "metadata": {},
   "outputs": [],
   "source": [
    "# Preprocess data.\n",
    "mean = train_data.mean(axis=0)\n",
    "std = train_data.std(axis=0)\n",
    "train_data = (train_data - mean) / std\n",
    "test_data = (test_data - mean) / std"
   ]
  },
  {
   "cell_type": "code",
   "execution_count": 15,
   "id": "fossil-consumer",
   "metadata": {},
   "outputs": [],
   "source": [
    "# Handling NaN values\n",
    "#mean2 = test_data['GarageCars'].mean()\n",
    "#mean3 = test_data['TotalBsmtSF'].mean()\n",
    "\n",
    "#test_data = np.array(test_data)\n",
    "#test_data[1116][2] = mean2\n",
    "#test_data[660][3] = mean3"
   ]
  },
  {
   "cell_type": "code",
   "execution_count": 23,
   "id": "ready-calculation",
   "metadata": {},
   "outputs": [],
   "source": [
    "# Build the model.\n",
    "from keras import models\n",
    "from keras import layers\n",
    "from keras.layers.normalization import BatchNormalization\n",
    "from keras import optimizers\n",
    "\n",
    "model = models.Sequential()\n",
    "model.add(layers.Dense(60, activation='relu', input_shape=(train_data.shape[1],)))\n",
    "model.add(BatchNormalization())\n",
    "model.add(layers.Dense(60, activation='relu'))\n",
    "model.add(BatchNormalization())\n",
    "model.add(layers.Dense(1))\n",
    "\n",
    "#model.compile(optimizer='adam', loss='mse', metrics=['mae', 'acc'])\n",
    "model.compile(optimizer='adam', loss='mse')"
   ]
  },
  {
   "cell_type": "code",
   "execution_count": 24,
   "id": "competent-radius",
   "metadata": {},
   "outputs": [
    {
     "name": "stdout",
     "output_type": "stream",
     "text": [
      "119.40141582489014\n"
     ]
    },
    {
     "data": {
      "text/plain": [
       "<keras.callbacks.History at 0x12efc7748>"
      ]
     },
     "execution_count": 24,
     "metadata": {},
     "output_type": "execute_result"
    }
   ],
   "source": [
    "# Train model.\n",
    "from time import time\n",
    "t1 = time()\n",
    "history = model.fit(train_data.values, train_targets.values, validation_split=0.2, epochs=1400, batch_size=32, verbose=0)\n",
    "t2 = time()\n",
    "print(t2 - t1)\n",
    "history"
   ]
  },
  {
   "cell_type": "code",
   "execution_count": 25,
   "id": "bibliographic-ceremony",
   "metadata": {},
   "outputs": [
    {
     "data": {
      "text/plain": [
       "[<matplotlib.lines.Line2D at 0x12efc7470>]"
      ]
     },
     "execution_count": 25,
     "metadata": {},
     "output_type": "execute_result"
    },
    {
     "data": {
      "image/png": "[encoded data removed]",
      "text/plain": [
       "<Figure size 432x288 with 1 Axes>"
      ]
     },
     "metadata": {
      "needs_background": "light"
     },
     "output_type": "display_data"
    }
   ],
   "source": [
    "# Plot learning history.\n",
    "import matplotlib.pyplot as plt\n",
    "plt.plot(history.history['loss'], 'r')\n",
    "plt.plot(history.history['val_loss'], 'b')"
   ]
  },
  {
   "cell_type": "code",
   "execution_count": 26,
   "id": "continent-ultimate",
   "metadata": {},
   "outputs": [
    {
     "ename": "KeyError",
     "evalue": "'mean_absolute_error'",
     "output_type": "error",
     "traceback": [
      "\u001b[0;31m---------------------------------------------------------------------------\u001b[0m",
      "\u001b[0;31mKeyError\u001b[0m                                  Traceback (most recent call last)",
      "\u001b[0;32m<ipython-input-26-fc9b01d6e340>\u001b[0m in \u001b[0;36m<module>\u001b[0;34m\u001b[0m\n\u001b[0;32m----> 1\u001b[0;31m \u001b[0mplt\u001b[0m\u001b[0;34m.\u001b[0m\u001b[0mplot\u001b[0m\u001b[0;34m(\u001b[0m\u001b[0mhistory\u001b[0m\u001b[0;34m.\u001b[0m\u001b[0mhistory\u001b[0m\u001b[0;34m[\u001b[0m\u001b[0;34m'mean_absolute_error'\u001b[0m\u001b[0;34m]\u001b[0m\u001b[0;34m,\u001b[0m \u001b[0;34m'r'\u001b[0m\u001b[0;34m)\u001b[0m\u001b[0;34m\u001b[0m\u001b[0m\n\u001b[0m\u001b[1;32m      2\u001b[0m \u001b[0mplt\u001b[0m\u001b[0;34m.\u001b[0m\u001b[0mplot\u001b[0m\u001b[0;34m(\u001b[0m\u001b[0mhistory\u001b[0m\u001b[0;34m.\u001b[0m\u001b[0mhistory\u001b[0m\u001b[0;34m[\u001b[0m\u001b[0;34m'val_mean_absolute_error'\u001b[0m\u001b[0;34m]\u001b[0m\u001b[0;34m,\u001b[0m \u001b[0;34m'b'\u001b[0m\u001b[0;34m)\u001b[0m\u001b[0;34m\u001b[0m\u001b[0m\n",
      "\u001b[0;31mKeyError\u001b[0m: 'mean_absolute_error'"
     ]
    }
   ],
   "source": [
    "plt.plot(history.history['mean_absolute_error'], 'r')\n",
    "plt.plot(history.history['val_mean_absolute_error'], 'b')"
   ]
  },
  {
   "cell_type": "code",
   "execution_count": 27,
   "id": "legal-energy",
   "metadata": {},
   "outputs": [
    {
     "name": "stdout",
     "output_type": "stream",
     "text": [
      "[[ 95424.1 ]\n",
      " [136857.08]\n",
      " [183792.64]\n",
      " ...\n",
      " [126970.05]\n",
      " [ 83511.19]\n",
      " [225027.69]]\n"
     ]
    }
   ],
   "source": [
    "# Get predictions.\n",
    "predicted_prices = model.predict(test_data.values)\n",
    "print(predicted_prices)"
   ]
  },
  {
   "cell_type": "code",
   "execution_count": 28,
   "id": "union-newsletter",
   "metadata": {},
   "outputs": [],
   "source": [
    "predicted_prices = np.squeeze(predicted_prices)\n",
    "predicted_prices = np.array(predicted_prices, dtype='float64')"
   ]
  },
  {
   "cell_type": "code",
   "execution_count": 29,
   "id": "accepted-conviction",
   "metadata": {},
   "outputs": [],
   "source": [
    "# Submit.\n",
    "my_submission = pd.DataFrame({'Id': test.Id, 'SalePrice': predicted_prices})\n",
    "my_submission.to_csv('./data/teamJarvis.csv', index=False)"
   ]
  },
  {
   "cell_type": "code",
   "execution_count": null,
   "id": "anticipated-yeast",
   "metadata": {},
   "outputs": [],
   "source": []
  }
 ],
 "metadata": {
  "kernelspec": {
   "display_name": "Python 3",
   "language": "python",
   "name": "python3"
  },
  "language_info": {
   "codemirror_mode": {
    "name": "ipython",
    "version": 3
   },
   "file_extension": ".py",
   "mimetype": "text/x-python",
   "name": "python",
   "nbconvert_exporter": "python",
   "pygments_lexer": "ipython3",
   "version": "3.6.1"
  }
 },
 "nbformat": 4,
 "nbformat_minor": 5
}
